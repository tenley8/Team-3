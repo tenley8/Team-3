{
 "cells": [
  {
   "cell_type": "markdown",
   "metadata": {},
   "source": [
    "# **COVID-19 Public Health Authority (PHU) cases Analysis**"
   ]
  },
  {
   "cell_type": "code",
   "execution_count": 2,
   "metadata": {},
   "outputs": [],
   "source": [
    "# Import our dependencies\n",
    "from sklearn.model_selection import train_test_split\n",
    "from sklearn.preprocessing import StandardScaler,OneHotEncoder\n",
    "import pandas as pd\n",
    "import tensorflow as tf\n",
    "import matplotlib.pyplot as plt\n",
    "%matplotlib inline\n",
    "import plotly.graph_objects as go\n",
    "import plotly.express as px"
   ]
  },
  {
   "cell_type": "markdown",
   "metadata": {},
   "source": [
    "#### **Import, analyze, clean, and preprocess a “real-world” classification dataset.**"
   ]
  },
  {
   "cell_type": "code",
   "execution_count": 3,
   "metadata": {},
   "outputs": [
    {
     "data": {
      "text/html": [
       "<div>\n",
       "<style scoped>\n",
       "    .dataframe tbody tr th:only-of-type {\n",
       "        vertical-align: middle;\n",
       "    }\n",
       "\n",
       "    .dataframe tbody tr th {\n",
       "        vertical-align: top;\n",
       "    }\n",
       "\n",
       "    .dataframe thead th {\n",
       "        text-align: right;\n",
       "    }\n",
       "</style>\n",
       "<table border=\"1\" class=\"dataframe\">\n",
       "  <thead>\n",
       "    <tr style=\"text-align: right;\">\n",
       "      <th></th>\n",
       "      <th>Row_ID</th>\n",
       "      <th>Accurate_Episode_Date</th>\n",
       "      <th>Case_Reported_Date</th>\n",
       "      <th>Test_Reported_Date</th>\n",
       "      <th>Specimen_Date</th>\n",
       "      <th>Age_Group</th>\n",
       "      <th>Client_Gender</th>\n",
       "      <th>Case_AcquisitionInfo</th>\n",
       "      <th>Outcome1</th>\n",
       "      <th>Outbreak_Related</th>\n",
       "      <th>Reporting_PHU</th>\n",
       "      <th>Reporting_PHU_Address</th>\n",
       "      <th>Reporting_PHU_City</th>\n",
       "      <th>Reporting_PHU_Postal_Code</th>\n",
       "      <th>Reporting_PHU_Website</th>\n",
       "      <th>Reporting_PHU_Latitude</th>\n",
       "      <th>Reporting_PHU_Longitude</th>\n",
       "    </tr>\n",
       "  </thead>\n",
       "  <tbody>\n",
       "    <tr>\n",
       "      <th>0</th>\n",
       "      <td>1</td>\n",
       "      <td>2020-03-07</td>\n",
       "      <td>2020-03-09</td>\n",
       "      <td>2020-03-11</td>\n",
       "      <td>2020-03-09</td>\n",
       "      <td>50s</td>\n",
       "      <td>MALE</td>\n",
       "      <td>Travel</td>\n",
       "      <td>Resolved</td>\n",
       "      <td>NaN</td>\n",
       "      <td>York Region Public Health Services</td>\n",
       "      <td>17250 Yonge Street</td>\n",
       "      <td>Newmarket</td>\n",
       "      <td>L3Y 6Z1</td>\n",
       "      <td>www.york.ca/wps/portal/yorkhome/health/</td>\n",
       "      <td>44.048023</td>\n",
       "      <td>-79.480239</td>\n",
       "    </tr>\n",
       "    <tr>\n",
       "      <th>1</th>\n",
       "      <td>2</td>\n",
       "      <td>2020-03-02</td>\n",
       "      <td>2020-03-09</td>\n",
       "      <td>2020-03-09</td>\n",
       "      <td>2020-03-09</td>\n",
       "      <td>40s</td>\n",
       "      <td>MALE</td>\n",
       "      <td>Travel</td>\n",
       "      <td>Resolved</td>\n",
       "      <td>NaN</td>\n",
       "      <td>Toronto Public Health</td>\n",
       "      <td>277 Victoria Street, 5th Floor</td>\n",
       "      <td>Toronto</td>\n",
       "      <td>M5B 1W2</td>\n",
       "      <td>www.toronto.ca/community-people/health-wellnes...</td>\n",
       "      <td>43.656591</td>\n",
       "      <td>-79.379358</td>\n",
       "    </tr>\n",
       "    <tr>\n",
       "      <th>2</th>\n",
       "      <td>3</td>\n",
       "      <td>2020-03-06</td>\n",
       "      <td>2020-03-10</td>\n",
       "      <td>2020-03-10</td>\n",
       "      <td>2020-03-09</td>\n",
       "      <td>30s</td>\n",
       "      <td>FEMALE</td>\n",
       "      <td>Travel</td>\n",
       "      <td>Resolved</td>\n",
       "      <td>NaN</td>\n",
       "      <td>York Region Public Health Services</td>\n",
       "      <td>17250 Yonge Street</td>\n",
       "      <td>Newmarket</td>\n",
       "      <td>L3Y 6Z1</td>\n",
       "      <td>www.york.ca/wps/portal/yorkhome/health/</td>\n",
       "      <td>44.048023</td>\n",
       "      <td>-79.480239</td>\n",
       "    </tr>\n",
       "    <tr>\n",
       "      <th>3</th>\n",
       "      <td>4</td>\n",
       "      <td>2020-03-02</td>\n",
       "      <td>2020-03-09</td>\n",
       "      <td>2020-03-12</td>\n",
       "      <td>2020-03-07</td>\n",
       "      <td>40s</td>\n",
       "      <td>MALE</td>\n",
       "      <td>Travel</td>\n",
       "      <td>Resolved</td>\n",
       "      <td>NaN</td>\n",
       "      <td>Ottawa Public Health</td>\n",
       "      <td>100 Constellation Drive</td>\n",
       "      <td>Ottawa</td>\n",
       "      <td>K2G 6J8</td>\n",
       "      <td>www.ottawapublichealth.ca</td>\n",
       "      <td>45.345665</td>\n",
       "      <td>-75.763912</td>\n",
       "    </tr>\n",
       "    <tr>\n",
       "      <th>4</th>\n",
       "      <td>5</td>\n",
       "      <td>2020-03-03</td>\n",
       "      <td>2020-03-10</td>\n",
       "      <td>2020-03-11</td>\n",
       "      <td>2020-03-09</td>\n",
       "      <td>30s</td>\n",
       "      <td>MALE</td>\n",
       "      <td>Travel</td>\n",
       "      <td>Resolved</td>\n",
       "      <td>NaN</td>\n",
       "      <td>Toronto Public Health</td>\n",
       "      <td>277 Victoria Street, 5th Floor</td>\n",
       "      <td>Toronto</td>\n",
       "      <td>M5B 1W2</td>\n",
       "      <td>www.toronto.ca/community-people/health-wellnes...</td>\n",
       "      <td>43.656591</td>\n",
       "      <td>-79.379358</td>\n",
       "    </tr>\n",
       "  </tbody>\n",
       "</table>\n",
       "</div>"
      ],
      "text/plain": [
       "   Row_ID Accurate_Episode_Date Case_Reported_Date Test_Reported_Date  \\\n",
       "0       1            2020-03-07         2020-03-09         2020-03-11   \n",
       "1       2            2020-03-02         2020-03-09         2020-03-09   \n",
       "2       3            2020-03-06         2020-03-10         2020-03-10   \n",
       "3       4            2020-03-02         2020-03-09         2020-03-12   \n",
       "4       5            2020-03-03         2020-03-10         2020-03-11   \n",
       "\n",
       "  Specimen_Date Age_Group Client_Gender Case_AcquisitionInfo  Outcome1  \\\n",
       "0    2020-03-09       50s          MALE               Travel  Resolved   \n",
       "1    2020-03-09       40s          MALE               Travel  Resolved   \n",
       "2    2020-03-09       30s        FEMALE               Travel  Resolved   \n",
       "3    2020-03-07       40s          MALE               Travel  Resolved   \n",
       "4    2020-03-09       30s          MALE               Travel  Resolved   \n",
       "\n",
       "  Outbreak_Related                       Reporting_PHU  \\\n",
       "0              NaN  York Region Public Health Services   \n",
       "1              NaN               Toronto Public Health   \n",
       "2              NaN  York Region Public Health Services   \n",
       "3              NaN                Ottawa Public Health   \n",
       "4              NaN               Toronto Public Health   \n",
       "\n",
       "            Reporting_PHU_Address Reporting_PHU_City  \\\n",
       "0              17250 Yonge Street          Newmarket   \n",
       "1  277 Victoria Street, 5th Floor            Toronto   \n",
       "2              17250 Yonge Street          Newmarket   \n",
       "3         100 Constellation Drive             Ottawa   \n",
       "4  277 Victoria Street, 5th Floor            Toronto   \n",
       "\n",
       "  Reporting_PHU_Postal_Code  \\\n",
       "0                   L3Y 6Z1   \n",
       "1                   M5B 1W2   \n",
       "2                   L3Y 6Z1   \n",
       "3                   K2G 6J8   \n",
       "4                   M5B 1W2   \n",
       "\n",
       "                               Reporting_PHU_Website  Reporting_PHU_Latitude  \\\n",
       "0            www.york.ca/wps/portal/yorkhome/health/               44.048023   \n",
       "1  www.toronto.ca/community-people/health-wellnes...               43.656591   \n",
       "2            www.york.ca/wps/portal/yorkhome/health/               44.048023   \n",
       "3                          www.ottawapublichealth.ca               45.345665   \n",
       "4  www.toronto.ca/community-people/health-wellnes...               43.656591   \n",
       "\n",
       "   Reporting_PHU_Longitude  \n",
       "0               -79.480239  \n",
       "1               -79.379358  \n",
       "2               -79.480239  \n",
       "3               -75.763912  \n",
       "4               -79.379358  "
      ]
     },
     "execution_count": 3,
     "metadata": {},
     "output_type": "execute_result"
    }
   ],
   "source": [
    "# Import our input dataset\n",
    "df = pd.read_csv('./Resources/Ontario.csv')\n",
    "df.head()"
   ]
  },
  {
   "cell_type": "markdown",
   "metadata": {},
   "source": [
    "#### **Inspect Data**"
   ]
  },
  {
   "cell_type": "code",
   "execution_count": 4,
   "metadata": {},
   "outputs": [
    {
     "data": {
      "text/plain": [
       "(36178, 17)"
      ]
     },
     "execution_count": 4,
     "metadata": {},
     "output_type": "execute_result"
    }
   ],
   "source": [
    "# show number of columns and rows\n",
    "df.shape"
   ]
  },
  {
   "cell_type": "code",
   "execution_count": 5,
   "metadata": {},
   "outputs": [
    {
     "data": {
      "text/plain": [
       "Index(['Row_ID', 'Accurate_Episode_Date', 'Case_Reported_Date',\n",
       "       'Test_Reported_Date', 'Specimen_Date', 'Age_Group', 'Client_Gender',\n",
       "       'Case_AcquisitionInfo', 'Outcome1', 'Outbreak_Related', 'Reporting_PHU',\n",
       "       'Reporting_PHU_Address', 'Reporting_PHU_City',\n",
       "       'Reporting_PHU_Postal_Code', 'Reporting_PHU_Website',\n",
       "       'Reporting_PHU_Latitude', 'Reporting_PHU_Longitude'],\n",
       "      dtype='object')"
      ]
     },
     "execution_count": 5,
     "metadata": {},
     "output_type": "execute_result"
    }
   ],
   "source": [
    "# show DF Columns\n",
    "df.columns"
   ]
  },
  {
   "cell_type": "code",
   "execution_count": 6,
   "metadata": {},
   "outputs": [
    {
     "data": {
      "text/plain": [
       "Row_ID                         int64\n",
       "Accurate_Episode_Date         object\n",
       "Case_Reported_Date            object\n",
       "Test_Reported_Date            object\n",
       "Specimen_Date                 object\n",
       "Age_Group                     object\n",
       "Client_Gender                 object\n",
       "Case_AcquisitionInfo          object\n",
       "Outcome1                      object\n",
       "Outbreak_Related              object\n",
       "Reporting_PHU                 object\n",
       "Reporting_PHU_Address         object\n",
       "Reporting_PHU_City            object\n",
       "Reporting_PHU_Postal_Code     object\n",
       "Reporting_PHU_Website         object\n",
       "Reporting_PHU_Latitude       float64\n",
       "Reporting_PHU_Longitude      float64\n",
       "dtype: object"
      ]
     },
     "execution_count": 6,
     "metadata": {},
     "output_type": "execute_result"
    }
   ],
   "source": [
    "# Return data types\n",
    "df.dtypes"
   ]
  },
  {
   "cell_type": "markdown",
   "metadata": {},
   "source": [
    "#### **Clean Data**"
   ]
  },
  {
   "cell_type": "code",
   "execution_count": 7,
   "metadata": {},
   "outputs": [
    {
     "name": "stdout",
     "output_type": "stream",
     "text": [
      "Column Row_ID has 0 null values\n",
      "Column Accurate_Episode_Date has 2 null values\n",
      "Column Case_Reported_Date has 0 null values\n",
      "Column Test_Reported_Date has 424 null values\n",
      "Column Specimen_Date has 304 null values\n",
      "Column Age_Group has 0 null values\n",
      "Column Client_Gender has 0 null values\n",
      "Column Case_AcquisitionInfo has 0 null values\n",
      "Column Outcome1 has 0 null values\n",
      "Column Outbreak_Related has 21732 null values\n",
      "Column Reporting_PHU has 0 null values\n",
      "Column Reporting_PHU_Address has 0 null values\n",
      "Column Reporting_PHU_City has 0 null values\n",
      "Column Reporting_PHU_Postal_Code has 0 null values\n",
      "Column Reporting_PHU_Website has 0 null values\n",
      "Column Reporting_PHU_Latitude has 0 null values\n",
      "Column Reporting_PHU_Longitude has 0 null values\n"
     ]
    }
   ],
   "source": [
    "# Return columns with Null values \n",
    "for column in df.columns:\n",
    "    print(f\"Column {column} has {df[column].isnull().sum()} null values\")"
   ]
  },
  {
   "cell_type": "code",
   "execution_count": 8,
   "metadata": {},
   "outputs": [
    {
     "name": "stdout",
     "output_type": "stream",
     "text": [
      "Duplicate entries: 0\n"
     ]
    }
   ],
   "source": [
    "# Retrun df duplicates\n",
    "print(f\"Duplicate entries: {df.duplicated().sum()}\")"
   ]
  },
  {
   "cell_type": "markdown",
   "metadata": {},
   "source": [
    "### **Aggregate data by Accurate_Episode_date**"
   ]
  },
  {
   "cell_type": "code",
   "execution_count": 9,
   "metadata": {},
   "outputs": [
    {
     "data": {
      "text/html": [
       "<div>\n",
       "<style scoped>\n",
       "    .dataframe tbody tr th:only-of-type {\n",
       "        vertical-align: middle;\n",
       "    }\n",
       "\n",
       "    .dataframe tbody tr th {\n",
       "        vertical-align: top;\n",
       "    }\n",
       "\n",
       "    .dataframe thead th {\n",
       "        text-align: right;\n",
       "    }\n",
       "</style>\n",
       "<table border=\"1\" class=\"dataframe\">\n",
       "  <thead>\n",
       "    <tr style=\"text-align: right;\">\n",
       "      <th></th>\n",
       "      <th>Row_ID</th>\n",
       "      <th>Case_Reported_Date</th>\n",
       "      <th>Test_Reported_Date</th>\n",
       "      <th>Specimen_Date</th>\n",
       "      <th>Age_Group</th>\n",
       "      <th>Client_Gender</th>\n",
       "      <th>Case_AcquisitionInfo</th>\n",
       "      <th>Outcome1</th>\n",
       "      <th>Outbreak_Related</th>\n",
       "      <th>Reporting_PHU</th>\n",
       "      <th>Reporting_PHU_Address</th>\n",
       "      <th>Reporting_PHU_City</th>\n",
       "      <th>Reporting_PHU_Postal_Code</th>\n",
       "      <th>Reporting_PHU_Website</th>\n",
       "      <th>Reporting_PHU_Latitude</th>\n",
       "      <th>Reporting_PHU_Longitude</th>\n",
       "    </tr>\n",
       "    <tr>\n",
       "      <th>Accurate_Episode_Date</th>\n",
       "      <th></th>\n",
       "      <th></th>\n",
       "      <th></th>\n",
       "      <th></th>\n",
       "      <th></th>\n",
       "      <th></th>\n",
       "      <th></th>\n",
       "      <th></th>\n",
       "      <th></th>\n",
       "      <th></th>\n",
       "      <th></th>\n",
       "      <th></th>\n",
       "      <th></th>\n",
       "      <th></th>\n",
       "      <th></th>\n",
       "      <th></th>\n",
       "    </tr>\n",
       "  </thead>\n",
       "  <tbody>\n",
       "    <tr>\n",
       "      <th>2020-01-01</th>\n",
       "      <td>2</td>\n",
       "      <td>2</td>\n",
       "      <td>2</td>\n",
       "      <td>2</td>\n",
       "      <td>2</td>\n",
       "      <td>2</td>\n",
       "      <td>2</td>\n",
       "      <td>2</td>\n",
       "      <td>0</td>\n",
       "      <td>2</td>\n",
       "      <td>2</td>\n",
       "      <td>2</td>\n",
       "      <td>2</td>\n",
       "      <td>2</td>\n",
       "      <td>2</td>\n",
       "      <td>2</td>\n",
       "    </tr>\n",
       "    <tr>\n",
       "      <th>2020-01-10</th>\n",
       "      <td>1</td>\n",
       "      <td>1</td>\n",
       "      <td>1</td>\n",
       "      <td>1</td>\n",
       "      <td>1</td>\n",
       "      <td>1</td>\n",
       "      <td>1</td>\n",
       "      <td>1</td>\n",
       "      <td>0</td>\n",
       "      <td>1</td>\n",
       "      <td>1</td>\n",
       "      <td>1</td>\n",
       "      <td>1</td>\n",
       "      <td>1</td>\n",
       "      <td>1</td>\n",
       "      <td>1</td>\n",
       "    </tr>\n",
       "    <tr>\n",
       "      <th>2020-01-21</th>\n",
       "      <td>1</td>\n",
       "      <td>1</td>\n",
       "      <td>1</td>\n",
       "      <td>1</td>\n",
       "      <td>1</td>\n",
       "      <td>1</td>\n",
       "      <td>1</td>\n",
       "      <td>1</td>\n",
       "      <td>0</td>\n",
       "      <td>1</td>\n",
       "      <td>1</td>\n",
       "      <td>1</td>\n",
       "      <td>1</td>\n",
       "      <td>1</td>\n",
       "      <td>1</td>\n",
       "      <td>1</td>\n",
       "    </tr>\n",
       "    <tr>\n",
       "      <th>2020-01-22</th>\n",
       "      <td>1</td>\n",
       "      <td>1</td>\n",
       "      <td>1</td>\n",
       "      <td>1</td>\n",
       "      <td>1</td>\n",
       "      <td>1</td>\n",
       "      <td>1</td>\n",
       "      <td>1</td>\n",
       "      <td>0</td>\n",
       "      <td>1</td>\n",
       "      <td>1</td>\n",
       "      <td>1</td>\n",
       "      <td>1</td>\n",
       "      <td>1</td>\n",
       "      <td>1</td>\n",
       "      <td>1</td>\n",
       "    </tr>\n",
       "    <tr>\n",
       "      <th>2020-01-24</th>\n",
       "      <td>1</td>\n",
       "      <td>1</td>\n",
       "      <td>1</td>\n",
       "      <td>1</td>\n",
       "      <td>1</td>\n",
       "      <td>1</td>\n",
       "      <td>1</td>\n",
       "      <td>1</td>\n",
       "      <td>0</td>\n",
       "      <td>1</td>\n",
       "      <td>1</td>\n",
       "      <td>1</td>\n",
       "      <td>1</td>\n",
       "      <td>1</td>\n",
       "      <td>1</td>\n",
       "      <td>1</td>\n",
       "    </tr>\n",
       "    <tr>\n",
       "      <th>...</th>\n",
       "      <td>...</td>\n",
       "      <td>...</td>\n",
       "      <td>...</td>\n",
       "      <td>...</td>\n",
       "      <td>...</td>\n",
       "      <td>...</td>\n",
       "      <td>...</td>\n",
       "      <td>...</td>\n",
       "      <td>...</td>\n",
       "      <td>...</td>\n",
       "      <td>...</td>\n",
       "      <td>...</td>\n",
       "      <td>...</td>\n",
       "      <td>...</td>\n",
       "      <td>...</td>\n",
       "      <td>...</td>\n",
       "    </tr>\n",
       "    <tr>\n",
       "      <th>2020-07-03</th>\n",
       "      <td>74</td>\n",
       "      <td>74</td>\n",
       "      <td>72</td>\n",
       "      <td>72</td>\n",
       "      <td>74</td>\n",
       "      <td>74</td>\n",
       "      <td>74</td>\n",
       "      <td>74</td>\n",
       "      <td>7</td>\n",
       "      <td>74</td>\n",
       "      <td>74</td>\n",
       "      <td>74</td>\n",
       "      <td>74</td>\n",
       "      <td>74</td>\n",
       "      <td>74</td>\n",
       "      <td>74</td>\n",
       "    </tr>\n",
       "    <tr>\n",
       "      <th>2020-07-04</th>\n",
       "      <td>52</td>\n",
       "      <td>52</td>\n",
       "      <td>52</td>\n",
       "      <td>52</td>\n",
       "      <td>52</td>\n",
       "      <td>52</td>\n",
       "      <td>52</td>\n",
       "      <td>52</td>\n",
       "      <td>1</td>\n",
       "      <td>52</td>\n",
       "      <td>52</td>\n",
       "      <td>52</td>\n",
       "      <td>52</td>\n",
       "      <td>52</td>\n",
       "      <td>52</td>\n",
       "      <td>52</td>\n",
       "    </tr>\n",
       "    <tr>\n",
       "      <th>2020-07-05</th>\n",
       "      <td>54</td>\n",
       "      <td>54</td>\n",
       "      <td>53</td>\n",
       "      <td>53</td>\n",
       "      <td>54</td>\n",
       "      <td>54</td>\n",
       "      <td>54</td>\n",
       "      <td>54</td>\n",
       "      <td>0</td>\n",
       "      <td>54</td>\n",
       "      <td>54</td>\n",
       "      <td>54</td>\n",
       "      <td>54</td>\n",
       "      <td>54</td>\n",
       "      <td>54</td>\n",
       "      <td>54</td>\n",
       "    </tr>\n",
       "    <tr>\n",
       "      <th>2020-07-06</th>\n",
       "      <td>46</td>\n",
       "      <td>46</td>\n",
       "      <td>45</td>\n",
       "      <td>45</td>\n",
       "      <td>46</td>\n",
       "      <td>46</td>\n",
       "      <td>46</td>\n",
       "      <td>46</td>\n",
       "      <td>15</td>\n",
       "      <td>46</td>\n",
       "      <td>46</td>\n",
       "      <td>46</td>\n",
       "      <td>46</td>\n",
       "      <td>46</td>\n",
       "      <td>46</td>\n",
       "      <td>46</td>\n",
       "    </tr>\n",
       "    <tr>\n",
       "      <th>2020-07-07</th>\n",
       "      <td>2</td>\n",
       "      <td>2</td>\n",
       "      <td>2</td>\n",
       "      <td>2</td>\n",
       "      <td>2</td>\n",
       "      <td>2</td>\n",
       "      <td>2</td>\n",
       "      <td>2</td>\n",
       "      <td>0</td>\n",
       "      <td>2</td>\n",
       "      <td>2</td>\n",
       "      <td>2</td>\n",
       "      <td>2</td>\n",
       "      <td>2</td>\n",
       "      <td>2</td>\n",
       "      <td>2</td>\n",
       "    </tr>\n",
       "  </tbody>\n",
       "</table>\n",
       "<p>153 rows × 16 columns</p>\n",
       "</div>"
      ],
      "text/plain": [
       "                       Row_ID  Case_Reported_Date  Test_Reported_Date  \\\n",
       "Accurate_Episode_Date                                                   \n",
       "2020-01-01                  2                   2                   2   \n",
       "2020-01-10                  1                   1                   1   \n",
       "2020-01-21                  1                   1                   1   \n",
       "2020-01-22                  1                   1                   1   \n",
       "2020-01-24                  1                   1                   1   \n",
       "...                       ...                 ...                 ...   \n",
       "2020-07-03                 74                  74                  72   \n",
       "2020-07-04                 52                  52                  52   \n",
       "2020-07-05                 54                  54                  53   \n",
       "2020-07-06                 46                  46                  45   \n",
       "2020-07-07                  2                   2                   2   \n",
       "\n",
       "                       Specimen_Date  Age_Group  Client_Gender  \\\n",
       "Accurate_Episode_Date                                            \n",
       "2020-01-01                         2          2              2   \n",
       "2020-01-10                         1          1              1   \n",
       "2020-01-21                         1          1              1   \n",
       "2020-01-22                         1          1              1   \n",
       "2020-01-24                         1          1              1   \n",
       "...                              ...        ...            ...   \n",
       "2020-07-03                        72         74             74   \n",
       "2020-07-04                        52         52             52   \n",
       "2020-07-05                        53         54             54   \n",
       "2020-07-06                        45         46             46   \n",
       "2020-07-07                         2          2              2   \n",
       "\n",
       "                       Case_AcquisitionInfo  Outcome1  Outbreak_Related  \\\n",
       "Accurate_Episode_Date                                                     \n",
       "2020-01-01                                2         2                 0   \n",
       "2020-01-10                                1         1                 0   \n",
       "2020-01-21                                1         1                 0   \n",
       "2020-01-22                                1         1                 0   \n",
       "2020-01-24                                1         1                 0   \n",
       "...                                     ...       ...               ...   \n",
       "2020-07-03                               74        74                 7   \n",
       "2020-07-04                               52        52                 1   \n",
       "2020-07-05                               54        54                 0   \n",
       "2020-07-06                               46        46                15   \n",
       "2020-07-07                                2         2                 0   \n",
       "\n",
       "                       Reporting_PHU  Reporting_PHU_Address  \\\n",
       "Accurate_Episode_Date                                         \n",
       "2020-01-01                         2                      2   \n",
       "2020-01-10                         1                      1   \n",
       "2020-01-21                         1                      1   \n",
       "2020-01-22                         1                      1   \n",
       "2020-01-24                         1                      1   \n",
       "...                              ...                    ...   \n",
       "2020-07-03                        74                     74   \n",
       "2020-07-04                        52                     52   \n",
       "2020-07-05                        54                     54   \n",
       "2020-07-06                        46                     46   \n",
       "2020-07-07                         2                      2   \n",
       "\n",
       "                       Reporting_PHU_City  Reporting_PHU_Postal_Code  \\\n",
       "Accurate_Episode_Date                                                  \n",
       "2020-01-01                              2                          2   \n",
       "2020-01-10                              1                          1   \n",
       "2020-01-21                              1                          1   \n",
       "2020-01-22                              1                          1   \n",
       "2020-01-24                              1                          1   \n",
       "...                                   ...                        ...   \n",
       "2020-07-03                             74                         74   \n",
       "2020-07-04                             52                         52   \n",
       "2020-07-05                             54                         54   \n",
       "2020-07-06                             46                         46   \n",
       "2020-07-07                              2                          2   \n",
       "\n",
       "                       Reporting_PHU_Website  Reporting_PHU_Latitude  \\\n",
       "Accurate_Episode_Date                                                  \n",
       "2020-01-01                                 2                       2   \n",
       "2020-01-10                                 1                       1   \n",
       "2020-01-21                                 1                       1   \n",
       "2020-01-22                                 1                       1   \n",
       "2020-01-24                                 1                       1   \n",
       "...                                      ...                     ...   \n",
       "2020-07-03                                74                      74   \n",
       "2020-07-04                                52                      52   \n",
       "2020-07-05                                54                      54   \n",
       "2020-07-06                                46                      46   \n",
       "2020-07-07                                 2                       2   \n",
       "\n",
       "                       Reporting_PHU_Longitude  \n",
       "Accurate_Episode_Date                           \n",
       "2020-01-01                                   2  \n",
       "2020-01-10                                   1  \n",
       "2020-01-21                                   1  \n",
       "2020-01-22                                   1  \n",
       "2020-01-24                                   1  \n",
       "...                                        ...  \n",
       "2020-07-03                                  74  \n",
       "2020-07-04                                  52  \n",
       "2020-07-05                                  54  \n",
       "2020-07-06                                  46  \n",
       "2020-07-07                                   2  \n",
       "\n",
       "[153 rows x 16 columns]"
      ]
     },
     "execution_count": 9,
     "metadata": {},
     "output_type": "execute_result"
    }
   ],
   "source": [
    "df \\\n",
    ".groupby([\"Accurate_Episode_Date\"]) \\\n",
    ".count()"
   ]
  },
  {
   "cell_type": "markdown",
   "metadata": {},
   "source": [
    "### **Filter data by Public Health Units (PHU)**"
   ]
  },
  {
   "cell_type": "code",
   "execution_count": 10,
   "metadata": {},
   "outputs": [
    {
     "data": {
      "text/html": [
       "<div>\n",
       "<style scoped>\n",
       "    .dataframe tbody tr th:only-of-type {\n",
       "        vertical-align: middle;\n",
       "    }\n",
       "\n",
       "    .dataframe tbody tr th {\n",
       "        vertical-align: top;\n",
       "    }\n",
       "\n",
       "    .dataframe thead th {\n",
       "        text-align: right;\n",
       "    }\n",
       "</style>\n",
       "<table border=\"1\" class=\"dataframe\">\n",
       "  <thead>\n",
       "    <tr style=\"text-align: right;\">\n",
       "      <th></th>\n",
       "      <th>Reporting_PHU</th>\n",
       "      <th>Reporting_PHU_Latitude</th>\n",
       "      <th>Reporting_PHU_Longitude</th>\n",
       "      <th>Cases</th>\n",
       "      <th>OnsetWithin</th>\n",
       "    </tr>\n",
       "  </thead>\n",
       "  <tbody>\n",
       "    <tr>\n",
       "      <th>0</th>\n",
       "      <td>Algoma Public Health Unit</td>\n",
       "      <td>46.532373</td>\n",
       "      <td>-84.314836</td>\n",
       "      <td>24</td>\n",
       "      <td>current day</td>\n",
       "    </tr>\n",
       "    <tr>\n",
       "      <th>1</th>\n",
       "      <td>Brant County Health Unit</td>\n",
       "      <td>43.151811</td>\n",
       "      <td>-80.274374</td>\n",
       "      <td>133</td>\n",
       "      <td>current day</td>\n",
       "    </tr>\n",
       "    <tr>\n",
       "      <th>2</th>\n",
       "      <td>Chatham-Kent Health Unit</td>\n",
       "      <td>42.403861</td>\n",
       "      <td>-82.208561</td>\n",
       "      <td>162</td>\n",
       "      <td>current day</td>\n",
       "    </tr>\n",
       "    <tr>\n",
       "      <th>3</th>\n",
       "      <td>Durham Region Health Department</td>\n",
       "      <td>43.898605</td>\n",
       "      <td>-78.940341</td>\n",
       "      <td>1724</td>\n",
       "      <td>current day</td>\n",
       "    </tr>\n",
       "    <tr>\n",
       "      <th>4</th>\n",
       "      <td>Eastern Ontario Health Unit</td>\n",
       "      <td>45.029152</td>\n",
       "      <td>-74.736298</td>\n",
       "      <td>166</td>\n",
       "      <td>current day</td>\n",
       "    </tr>\n",
       "    <tr>\n",
       "      <th>5</th>\n",
       "      <td>Grey Bruce Health Unit</td>\n",
       "      <td>44.576196</td>\n",
       "      <td>-80.940980</td>\n",
       "      <td>107</td>\n",
       "      <td>current day</td>\n",
       "    </tr>\n",
       "    <tr>\n",
       "      <th>6</th>\n",
       "      <td>Haldimand-Norfolk Health Unit</td>\n",
       "      <td>42.847825</td>\n",
       "      <td>-80.303815</td>\n",
       "      <td>431</td>\n",
       "      <td>current day</td>\n",
       "    </tr>\n",
       "    <tr>\n",
       "      <th>7</th>\n",
       "      <td>Haliburton, Kawartha, Pine Ridge District Heal...</td>\n",
       "      <td>43.968173</td>\n",
       "      <td>-78.285792</td>\n",
       "      <td>201</td>\n",
       "      <td>current day</td>\n",
       "    </tr>\n",
       "    <tr>\n",
       "      <th>8</th>\n",
       "      <td>Halton Region Health Department</td>\n",
       "      <td>43.413997</td>\n",
       "      <td>-79.744796</td>\n",
       "      <td>781</td>\n",
       "      <td>current day</td>\n",
       "    </tr>\n",
       "    <tr>\n",
       "      <th>9</th>\n",
       "      <td>Hamilton Public Health Services</td>\n",
       "      <td>43.257631</td>\n",
       "      <td>-79.871341</td>\n",
       "      <td>847</td>\n",
       "      <td>current day</td>\n",
       "    </tr>\n",
       "    <tr>\n",
       "      <th>10</th>\n",
       "      <td>Hastings and Prince Edward Counties Health Unit</td>\n",
       "      <td>44.186674</td>\n",
       "      <td>-77.391446</td>\n",
       "      <td>44</td>\n",
       "      <td>current day</td>\n",
       "    </tr>\n",
       "    <tr>\n",
       "      <th>11</th>\n",
       "      <td>Huron Perth District Health Unit</td>\n",
       "      <td>43.368662</td>\n",
       "      <td>-81.001913</td>\n",
       "      <td>59</td>\n",
       "      <td>current day</td>\n",
       "    </tr>\n",
       "    <tr>\n",
       "      <th>12</th>\n",
       "      <td>Kingston, Frontenac and Lennox &amp; Addington Pub...</td>\n",
       "      <td>44.227874</td>\n",
       "      <td>-76.525211</td>\n",
       "      <td>104</td>\n",
       "      <td>current day</td>\n",
       "    </tr>\n",
       "    <tr>\n",
       "      <th>13</th>\n",
       "      <td>Lambton Public Health</td>\n",
       "      <td>42.986416</td>\n",
       "      <td>-82.404808</td>\n",
       "      <td>286</td>\n",
       "      <td>current day</td>\n",
       "    </tr>\n",
       "    <tr>\n",
       "      <th>14</th>\n",
       "      <td>Leeds, Grenville and Lanark District Health Unit</td>\n",
       "      <td>44.615843</td>\n",
       "      <td>-75.702833</td>\n",
       "      <td>354</td>\n",
       "      <td>current day</td>\n",
       "    </tr>\n",
       "    <tr>\n",
       "      <th>15</th>\n",
       "      <td>Middlesex-London Health Unit</td>\n",
       "      <td>42.981468</td>\n",
       "      <td>-81.254016</td>\n",
       "      <td>631</td>\n",
       "      <td>current day</td>\n",
       "    </tr>\n",
       "    <tr>\n",
       "      <th>16</th>\n",
       "      <td>Niagara Region Public Health Department</td>\n",
       "      <td>43.116537</td>\n",
       "      <td>-79.241220</td>\n",
       "      <td>763</td>\n",
       "      <td>current day</td>\n",
       "    </tr>\n",
       "    <tr>\n",
       "      <th>17</th>\n",
       "      <td>North Bay Parry Sound District Health Unit</td>\n",
       "      <td>46.313207</td>\n",
       "      <td>-79.467841</td>\n",
       "      <td>35</td>\n",
       "      <td>current day</td>\n",
       "    </tr>\n",
       "    <tr>\n",
       "      <th>18</th>\n",
       "      <td>Northwestern Health Unit</td>\n",
       "      <td>49.769615</td>\n",
       "      <td>-94.488254</td>\n",
       "      <td>41</td>\n",
       "      <td>current day</td>\n",
       "    </tr>\n",
       "    <tr>\n",
       "      <th>19</th>\n",
       "      <td>Ottawa Public Health</td>\n",
       "      <td>45.345665</td>\n",
       "      <td>-75.763912</td>\n",
       "      <td>2123</td>\n",
       "      <td>current day</td>\n",
       "    </tr>\n",
       "    <tr>\n",
       "      <th>20</th>\n",
       "      <td>Peel Public Health</td>\n",
       "      <td>43.647471</td>\n",
       "      <td>-79.708893</td>\n",
       "      <td>6027</td>\n",
       "      <td>current day</td>\n",
       "    </tr>\n",
       "    <tr>\n",
       "      <th>21</th>\n",
       "      <td>Peterborough Public Health</td>\n",
       "      <td>44.301632</td>\n",
       "      <td>-78.321347</td>\n",
       "      <td>95</td>\n",
       "      <td>current day</td>\n",
       "    </tr>\n",
       "    <tr>\n",
       "      <th>22</th>\n",
       "      <td>Porcupine Health Unit</td>\n",
       "      <td>48.472510</td>\n",
       "      <td>-81.328750</td>\n",
       "      <td>67</td>\n",
       "      <td>current day</td>\n",
       "    </tr>\n",
       "    <tr>\n",
       "      <th>23</th>\n",
       "      <td>Region of Waterloo, Public Health</td>\n",
       "      <td>43.462876</td>\n",
       "      <td>-80.520913</td>\n",
       "      <td>1313</td>\n",
       "      <td>current day</td>\n",
       "    </tr>\n",
       "    <tr>\n",
       "      <th>24</th>\n",
       "      <td>Renfrew County and District Health Unit</td>\n",
       "      <td>45.799406</td>\n",
       "      <td>-77.118727</td>\n",
       "      <td>29</td>\n",
       "      <td>current day</td>\n",
       "    </tr>\n",
       "    <tr>\n",
       "      <th>25</th>\n",
       "      <td>Simcoe Muskoka District Health Unit</td>\n",
       "      <td>44.410713</td>\n",
       "      <td>-79.686306</td>\n",
       "      <td>607</td>\n",
       "      <td>current day</td>\n",
       "    </tr>\n",
       "    <tr>\n",
       "      <th>26</th>\n",
       "      <td>Southwestern Public Health</td>\n",
       "      <td>42.777804</td>\n",
       "      <td>-81.151156</td>\n",
       "      <td>85</td>\n",
       "      <td>current day</td>\n",
       "    </tr>\n",
       "    <tr>\n",
       "      <th>27</th>\n",
       "      <td>Sudbury &amp; District Health Unit</td>\n",
       "      <td>46.466092</td>\n",
       "      <td>-80.998059</td>\n",
       "      <td>67</td>\n",
       "      <td>current day</td>\n",
       "    </tr>\n",
       "    <tr>\n",
       "      <th>28</th>\n",
       "      <td>Thunder Bay District Health Unit</td>\n",
       "      <td>48.400572</td>\n",
       "      <td>-89.258851</td>\n",
       "      <td>93</td>\n",
       "      <td>current day</td>\n",
       "    </tr>\n",
       "    <tr>\n",
       "      <th>29</th>\n",
       "      <td>Timiskaming Health Unit</td>\n",
       "      <td>47.509284</td>\n",
       "      <td>-79.681632</td>\n",
       "      <td>18</td>\n",
       "      <td>current day</td>\n",
       "    </tr>\n",
       "    <tr>\n",
       "      <th>30</th>\n",
       "      <td>Toronto Public Health</td>\n",
       "      <td>43.656591</td>\n",
       "      <td>-79.379358</td>\n",
       "      <td>13511</td>\n",
       "      <td>current day</td>\n",
       "    </tr>\n",
       "    <tr>\n",
       "      <th>31</th>\n",
       "      <td>Wellington-Dufferin-Guelph Public Health</td>\n",
       "      <td>43.524881</td>\n",
       "      <td>-80.233743</td>\n",
       "      <td>493</td>\n",
       "      <td>current day</td>\n",
       "    </tr>\n",
       "    <tr>\n",
       "      <th>32</th>\n",
       "      <td>Windsor-Essex County Health Unit</td>\n",
       "      <td>42.308796</td>\n",
       "      <td>-83.033670</td>\n",
       "      <td>1675</td>\n",
       "      <td>current day</td>\n",
       "    </tr>\n",
       "    <tr>\n",
       "      <th>33</th>\n",
       "      <td>York Region Public Health Services</td>\n",
       "      <td>44.048023</td>\n",
       "      <td>-79.480239</td>\n",
       "      <td>3082</td>\n",
       "      <td>current day</td>\n",
       "    </tr>\n",
       "  </tbody>\n",
       "</table>\n",
       "</div>"
      ],
      "text/plain": [
       "                                        Reporting_PHU  Reporting_PHU_Latitude  \\\n",
       "0                           Algoma Public Health Unit               46.532373   \n",
       "1                            Brant County Health Unit               43.151811   \n",
       "2                            Chatham-Kent Health Unit               42.403861   \n",
       "3                     Durham Region Health Department               43.898605   \n",
       "4                         Eastern Ontario Health Unit               45.029152   \n",
       "5                              Grey Bruce Health Unit               44.576196   \n",
       "6                       Haldimand-Norfolk Health Unit               42.847825   \n",
       "7   Haliburton, Kawartha, Pine Ridge District Heal...               43.968173   \n",
       "8                     Halton Region Health Department               43.413997   \n",
       "9                     Hamilton Public Health Services               43.257631   \n",
       "10    Hastings and Prince Edward Counties Health Unit               44.186674   \n",
       "11                   Huron Perth District Health Unit               43.368662   \n",
       "12  Kingston, Frontenac and Lennox & Addington Pub...               44.227874   \n",
       "13                              Lambton Public Health               42.986416   \n",
       "14   Leeds, Grenville and Lanark District Health Unit               44.615843   \n",
       "15                       Middlesex-London Health Unit               42.981468   \n",
       "16            Niagara Region Public Health Department               43.116537   \n",
       "17         North Bay Parry Sound District Health Unit               46.313207   \n",
       "18                           Northwestern Health Unit               49.769615   \n",
       "19                               Ottawa Public Health               45.345665   \n",
       "20                                 Peel Public Health               43.647471   \n",
       "21                         Peterborough Public Health               44.301632   \n",
       "22                              Porcupine Health Unit               48.472510   \n",
       "23                  Region of Waterloo, Public Health               43.462876   \n",
       "24            Renfrew County and District Health Unit               45.799406   \n",
       "25                Simcoe Muskoka District Health Unit               44.410713   \n",
       "26                         Southwestern Public Health               42.777804   \n",
       "27                     Sudbury & District Health Unit               46.466092   \n",
       "28                   Thunder Bay District Health Unit               48.400572   \n",
       "29                            Timiskaming Health Unit               47.509284   \n",
       "30                              Toronto Public Health               43.656591   \n",
       "31           Wellington-Dufferin-Guelph Public Health               43.524881   \n",
       "32                   Windsor-Essex County Health Unit               42.308796   \n",
       "33                 York Region Public Health Services               44.048023   \n",
       "\n",
       "    Reporting_PHU_Longitude  Cases  OnsetWithin  \n",
       "0                -84.314836     24  current day  \n",
       "1                -80.274374    133  current day  \n",
       "2                -82.208561    162  current day  \n",
       "3                -78.940341   1724  current day  \n",
       "4                -74.736298    166  current day  \n",
       "5                -80.940980    107  current day  \n",
       "6                -80.303815    431  current day  \n",
       "7                -78.285792    201  current day  \n",
       "8                -79.744796    781  current day  \n",
       "9                -79.871341    847  current day  \n",
       "10               -77.391446     44  current day  \n",
       "11               -81.001913     59  current day  \n",
       "12               -76.525211    104  current day  \n",
       "13               -82.404808    286  current day  \n",
       "14               -75.702833    354  current day  \n",
       "15               -81.254016    631  current day  \n",
       "16               -79.241220    763  current day  \n",
       "17               -79.467841     35  current day  \n",
       "18               -94.488254     41  current day  \n",
       "19               -75.763912   2123  current day  \n",
       "20               -79.708893   6027  current day  \n",
       "21               -78.321347     95  current day  \n",
       "22               -81.328750     67  current day  \n",
       "23               -80.520913   1313  current day  \n",
       "24               -77.118727     29  current day  \n",
       "25               -79.686306    607  current day  \n",
       "26               -81.151156     85  current day  \n",
       "27               -80.998059     67  current day  \n",
       "28               -89.258851     93  current day  \n",
       "29               -79.681632     18  current day  \n",
       "30               -79.379358  13511  current day  \n",
       "31               -80.233743    493  current day  \n",
       "32               -83.033670   1675  current day  \n",
       "33               -79.480239   3082  current day  "
      ]
     },
     "execution_count": 10,
     "metadata": {},
     "output_type": "execute_result"
    }
   ],
   "source": [
    "data_df = df \\\n",
    ".groupby([\"Reporting_PHU\", \"Reporting_PHU_Latitude\", \"Reporting_PHU_Longitude\"]) \\\n",
    ".count()[\"Row_ID\"] \\\n",
    ".reset_index() \\\n",
    ".rename(columns={\"Row_ID\" : \"Cases\"})\n",
    "\n",
    "data_df[\"OnsetWithin\"] = \"current day\"\n",
    "\n",
    "data_df"
   ]
  },
  {
   "cell_type": "markdown",
   "metadata": {},
   "source": [
    "#### **Gather Dateframe information**\n",
    "- Display dataframe\n",
    "- Display Categorical Variable list ('float64')\n",
    "- Display Column unique values "
   ]
  },
  {
   "cell_type": "code",
   "execution_count": 12,
   "metadata": {},
   "outputs": [
    {
     "data": {
      "text/html": [
       "<div>\n",
       "<style scoped>\n",
       "    .dataframe tbody tr th:only-of-type {\n",
       "        vertical-align: middle;\n",
       "    }\n",
       "\n",
       "    .dataframe tbody tr th {\n",
       "        vertical-align: top;\n",
       "    }\n",
       "\n",
       "    .dataframe thead th {\n",
       "        text-align: right;\n",
       "    }\n",
       "</style>\n",
       "<table border=\"1\" class=\"dataframe\">\n",
       "  <thead>\n",
       "    <tr style=\"text-align: right;\">\n",
       "      <th></th>\n",
       "      <th>Row_ID</th>\n",
       "      <th>Accurate_Episode_Date</th>\n",
       "      <th>Case_Reported_Date</th>\n",
       "      <th>Test_Reported_Date</th>\n",
       "      <th>Specimen_Date</th>\n",
       "      <th>Age_Group</th>\n",
       "      <th>Client_Gender</th>\n",
       "      <th>Case_AcquisitionInfo</th>\n",
       "      <th>Outcome1</th>\n",
       "      <th>Outbreak_Related</th>\n",
       "      <th>Reporting_PHU</th>\n",
       "      <th>Reporting_PHU_Address</th>\n",
       "      <th>Reporting_PHU_City</th>\n",
       "      <th>Reporting_PHU_Postal_Code</th>\n",
       "      <th>Reporting_PHU_Website</th>\n",
       "      <th>Reporting_PHU_Latitude</th>\n",
       "      <th>Reporting_PHU_Longitude</th>\n",
       "    </tr>\n",
       "  </thead>\n",
       "  <tbody>\n",
       "    <tr>\n",
       "      <th>0</th>\n",
       "      <td>1</td>\n",
       "      <td>2020-03-07</td>\n",
       "      <td>2020-03-09</td>\n",
       "      <td>2020-03-11</td>\n",
       "      <td>2020-03-09</td>\n",
       "      <td>50s</td>\n",
       "      <td>MALE</td>\n",
       "      <td>Travel</td>\n",
       "      <td>Resolved</td>\n",
       "      <td>NaN</td>\n",
       "      <td>York Region Public Health Services</td>\n",
       "      <td>17250 Yonge Street</td>\n",
       "      <td>Newmarket</td>\n",
       "      <td>L3Y 6Z1</td>\n",
       "      <td>www.york.ca/wps/portal/yorkhome/health/</td>\n",
       "      <td>44.048023</td>\n",
       "      <td>-79.480239</td>\n",
       "    </tr>\n",
       "    <tr>\n",
       "      <th>1</th>\n",
       "      <td>2</td>\n",
       "      <td>2020-03-02</td>\n",
       "      <td>2020-03-09</td>\n",
       "      <td>2020-03-09</td>\n",
       "      <td>2020-03-09</td>\n",
       "      <td>40s</td>\n",
       "      <td>MALE</td>\n",
       "      <td>Travel</td>\n",
       "      <td>Resolved</td>\n",
       "      <td>NaN</td>\n",
       "      <td>Toronto Public Health</td>\n",
       "      <td>277 Victoria Street, 5th Floor</td>\n",
       "      <td>Toronto</td>\n",
       "      <td>M5B 1W2</td>\n",
       "      <td>www.toronto.ca/community-people/health-wellnes...</td>\n",
       "      <td>43.656591</td>\n",
       "      <td>-79.379358</td>\n",
       "    </tr>\n",
       "    <tr>\n",
       "      <th>2</th>\n",
       "      <td>3</td>\n",
       "      <td>2020-03-06</td>\n",
       "      <td>2020-03-10</td>\n",
       "      <td>2020-03-10</td>\n",
       "      <td>2020-03-09</td>\n",
       "      <td>30s</td>\n",
       "      <td>FEMALE</td>\n",
       "      <td>Travel</td>\n",
       "      <td>Resolved</td>\n",
       "      <td>NaN</td>\n",
       "      <td>York Region Public Health Services</td>\n",
       "      <td>17250 Yonge Street</td>\n",
       "      <td>Newmarket</td>\n",
       "      <td>L3Y 6Z1</td>\n",
       "      <td>www.york.ca/wps/portal/yorkhome/health/</td>\n",
       "      <td>44.048023</td>\n",
       "      <td>-79.480239</td>\n",
       "    </tr>\n",
       "    <tr>\n",
       "      <th>3</th>\n",
       "      <td>4</td>\n",
       "      <td>2020-03-02</td>\n",
       "      <td>2020-03-09</td>\n",
       "      <td>2020-03-12</td>\n",
       "      <td>2020-03-07</td>\n",
       "      <td>40s</td>\n",
       "      <td>MALE</td>\n",
       "      <td>Travel</td>\n",
       "      <td>Resolved</td>\n",
       "      <td>NaN</td>\n",
       "      <td>Ottawa Public Health</td>\n",
       "      <td>100 Constellation Drive</td>\n",
       "      <td>Ottawa</td>\n",
       "      <td>K2G 6J8</td>\n",
       "      <td>www.ottawapublichealth.ca</td>\n",
       "      <td>45.345665</td>\n",
       "      <td>-75.763912</td>\n",
       "    </tr>\n",
       "    <tr>\n",
       "      <th>4</th>\n",
       "      <td>5</td>\n",
       "      <td>2020-03-03</td>\n",
       "      <td>2020-03-10</td>\n",
       "      <td>2020-03-11</td>\n",
       "      <td>2020-03-09</td>\n",
       "      <td>30s</td>\n",
       "      <td>MALE</td>\n",
       "      <td>Travel</td>\n",
       "      <td>Resolved</td>\n",
       "      <td>NaN</td>\n",
       "      <td>Toronto Public Health</td>\n",
       "      <td>277 Victoria Street, 5th Floor</td>\n",
       "      <td>Toronto</td>\n",
       "      <td>M5B 1W2</td>\n",
       "      <td>www.toronto.ca/community-people/health-wellnes...</td>\n",
       "      <td>43.656591</td>\n",
       "      <td>-79.379358</td>\n",
       "    </tr>\n",
       "  </tbody>\n",
       "</table>\n",
       "</div>"
      ],
      "text/plain": [
       "   Row_ID Accurate_Episode_Date Case_Reported_Date Test_Reported_Date  \\\n",
       "0       1            2020-03-07         2020-03-09         2020-03-11   \n",
       "1       2            2020-03-02         2020-03-09         2020-03-09   \n",
       "2       3            2020-03-06         2020-03-10         2020-03-10   \n",
       "3       4            2020-03-02         2020-03-09         2020-03-12   \n",
       "4       5            2020-03-03         2020-03-10         2020-03-11   \n",
       "\n",
       "  Specimen_Date Age_Group Client_Gender Case_AcquisitionInfo  Outcome1  \\\n",
       "0    2020-03-09       50s          MALE               Travel  Resolved   \n",
       "1    2020-03-09       40s          MALE               Travel  Resolved   \n",
       "2    2020-03-09       30s        FEMALE               Travel  Resolved   \n",
       "3    2020-03-07       40s          MALE               Travel  Resolved   \n",
       "4    2020-03-09       30s          MALE               Travel  Resolved   \n",
       "\n",
       "  Outbreak_Related                       Reporting_PHU  \\\n",
       "0              NaN  York Region Public Health Services   \n",
       "1              NaN               Toronto Public Health   \n",
       "2              NaN  York Region Public Health Services   \n",
       "3              NaN                Ottawa Public Health   \n",
       "4              NaN               Toronto Public Health   \n",
       "\n",
       "            Reporting_PHU_Address Reporting_PHU_City  \\\n",
       "0              17250 Yonge Street          Newmarket   \n",
       "1  277 Victoria Street, 5th Floor            Toronto   \n",
       "2              17250 Yonge Street          Newmarket   \n",
       "3         100 Constellation Drive             Ottawa   \n",
       "4  277 Victoria Street, 5th Floor            Toronto   \n",
       "\n",
       "  Reporting_PHU_Postal_Code  \\\n",
       "0                   L3Y 6Z1   \n",
       "1                   M5B 1W2   \n",
       "2                   L3Y 6Z1   \n",
       "3                   K2G 6J8   \n",
       "4                   M5B 1W2   \n",
       "\n",
       "                               Reporting_PHU_Website  Reporting_PHU_Latitude  \\\n",
       "0            www.york.ca/wps/portal/yorkhome/health/               44.048023   \n",
       "1  www.toronto.ca/community-people/health-wellnes...               43.656591   \n",
       "2            www.york.ca/wps/portal/yorkhome/health/               44.048023   \n",
       "3                          www.ottawapublichealth.ca               45.345665   \n",
       "4  www.toronto.ca/community-people/health-wellnes...               43.656591   \n",
       "\n",
       "   Reporting_PHU_Longitude  \n",
       "0               -79.480239  \n",
       "1               -79.379358  \n",
       "2               -79.480239  \n",
       "3               -75.763912  \n",
       "4               -79.379358  "
      ]
     },
     "execution_count": 12,
     "metadata": {},
     "output_type": "execute_result"
    }
   ],
   "source": [
    "# Display Dataframe\n",
    "df.head()"
   ]
  },
  {
   "cell_type": "markdown",
   "metadata": {},
   "source": [
    "#### **Display Variable List**"
   ]
  },
  {
   "cell_type": "code",
   "execution_count": 13,
   "metadata": {},
   "outputs": [
    {
     "data": {
      "text/plain": [
       "['Reporting_PHU_Latitude', 'Reporting_PHU_Longitude']"
      ]
     },
     "execution_count": 13,
     "metadata": {},
     "output_type": "execute_result"
    }
   ],
   "source": [
    "# Categorical variable list\n",
    "df_cat = df.dtypes[df.dtypes == \"float64\"].index.tolist()\n",
    "df_cat"
   ]
  },
  {
   "cell_type": "code",
   "execution_count": 14,
   "metadata": {},
   "outputs": [
    {
     "data": {
      "text/plain": [
       "Reporting_PHU_Latitude     34\n",
       "Reporting_PHU_Longitude    34\n",
       "dtype: int64"
      ]
     },
     "execution_count": 14,
     "metadata": {},
     "output_type": "execute_result"
    }
   ],
   "source": [
    "# Unique numbers\n",
    "df[df_cat].nunique()"
   ]
  },
  {
   "cell_type": "markdown",
   "metadata": {},
   "source": [
    "### **Categorical Variables using one-hot encoding** \n",
    "- One-hot encoding identifies all unique column values and splits the single categorical column into a series of columns, each containing information about a single unique categorical value\n",
    "- Although one-hot encoding is a very robust solution, it can be very memory-intensive. Therefore, categorical variables with a large number of unique values might become difficult to navigate or filter once encoded."
   ]
  },
  {
   "cell_type": "markdown",
   "metadata": {},
   "source": [
    "### **Bucketing or binning**\n",
    "**The process of reducing the number of unique categorical values in a dataset is known as bucketing or binning**\n",
    "- Bucketing data typically follows one of two approaches:\n",
    "- 1) Collapse all of the infrequent and rare categorical values into a single “other” category.\n",
    "- 2) Create generalized categorical values and reassign all data points to the new corresponding values"
   ]
  },
  {
   "cell_type": "markdown",
   "metadata": {},
   "source": []
  },
  {
   "cell_type": "code",
   "execution_count": 15,
   "metadata": {},
   "outputs": [
    {
     "data": {
      "text/plain": [
       "Toronto Public Health                                       13511\n",
       "Peel Public Health                                           6027\n",
       "York Region Public Health Services                           3082\n",
       "Ottawa Public Health                                         2123\n",
       "Durham Region Health Department                              1724\n",
       "Windsor-Essex County Health Unit                             1675\n",
       "Region of Waterloo, Public Health                            1313\n",
       "Hamilton Public Health Services                               847\n",
       "Halton Region Health Department                               781\n",
       "Niagara Region Public Health Department                       763\n",
       "Middlesex-London Health Unit                                  631\n",
       "Simcoe Muskoka District Health Unit                           607\n",
       "Wellington-Dufferin-Guelph Public Health                      493\n",
       "Haldimand-Norfolk Health Unit                                 431\n",
       "Leeds, Grenville and Lanark District Health Unit              354\n",
       "Lambton Public Health                                         286\n",
       "Haliburton, Kawartha, Pine Ridge District Health Unit         201\n",
       "Eastern Ontario Health Unit                                   166\n",
       "Chatham-Kent Health Unit                                      162\n",
       "Brant County Health Unit                                      133\n",
       "Grey Bruce Health Unit                                        107\n",
       "Kingston, Frontenac and Lennox & Addington Public Health      104\n",
       "Peterborough Public Health                                     95\n",
       "Thunder Bay District Health Unit                               93\n",
       "Southwestern Public Health                                     85\n",
       "Porcupine Health Unit                                          67\n",
       "Sudbury & District Health Unit                                 67\n",
       "Huron Perth District Health Unit                               59\n",
       "Hastings and Prince Edward Counties Health Unit                44\n",
       "Northwestern Health Unit                                       41\n",
       "North Bay Parry Sound District Health Unit                     35\n",
       "Renfrew County and District Health Unit                        29\n",
       "Algoma Public Health Unit                                      24\n",
       "Timiskaming Health Unit                                        18\n",
       "Name: Reporting_PHU, dtype: int64"
      ]
     },
     "execution_count": 15,
     "metadata": {},
     "output_type": "execute_result"
    }
   ],
   "source": [
    "# Application type counts\n",
    "Reporting_PHU_counts = df.Reporting_PHU.value_counts()\n",
    "Reporting_PHU_counts"
   ]
  },
  {
   "cell_type": "code",
   "execution_count": 17,
   "metadata": {},
   "outputs": [
    {
     "data": {
      "text/plain": [
       "<matplotlib.axes._subplots.AxesSubplot at 0x25ec3a40bc8>"
      ]
     },
     "execution_count": 17,
     "metadata": {},
     "output_type": "execute_result"
    },
    {
     "data": {
      "image/png": "[encoded data removed]",
      "text/plain": [
       "<Figure size 432x288 with 1 Axes>"
      ]
     },
     "metadata": {
      "needs_background": "light"
     },
     "output_type": "display_data"
    }
   ],
   "source": [
    "# Visualize the value counts\n",
    "Reporting_PHU_counts.plot.density()"
   ]
  },
  {
   "cell_type": "markdown",
   "metadata": {},
   "source": [
    "The **Reporting_PHU** columns variables appear a lot in of dataset, they are a feature of our model"
   ]
  },
  {
   "cell_type": "markdown",
   "metadata": {},
   "source": [
    "#### **Tasks**\n",
    "According to the density plot, the most common unique values have more than 1000 instances within the dataset. Therefore, we can bucket any occurence that appears fewer than 1000 times in the dataset as “other.” To do this, we’ll use a Python for loop and Pandas’ replace method. \n",
    "- Determine which values to replace\n",
    "- Replace in DataFrame\n",
    "- Check to make sure binning was successful"
   ]
  },
  {
   "cell_type": "code",
   "execution_count": 21,
   "metadata": {},
   "outputs": [
    {
     "data": {
      "text/plain": [
       "Toronto Public Health                 13511\n",
       "Other                                  6723\n",
       "Peel Public Health                     6027\n",
       "York Region Public Health Services     3082\n",
       "Ottawa Public Health                   2123\n",
       "Durham Region Health Department        1724\n",
       "Windsor-Essex County Health Unit       1675\n",
       "Region of Waterloo, Public Health      1313\n",
       "Name: Reporting_PHU, dtype: int64"
      ]
     },
     "execution_count": 21,
     "metadata": {},
     "output_type": "execute_result"
    }
   ],
   "source": [
    "# replace values\n",
    "replace_Reporting_PHU = list(Reporting_PHU_counts[Reporting_PHU_counts < 1000].index)\n",
    "\n",
    "# use for loop to replace values\n",
    "for i in replace_Reporting_PHU:\n",
    "    df.Reporting_PHU  = df.Reporting_PHU.replace(i,\"Other\")\n",
    "\n",
    "# Bucketing sucess\n",
    "df.Reporting_PHU .value_counts()"
   ]
  },
  {
   "cell_type": "markdown",
   "metadata": {},
   "source": [
    "#### **Tasks**\n",
    "Now that we have reduced the number of unique values in the country variable, we’re ready to transpose the variable using one-hot encoding. The easiest way to perform **one-hot encoding** in Python is to use Scikit-learn’s **OneHotEncoder** module on the country variable. To build the encoded columns, we must **create an instance** of OneHotEncoder and **“fit”** the encoder with our values."
   ]
  },
  {
   "cell_type": "code",
   "execution_count": 90,
   "metadata": {},
   "outputs": [
    {
     "data": {
      "text/html": [
       "<div>\n",
       "<style scoped>\n",
       "    .dataframe tbody tr th:only-of-type {\n",
       "        vertical-align: middle;\n",
       "    }\n",
       "\n",
       "    .dataframe tbody tr th {\n",
       "        vertical-align: top;\n",
       "    }\n",
       "\n",
       "    .dataframe thead th {\n",
       "        text-align: right;\n",
       "    }\n",
       "</style>\n",
       "<table border=\"1\" class=\"dataframe\">\n",
       "  <thead>\n",
       "    <tr style=\"text-align: right;\">\n",
       "      <th></th>\n",
       "      <th>Reporting_PHU_Durham Region Health Department</th>\n",
       "      <th>Reporting_PHU_Other</th>\n",
       "      <th>Reporting_PHU_Ottawa Public Health</th>\n",
       "      <th>Reporting_PHU_Peel Public Health</th>\n",
       "      <th>Reporting_PHU_Region of Waterloo, Public Health</th>\n",
       "      <th>Reporting_PHU_Toronto Public Health</th>\n",
       "      <th>Reporting_PHU_Windsor-Essex County Health Unit</th>\n",
       "      <th>Reporting_PHU_York Region Public Health Services</th>\n",
       "    </tr>\n",
       "  </thead>\n",
       "  <tbody>\n",
       "    <tr>\n",
       "      <th>0</th>\n",
       "      <td>0.0</td>\n",
       "      <td>0.0</td>\n",
       "      <td>0.0</td>\n",
       "      <td>0.0</td>\n",
       "      <td>0.0</td>\n",
       "      <td>0.0</td>\n",
       "      <td>0.0</td>\n",
       "      <td>1.0</td>\n",
       "    </tr>\n",
       "    <tr>\n",
       "      <th>1</th>\n",
       "      <td>0.0</td>\n",
       "      <td>0.0</td>\n",
       "      <td>0.0</td>\n",
       "      <td>0.0</td>\n",
       "      <td>0.0</td>\n",
       "      <td>1.0</td>\n",
       "      <td>0.0</td>\n",
       "      <td>0.0</td>\n",
       "    </tr>\n",
       "    <tr>\n",
       "      <th>2</th>\n",
       "      <td>0.0</td>\n",
       "      <td>0.0</td>\n",
       "      <td>0.0</td>\n",
       "      <td>0.0</td>\n",
       "      <td>0.0</td>\n",
       "      <td>0.0</td>\n",
       "      <td>0.0</td>\n",
       "      <td>1.0</td>\n",
       "    </tr>\n",
       "    <tr>\n",
       "      <th>3</th>\n",
       "      <td>0.0</td>\n",
       "      <td>0.0</td>\n",
       "      <td>1.0</td>\n",
       "      <td>0.0</td>\n",
       "      <td>0.0</td>\n",
       "      <td>0.0</td>\n",
       "      <td>0.0</td>\n",
       "      <td>0.0</td>\n",
       "    </tr>\n",
       "    <tr>\n",
       "      <th>4</th>\n",
       "      <td>0.0</td>\n",
       "      <td>0.0</td>\n",
       "      <td>0.0</td>\n",
       "      <td>0.0</td>\n",
       "      <td>0.0</td>\n",
       "      <td>1.0</td>\n",
       "      <td>0.0</td>\n",
       "      <td>0.0</td>\n",
       "    </tr>\n",
       "  </tbody>\n",
       "</table>\n",
       "</div>"
      ],
      "text/plain": [
       "   Reporting_PHU_Durham Region Health Department  Reporting_PHU_Other  \\\n",
       "0                                            0.0                  0.0   \n",
       "1                                            0.0                  0.0   \n",
       "2                                            0.0                  0.0   \n",
       "3                                            0.0                  0.0   \n",
       "4                                            0.0                  0.0   \n",
       "\n",
       "   Reporting_PHU_Ottawa Public Health  Reporting_PHU_Peel Public Health  \\\n",
       "0                                 0.0                               0.0   \n",
       "1                                 0.0                               0.0   \n",
       "2                                 0.0                               0.0   \n",
       "3                                 1.0                               0.0   \n",
       "4                                 0.0                               0.0   \n",
       "\n",
       "   Reporting_PHU_Region of Waterloo, Public Health  \\\n",
       "0                                              0.0   \n",
       "1                                              0.0   \n",
       "2                                              0.0   \n",
       "3                                              0.0   \n",
       "4                                              0.0   \n",
       "\n",
       "   Reporting_PHU_Toronto Public Health  \\\n",
       "0                                  0.0   \n",
       "1                                  1.0   \n",
       "2                                  0.0   \n",
       "3                                  0.0   \n",
       "4                                  1.0   \n",
       "\n",
       "   Reporting_PHU_Windsor-Essex County Health Unit  \\\n",
       "0                                             0.0   \n",
       "1                                             0.0   \n",
       "2                                             0.0   \n",
       "3                                             0.0   \n",
       "4                                             0.0   \n",
       "\n",
       "   Reporting_PHU_York Region Public Health Services  \n",
       "0                                               1.0  \n",
       "1                                               0.0  \n",
       "2                                               1.0  \n",
       "3                                               0.0  \n",
       "4                                               0.0  "
      ]
     },
     "execution_count": 90,
     "metadata": {},
     "output_type": "execute_result"
    }
   ],
   "source": [
    "# Create the OneHotEncoder instance\n",
    "enc = OneHotEncoder(sparse=False)\n",
    "\n",
    "# Fit the encoder and produce encoded DataFrame\n",
    "PHU_df = pd.DataFrame(enc.fit_transform(df.Reporting_PHU.values.reshape(-1,1)))\n",
    "\n",
    "# Rename encoded columns\n",
    "PHU_df.columns = enc.get_feature_names(['Reporting_PHU'])\n",
    "PHU_df.head()"
   ]
  },
  {
   "cell_type": "code",
   "execution_count": 58,
   "metadata": {},
   "outputs": [],
   "source": [
    "# Merge the two DataFrames,drop  Reporting_PHU column\n",
    "# PHU_df = df.merge(encode_df,left_index=True,right_index=True).drop(\"Reporting_PHU\",axis=1)"
   ]
  },
  {
   "cell_type": "markdown",
   "metadata": {},
   "source": [
    "#### **Dataframe information**\n",
    "- dataframe data type\n",
    "- variable list\n",
    "- column unique values"
   ]
  },
  {
   "cell_type": "code",
   "execution_count": 93,
   "metadata": {},
   "outputs": [
    {
     "data": {
      "text/plain": [
       "Reporting_PHU_Durham Region Health Department       float64\n",
       "Reporting_PHU_Other                                 float64\n",
       "Reporting_PHU_Ottawa Public Health                  float64\n",
       "Reporting_PHU_Peel Public Health                    float64\n",
       "Reporting_PHU_Region of Waterloo, Public Health     float64\n",
       "Reporting_PHU_Toronto Public Health                 float64\n",
       "Reporting_PHU_Windsor-Essex County Health Unit      float64\n",
       "Reporting_PHU_York Region Public Health Services    float64\n",
       "dtype: object"
      ]
     },
     "execution_count": 93,
     "metadata": {},
     "output_type": "execute_result"
    }
   ],
   "source": [
    "PHU_df.dtypes"
   ]
  },
  {
   "cell_type": "code",
   "execution_count": 94,
   "metadata": {},
   "outputs": [
    {
     "data": {
      "text/plain": [
       "['Reporting_PHU_Durham Region Health Department',\n",
       " 'Reporting_PHU_Other',\n",
       " 'Reporting_PHU_Ottawa Public Health',\n",
       " 'Reporting_PHU_Peel Public Health',\n",
       " 'Reporting_PHU_Region of Waterloo, Public Health',\n",
       " 'Reporting_PHU_Toronto Public Health',\n",
       " 'Reporting_PHU_Windsor-Essex County Health Unit',\n",
       " 'Reporting_PHU_York Region Public Health Services']"
      ]
     },
     "execution_count": 94,
     "metadata": {},
     "output_type": "execute_result"
    }
   ],
   "source": [
    "# Categorical variable list\n",
    "df_cat = PHU_df.dtypes[PHU_df.dtypes == \"float64\"].index.tolist()\n",
    "df_cat"
   ]
  },
  {
   "cell_type": "code",
   "execution_count": 95,
   "metadata": {},
   "outputs": [
    {
     "data": {
      "text/plain": [
       "Reporting_PHU_Durham Region Health Department       2\n",
       "Reporting_PHU_Other                                 2\n",
       "Reporting_PHU_Ottawa Public Health                  2\n",
       "Reporting_PHU_Peel Public Health                    2\n",
       "Reporting_PHU_Region of Waterloo, Public Health     2\n",
       "Reporting_PHU_Toronto Public Health                 2\n",
       "Reporting_PHU_Windsor-Essex County Health Unit      2\n",
       "Reporting_PHU_York Region Public Health Services    2\n",
       "dtype: int64"
      ]
     },
     "execution_count": 95,
     "metadata": {},
     "output_type": "execute_result"
    }
   ],
   "source": [
    "# Unique numbers, must be < 10\n",
    "PHU_df[df_cat].nunique()"
   ]
  },
  {
   "cell_type": "markdown",
   "metadata": {},
   "source": [
    "#### **Split our training and testing data**\n",
    "- We need to split our training and testing data before fitting our **StandardScaler instance**. This prevents testing data from influencing the standardization function.\n",
    "- To build our training and testing datasets, we need to separate two values:\n",
    "- input values (which are our independent variables commonly referred to as model features or “X” in TensorFlow documentation (Links to an external site.))\n",
    "- target output (our dependent variable commonly referred to as target or “y” in TensorFlow documentation)"
   ]
  },
  {
   "cell_type": "markdown",
   "metadata": {},
   "source": [
    "- **Use Sklearn train_test_split method to split data into training and test**\n",
    "    - X_train, X_test, y_train, y_test \n",
    "- **Prepare dataset for neural network model**\n",
    "    - Normalize or standardize our numerical variables"
   ]
  },
  {
   "cell_type": "code",
   "execution_count": 96,
   "metadata": {},
   "outputs": [],
   "source": [
    "# Split our preprocessed data into our features and target arrays\n",
    "y = PHU_df[\"Reporting_PHU_Ottawa Public Health\"].values\n",
    "X = PHU_df.drop([\"Reporting_PHU_Ottawa Public Health\",\"Reporting_PHU_Other\"],1).values\n",
    "\n",
    "# Split the preprocessed data into a training and testing dataset\n",
    "X_train, X_test, y_train, y_test = train_test_split(X, y, random_state=78)"
   ]
  },
  {
   "cell_type": "markdown",
   "metadata": {},
   "source": [
    "- **To apply our standardization, we need to create a StandardScaler instance by adding and running the following code:**\n",
    "- **Once we have our StandardScalerinstance, we need to fit the input data by adding and running the next line of code:**\n",
    "    - Create StandardScaler instance\n",
    "    - fit the StandardScaler\n",
    "    - Scale the data**"
   ]
  },
  {
   "cell_type": "code",
   "execution_count": 97,
   "metadata": {},
   "outputs": [],
   "source": [
    "# Create a StandardScaler instance\n",
    "scaler = StandardScaler()\n",
    "\n",
    "# Fit the StandardScaler\n",
    "X_scaler = scaler.fit(X_train)\n",
    "\n",
    "# Scale the data\n",
    "X_train_scaled = X_scaler.transform(X_train)\n",
    "X_test_scaled = X_scaler.transform(X_test)"
   ]
  },
  {
   "cell_type": "markdown",
   "metadata": {},
   "source": [
    "#### **Tasks**\n",
    "At last, our data is preprocessed and separated and ready for modelling. For our purposes, we will use the same framework we used for our basic neural network:\n",
    "- For our input layer, we must add the number of input features equal to the number of variables in our feature DataFrame.\n",
    "- In our hidden layers, our deep learning model structure will be slightly different—we’ll add two hidden layers with only a few neurons in each layer. To create the second hidden layer, we’ll add another Keras Dense class while defining our model. All of our hidden layers will use the relu activation function to identify nonlinear characteristics from the input values.\n",
    "- In the output layer, we’ll use the same parameters from our basic neural network including the sigmoid activation function. The sigmoid activation function will help us predict the probability that an employee is at risk for attrition."
   ]
  },
  {
   "cell_type": "markdown",
   "metadata": {},
   "source": [
    "#### **Define Model**\n",
    "- Deep neural net\n",
    "- First hidden layer\n",
    "- Second hidden layer\n",
    "- Output layer\n",
    "- Check the structure of the model"
   ]
  },
  {
   "cell_type": "code",
   "execution_count": 98,
   "metadata": {},
   "outputs": [
    {
     "name": "stdout",
     "output_type": "stream",
     "text": [
      "Model: \"sequential\"\n",
      "_________________________________________________________________\n",
      "Layer (type)                 Output Shape              Param #   \n",
      "=================================================================\n",
      "dense (Dense)                (None, 8)                 56        \n",
      "_________________________________________________________________\n",
      "dense_1 (Dense)              (None, 5)                 45        \n",
      "_________________________________________________________________\n",
      "dense_2 (Dense)              (None, 1)                 6         \n",
      "=================================================================\n",
      "Total params: 107\n",
      "Trainable params: 107\n",
      "Non-trainable params: 0\n",
      "_________________________________________________________________\n"
     ]
    }
   ],
   "source": [
    "# Define the model - deep neural net\n",
    "number_input_features = len(X_train[0])\n",
    "hidden_nodes_layer1 =  8\n",
    "hidden_nodes_layer2 = 5\n",
    "\n",
    "nn = tf.keras.models.Sequential()\n",
    "\n",
    "# First hidden layer\n",
    "nn.add(\n",
    "    tf.keras.layers.Dense(units=hidden_nodes_layer1, input_dim=number_input_features, activation=\"relu\")\n",
    ")\n",
    "\n",
    "# Second hidden layer\n",
    "nn.add(tf.keras.layers.Dense(units=hidden_nodes_layer2, activation=\"relu\"))\n",
    "\n",
    "# Output layer\n",
    "nn.add(tf.keras.layers.Dense(units=1, activation=\"sigmoid\"))\n",
    "\n",
    "# Check the structure of the model\n",
    "nn.summary()"
   ]
  },
  {
   "cell_type": "markdown",
   "metadata": {},
   "source": [
    "Now it is time to compile our model and define the loss and accuracy metrics. Since we want to use our model as a binary classifier, we’ll use the **binary_crossentropy loss function**, **adam optimizer**, and **accuracy metrics**, which are the same parameters we used for our basic neural network. To compile the model, add and run the following code:"
   ]
  },
  {
   "cell_type": "markdown",
   "metadata": {},
   "source": [
    "#### **Compile neural network**\n",
    "- Use **adam optimizer**, which uses a gradient descent approach to ensure that the algorithm will not get stuck on weaker classifying variables and feature\n",
    "- The **loss metric** is used by machine learning algorithms to score the performance of the model through each iteration and **epoch** by evaluating the inaccuracy of a single input.\n",
    "- Use **binary_crossentropy**, which is specifically designed to evaluate a binary classification mode"
   ]
  },
  {
   "cell_type": "code",
   "execution_count": 99,
   "metadata": {},
   "outputs": [],
   "source": [
    "# Compile the model\n",
    "nn.compile(loss=\"binary_crossentropy\", optimizer=\"adam\", metrics=[\"accuracy\"])"
   ]
  },
  {
   "cell_type": "markdown",
   "metadata": {},
   "source": [
    "#### **Train Model**\n",
    "Training and evaluating the deep learning model is no different from a basic neural network. Depending on the complexity of the dataset, we may opt to increase the number of epochs to allow for the deep learning model more opportunities to optimize the weight coefficients. To train our model, we must add and run the following code:"
   ]
  },
  {
   "cell_type": "code",
   "execution_count": 100,
   "metadata": {},
   "outputs": [
    {
     "name": "stdout",
     "output_type": "stream",
     "text": [
      "Epoch 1/100\n",
      "848/848 [==============================] - 1s 1ms/step - loss: 0.2222 - accuracy: 0.9372\n",
      "Epoch 2/100\n",
      "848/848 [==============================] - 1s 1ms/step - loss: 0.1378 - accuracy: 0.9421\n",
      "Epoch 3/100\n",
      "848/848 [==============================] - 1s 1ms/step - loss: 0.1342 - accuracy: 0.9421\n",
      "Epoch 4/100\n",
      "848/848 [==============================] - 1s 1ms/step - loss: 0.1337 - accuracy: 0.9421\n",
      "Epoch 5/100\n",
      "848/848 [==============================] - 1s 1ms/step - loss: 0.1335 - accuracy: 0.9421\n",
      "Epoch 6/100\n",
      "848/848 [==============================] - 1s 1ms/step - loss: 0.1334 - accuracy: 0.9421\n",
      "Epoch 7/100\n",
      "848/848 [==============================] - 1s 1ms/step - loss: 0.1334 - accuracy: 0.9421\n",
      "Epoch 8/100\n",
      "848/848 [==============================] - 1s 1ms/step - loss: 0.1333 - accuracy: 0.9421\n",
      "Epoch 9/100\n",
      "848/848 [==============================] - 1s 1ms/step - loss: 0.1333 - accuracy: 0.9421\n",
      "Epoch 10/100\n",
      "848/848 [==============================] - 1s 1ms/step - loss: 0.1334 - accuracy: 0.9421\n",
      "Epoch 11/100\n",
      "848/848 [==============================] - 1s 1ms/step - loss: 0.1333 - accuracy: 0.9421\n",
      "Epoch 12/100\n",
      "848/848 [==============================] - 1s 1ms/step - loss: 0.1334 - accuracy: 0.9421\n",
      "Epoch 13/100\n",
      "848/848 [==============================] - 1s 1ms/step - loss: 0.1333 - accuracy: 0.9421\n",
      "Epoch 14/100\n",
      "848/848 [==============================] - 1s 1ms/step - loss: 0.1334 - accuracy: 0.9421\n",
      "Epoch 15/100\n",
      "848/848 [==============================] - 1s 1ms/step - loss: 0.1333 - accuracy: 0.9421\n",
      "Epoch 16/100\n",
      "848/848 [==============================] - 1s 1ms/step - loss: 0.1333 - accuracy: 0.9421\n",
      "Epoch 17/100\n",
      "848/848 [==============================] - 1s 1ms/step - loss: 0.1333 - accuracy: 0.9421\n",
      "Epoch 18/100\n",
      "848/848 [==============================] - 1s 1ms/step - loss: 0.1333 - accuracy: 0.9421\n",
      "Epoch 19/100\n",
      "848/848 [==============================] - 1s 1ms/step - loss: 0.1333 - accuracy: 0.9421\n",
      "Epoch 20/100\n",
      "848/848 [==============================] - 1s 1ms/step - loss: 0.1333 - accuracy: 0.9421\n",
      "Epoch 21/100\n",
      "848/848 [==============================] - 1s 1ms/step - loss: 0.1333 - accuracy: 0.9421\n",
      "Epoch 22/100\n",
      "848/848 [==============================] - 1s 1ms/step - loss: 0.1333 - accuracy: 0.9421\n",
      "Epoch 23/100\n",
      "848/848 [==============================] - 1s 1ms/step - loss: 0.1333 - accuracy: 0.9421\n",
      "Epoch 24/100\n",
      "848/848 [==============================] - 1s 1ms/step - loss: 0.1333 - accuracy: 0.9421\n",
      "Epoch 25/100\n",
      "848/848 [==============================] - 1s 1ms/step - loss: 0.1333 - accuracy: 0.9421\n",
      "Epoch 26/100\n",
      "848/848 [==============================] - 1s 1ms/step - loss: 0.1333 - accuracy: 0.9421\n",
      "Epoch 27/100\n",
      "848/848 [==============================] - 1s 1ms/step - loss: 0.1334 - accuracy: 0.9421\n",
      "Epoch 28/100\n",
      "848/848 [==============================] - 1s 1ms/step - loss: 0.1333 - accuracy: 0.9421\n",
      "Epoch 29/100\n",
      "848/848 [==============================] - 1s 1ms/step - loss: 0.1333 - accuracy: 0.9421\n",
      "Epoch 30/100\n",
      "848/848 [==============================] - 1s 1ms/step - loss: 0.1333 - accuracy: 0.9421\n",
      "Epoch 31/100\n",
      "848/848 [==============================] - 1s 1ms/step - loss: 0.1333 - accuracy: 0.9421\n",
      "Epoch 32/100\n",
      "848/848 [==============================] - 1s 1ms/step - loss: 0.1333 - accuracy: 0.9421\n",
      "Epoch 33/100\n",
      "848/848 [==============================] - 1s 1ms/step - loss: 0.1333 - accuracy: 0.9421\n",
      "Epoch 34/100\n",
      "848/848 [==============================] - 1s 1ms/step - loss: 0.1333 - accuracy: 0.9421\n",
      "Epoch 35/100\n",
      "848/848 [==============================] - 1s 1ms/step - loss: 0.1334 - accuracy: 0.9421\n",
      "Epoch 36/100\n",
      "848/848 [==============================] - 1s 1ms/step - loss: 0.1333 - accuracy: 0.9421\n",
      "Epoch 37/100\n",
      "848/848 [==============================] - 1s 1ms/step - loss: 0.1333 - accuracy: 0.9421\n",
      "Epoch 38/100\n",
      "848/848 [==============================] - 1s 1ms/step - loss: 0.1333 - accuracy: 0.9421\n",
      "Epoch 39/100\n",
      "848/848 [==============================] - 1s 1ms/step - loss: 0.1333 - accuracy: 0.9421\n",
      "Epoch 40/100\n",
      "848/848 [==============================] - 1s 1ms/step - loss: 0.1333 - accuracy: 0.9421\n",
      "Epoch 41/100\n",
      "848/848 [==============================] - 1s 1ms/step - loss: 0.1333 - accuracy: 0.9421\n",
      "Epoch 42/100\n",
      "848/848 [==============================] - 1s 1ms/step - loss: 0.1333 - accuracy: 0.9421\n",
      "Epoch 43/100\n",
      "848/848 [==============================] - 1s 1ms/step - loss: 0.1332 - accuracy: 0.9421\n",
      "Epoch 44/100\n",
      "848/848 [==============================] - 1s 1ms/step - loss: 0.1333 - accuracy: 0.9421\n",
      "Epoch 45/100\n",
      "848/848 [==============================] - 1s 1ms/step - loss: 0.1333 - accuracy: 0.9421\n",
      "Epoch 46/100\n",
      "848/848 [==============================] - 1s 1ms/step - loss: 0.1333 - accuracy: 0.9421\n",
      "Epoch 47/100\n",
      "848/848 [==============================] - 1s 1ms/step - loss: 0.1333 - accuracy: 0.9421\n",
      "Epoch 48/100\n",
      "848/848 [==============================] - 1s 1ms/step - loss: 0.1333 - accuracy: 0.9421\n",
      "Epoch 49/100\n",
      "848/848 [==============================] - 1s 1ms/step - loss: 0.1333 - accuracy: 0.9421\n",
      "Epoch 50/100\n",
      "848/848 [==============================] - 1s 1ms/step - loss: 0.1332 - accuracy: 0.9421\n",
      "Epoch 51/100\n",
      "848/848 [==============================] - 1s 1ms/step - loss: 0.1333 - accuracy: 0.9421\n",
      "Epoch 52/100\n",
      "848/848 [==============================] - 1s 1ms/step - loss: 0.1332 - accuracy: 0.9421\n",
      "Epoch 53/100\n",
      "848/848 [==============================] - 1s 1ms/step - loss: 0.1333 - accuracy: 0.9421\n",
      "Epoch 54/100\n",
      "848/848 [==============================] - 1s 1ms/step - loss: 0.1333 - accuracy: 0.9421\n",
      "Epoch 55/100\n",
      "848/848 [==============================] - 1s 1ms/step - loss: 0.1333 - accuracy: 0.9421\n",
      "Epoch 56/100\n",
      "848/848 [==============================] - 1s 1ms/step - loss: 0.1333 - accuracy: 0.9421\n",
      "Epoch 57/100\n",
      "848/848 [==============================] - 1s 1ms/step - loss: 0.1332 - accuracy: 0.9421\n",
      "Epoch 58/100\n",
      "848/848 [==============================] - 1s 1ms/step - loss: 0.1333 - accuracy: 0.9421\n",
      "Epoch 59/100\n",
      "848/848 [==============================] - 1s 1ms/step - loss: 0.1333 - accuracy: 0.9421\n",
      "Epoch 60/100\n",
      "848/848 [==============================] - 1s 1ms/step - loss: 0.1332 - accuracy: 0.9421\n",
      "Epoch 61/100\n",
      "848/848 [==============================] - 1s 1ms/step - loss: 0.1333 - accuracy: 0.9421\n",
      "Epoch 62/100\n",
      "848/848 [==============================] - 1s 1ms/step - loss: 0.1333 - accuracy: 0.9421\n",
      "Epoch 63/100\n",
      "848/848 [==============================] - 1s 1ms/step - loss: 0.1333 - accuracy: 0.9421\n",
      "Epoch 64/100\n",
      "848/848 [==============================] - 1s 1ms/step - loss: 0.1333 - accuracy: 0.9421\n",
      "Epoch 65/100\n",
      "848/848 [==============================] - 1s 1ms/step - loss: 0.1333 - accuracy: 0.9421\n",
      "Epoch 66/100\n",
      "848/848 [==============================] - 1s 1ms/step - loss: 0.1333 - accuracy: 0.9421\n",
      "Epoch 67/100\n",
      "848/848 [==============================] - 1s 1ms/step - loss: 0.1333 - accuracy: 0.9421\n",
      "Epoch 68/100\n",
      "848/848 [==============================] - 1s 1ms/step - loss: 0.1332 - accuracy: 0.9421\n",
      "Epoch 69/100\n",
      "848/848 [==============================] - 1s 1ms/step - loss: 0.1333 - accuracy: 0.9421\n",
      "Epoch 70/100\n",
      "848/848 [==============================] - 1s 1ms/step - loss: 0.1332 - accuracy: 0.9421\n",
      "Epoch 71/100\n",
      "848/848 [==============================] - 1s 1ms/step - loss: 0.1332 - accuracy: 0.9421\n",
      "Epoch 72/100\n",
      "848/848 [==============================] - 1s 1ms/step - loss: 0.1333 - accuracy: 0.9421\n",
      "Epoch 73/100\n",
      "848/848 [==============================] - 1s 1ms/step - loss: 0.1333 - accuracy: 0.9421\n",
      "Epoch 74/100\n",
      "848/848 [==============================] - 1s 1ms/step - loss: 0.1334 - accuracy: 0.9421\n",
      "Epoch 75/100\n",
      "848/848 [==============================] - 1s 1ms/step - loss: 0.1333 - accuracy: 0.9421\n",
      "Epoch 76/100\n",
      "848/848 [==============================] - 1s 1ms/step - loss: 0.1333 - accuracy: 0.9421\n",
      "Epoch 77/100\n",
      "848/848 [==============================] - 1s 1ms/step - loss: 0.1333 - accuracy: 0.9421\n",
      "Epoch 78/100\n",
      "848/848 [==============================] - 1s 1ms/step - loss: 0.1333 - accuracy: 0.9421\n",
      "Epoch 79/100\n",
      "848/848 [==============================] - 1s 1ms/step - loss: 0.1332 - accuracy: 0.9421\n",
      "Epoch 80/100\n",
      "848/848 [==============================] - 1s 1ms/step - loss: 0.1333 - accuracy: 0.9421\n",
      "Epoch 81/100\n",
      "848/848 [==============================] - 1s 1ms/step - loss: 0.1333 - accuracy: 0.9421\n",
      "Epoch 82/100\n",
      "848/848 [==============================] - 1s 1ms/step - loss: 0.1332 - accuracy: 0.9421\n",
      "Epoch 83/100\n",
      "848/848 [==============================] - 1s 1ms/step - loss: 0.1333 - accuracy: 0.9421\n",
      "Epoch 84/100\n",
      "848/848 [==============================] - 1s 1ms/step - loss: 0.1332 - accuracy: 0.9421\n",
      "Epoch 85/100\n",
      "848/848 [==============================] - 1s 1ms/step - loss: 0.1333 - accuracy: 0.9421\n",
      "Epoch 86/100\n",
      "848/848 [==============================] - 1s 1ms/step - loss: 0.1333 - accuracy: 0.9421\n",
      "Epoch 87/100\n",
      "848/848 [==============================] - 1s 1ms/step - loss: 0.1333 - accuracy: 0.9421\n",
      "Epoch 88/100\n",
      "848/848 [==============================] - ETA: 0s - loss: 0.1333 - accuracy: 0.94 - 1s 1ms/step - loss: 0.1333 - accuracy: 0.9421\n",
      "Epoch 89/100\n",
      "848/848 [==============================] - 1s 1ms/step - loss: 0.1333 - accuracy: 0.9421\n",
      "Epoch 90/100\n",
      "848/848 [==============================] - 1s 1ms/step - loss: 0.1333 - accuracy: 0.9421\n",
      "Epoch 91/100\n",
      "848/848 [==============================] - 1s 1ms/step - loss: 0.1333 - accuracy: 0.9421\n",
      "Epoch 92/100\n",
      "848/848 [==============================] - 1s 1ms/step - loss: 0.1333 - accuracy: 0.9421\n",
      "Epoch 93/100\n",
      "848/848 [==============================] - 1s 1ms/step - loss: 0.1332 - accuracy: 0.9421\n",
      "Epoch 94/100\n",
      "848/848 [==============================] - 1s 1ms/step - loss: 0.1333 - accuracy: 0.9421\n",
      "Epoch 95/100\n",
      "848/848 [==============================] - 1s 1ms/step - loss: 0.1333 - accuracy: 0.9421\n",
      "Epoch 96/100\n",
      "848/848 [==============================] - 1s 1ms/step - loss: 0.1333 - accuracy: 0.9421\n",
      "Epoch 97/100\n",
      "848/848 [==============================] - 1s 1ms/step - loss: 0.1332 - accuracy: 0.9421\n",
      "Epoch 98/100\n",
      "848/848 [==============================] - 1s 1ms/step - loss: 0.1333 - accuracy: 0.9421\n",
      "Epoch 99/100\n",
      "848/848 [==============================] - 1s 1ms/step - loss: 0.1333 - accuracy: 0.9421\n",
      "Epoch 100/100\n",
      "848/848 [==============================] - 1s 1ms/step - loss: 0.1333 - accuracy: 0.9421\n"
     ]
    }
   ],
   "source": [
    "# Train the model\n",
    "fit_model = nn.fit(X_train,y_train,epochs=100) #epochs (run through the data)"
   ]
  },
  {
   "cell_type": "code",
   "execution_count": 101,
   "metadata": {},
   "outputs": [
    {
     "name": "stdout",
     "output_type": "stream",
     "text": [
      "283/283 - 0s - loss: 0.1394 - accuracy: 0.9390\n",
      "Loss: 0.1394200176000595, Accuracy: 0.9389718174934387\n"
     ]
    }
   ],
   "source": [
    "# Evaluate the model using the test data\n",
    "model_loss, model_accuracy = nn.evaluate(X_test,y_test,verbose=2)\n",
    "print(f\"Loss: {model_loss}, Accuracy: {model_accuracy}\")"
   ]
  },
  {
   "cell_type": "markdown",
   "metadata": {},
   "source": [
    "#### **Summary**"
   ]
  },
  {
   "cell_type": "markdown",
   "metadata": {},
   "source": [
    "Looking at the performance metrics from the model, the neural network was able to correctly classify each of the points in the test data. In other words, the model was able to correctly classify data it was not trained on **94%** of the time. Although perfect model performance is ideal, more complex datasets and models may not be able to achieve 100% accuracy. Therefore, it is important to establish model performance thresholds before designing any machine learning mode. As seen from the results of the **Deep Learning** model metrics, the observation made was that the model correctly identified **Ontario Public Health Autority** data to be **94%** of the time"
   ]
  },
  {
   "cell_type": "markdown",
   "metadata": {},
   "source": [
    "- **Create a Keras Sequentail model(add layers) for our new neural network model**\n",
    "    - The **nn_model** object will store the entire architecture of our neural network model\n",
    "    - Add layers to our Sequential model using **Keras Dense class**\n",
    "- **Compile Neural Network**"
   ]
  },
  {
   "cell_type": "code",
   "execution_count": 103,
   "metadata": {},
   "outputs": [
    {
     "name": "stdout",
     "output_type": "stream",
     "text": [
      "Model: \"sequential\"\n",
      "_________________________________________________________________\n",
      "Layer (type)                 Output Shape              Param #   \n",
      "=================================================================\n",
      "dense (Dense)                (None, 8)                 56        \n",
      "_________________________________________________________________\n",
      "dense_1 (Dense)              (None, 5)                 45        \n",
      "_________________________________________________________________\n",
      "dense_2 (Dense)              (None, 1)                 6         \n",
      "=================================================================\n",
      "Total params: 107\n",
      "Trainable params: 107\n",
      "Non-trainable params: 0\n",
      "_________________________________________________________________\n"
     ]
    }
   ],
   "source": [
    "# Define model\n",
    "nn.summary()"
   ]
  },
  {
   "cell_type": "markdown",
   "metadata": {},
   "source": [
    "**The summary returned the number of weight parameters for each layer which equals to the number of input valuse by the number of neurons**"
   ]
  },
  {
   "cell_type": "code",
   "execution_count": 104,
   "metadata": {},
   "outputs": [
    {
     "name": "stdout",
     "output_type": "stream",
     "text": [
      "Model: \"sequential_1\"\n",
      "_________________________________________________________________\n",
      "Layer (type)                 Output Shape              Param #   \n",
      "=================================================================\n",
      "dense_3 (Dense)              (None, 8)                 56        \n",
      "_________________________________________________________________\n",
      "dense_4 (Dense)              (None, 5)                 45        \n",
      "_________________________________________________________________\n",
      "dense_5 (Dense)              (None, 1)                 6         \n",
      "=================================================================\n",
      "Total params: 107\n",
      "Trainable params: 107\n",
      "Non-trainable params: 0\n",
      "_________________________________________________________________\n"
     ]
    }
   ],
   "source": [
    "# Define the model - deep neural net\n",
    "number_input_features = len(X_train[0])\n",
    "hidden_nodes_layer1 =  8\n",
    "hidden_nodes_layer2 = 5\n",
    "\n",
    "nn = tf.keras.models.Sequential()\n",
    "\n",
    "# First hidden layer\n",
    "nn.add(\n",
    "    tf.keras.layers.Dense(units=hidden_nodes_layer1, input_dim=number_input_features, activation=\"relu\")\n",
    ")\n",
    "\n",
    "# Second hidden layer\n",
    "nn.add(tf.keras.layers.Dense(units=hidden_nodes_layer2, activation=\"relu\"))\n",
    "\n",
    "# Output layer\n",
    "nn.add(tf.keras.layers.Dense(units=1, activation=\"sigmoid\"))\n",
    "\n",
    "# Check the structure of the model\n",
    "nn.summary()"
   ]
  },
  {
   "cell_type": "code",
   "execution_count": 106,
   "metadata": {},
   "outputs": [],
   "source": [
    "# Compile the model\n",
    "nn.compile(loss=\"binary_crossentropy\", optimizer=\"adam\", metrics=[\"accuracy\"])"
   ]
  },
  {
   "cell_type": "code",
   "execution_count": 109,
   "metadata": {},
   "outputs": [
    {
     "name": "stdout",
     "output_type": "stream",
     "text": [
      "Epoch 1/200\n",
      "848/848 [==============================] - 1s 1ms/step - loss: 0.1333 - accuracy: 0.9421\n",
      "Epoch 2/200\n",
      "848/848 [==============================] - 1s 1ms/step - loss: 0.1332 - accuracy: 0.9421\n",
      "Epoch 3/200\n",
      "848/848 [==============================] - 1s 1ms/step - loss: 0.1333 - accuracy: 0.9421\n",
      "Epoch 4/200\n",
      "848/848 [==============================] - 1s 1ms/step - loss: 0.1333 - accuracy: 0.9421\n",
      "Epoch 5/200\n",
      "848/848 [==============================] - 1s 1ms/step - loss: 0.1333 - accuracy: 0.9421\n",
      "Epoch 6/200\n",
      "848/848 [==============================] - 1s 1ms/step - loss: 0.1333 - accuracy: 0.9421\n",
      "Epoch 7/200\n",
      "848/848 [==============================] - 1s 1ms/step - loss: 0.1332 - accuracy: 0.9421\n",
      "Epoch 8/200\n",
      "848/848 [==============================] - 1s 1ms/step - loss: 0.1333 - accuracy: 0.9421\n",
      "Epoch 9/200\n",
      "848/848 [==============================] - 1s 1ms/step - loss: 0.1333 - accuracy: 0.9421\n",
      "Epoch 10/200\n",
      "848/848 [==============================] - 1s 1ms/step - loss: 0.1333 - accuracy: 0.9421\n",
      "Epoch 11/200\n",
      "848/848 [==============================] - 1s 1ms/step - loss: 0.1333 - accuracy: 0.9421\n",
      "Epoch 12/200\n",
      "848/848 [==============================] - 1s 1ms/step - loss: 0.1333 - accuracy: 0.9421\n",
      "Epoch 13/200\n",
      "848/848 [==============================] - 1s 1ms/step - loss: 0.1332 - accuracy: 0.9421\n",
      "Epoch 14/200\n",
      "848/848 [==============================] - 1s 1ms/step - loss: 0.1332 - accuracy: 0.9421\n",
      "Epoch 15/200\n",
      "848/848 [==============================] - 1s 1ms/step - loss: 0.1333 - accuracy: 0.9421\n",
      "Epoch 16/200\n",
      "848/848 [==============================] - 1s 1ms/step - loss: 0.1333 - accuracy: 0.9421\n",
      "Epoch 17/200\n",
      "848/848 [==============================] - 1s 1ms/step - loss: 0.1333 - accuracy: 0.9421\n",
      "Epoch 18/200\n",
      "848/848 [==============================] - 1s 1ms/step - loss: 0.1333 - accuracy: 0.9421\n",
      "Epoch 19/200\n",
      "848/848 [==============================] - 1s 1ms/step - loss: 0.1333 - accuracy: 0.9421\n",
      "Epoch 20/200\n",
      "848/848 [==============================] - 1s 1ms/step - loss: 0.1333 - accuracy: 0.9421\n",
      "Epoch 21/200\n",
      "848/848 [==============================] - 1s 1ms/step - loss: 0.1332 - accuracy: 0.9421\n",
      "Epoch 22/200\n",
      "848/848 [==============================] - 1s 1ms/step - loss: 0.1333 - accuracy: 0.9421\n",
      "Epoch 23/200\n",
      "848/848 [==============================] - 1s 1ms/step - loss: 0.1333 - accuracy: 0.9421\n",
      "Epoch 24/200\n",
      "848/848 [==============================] - 1s 1ms/step - loss: 0.1333 - accuracy: 0.9421\n",
      "Epoch 25/200\n",
      "848/848 [==============================] - 1s 1ms/step - loss: 0.1333 - accuracy: 0.9421\n",
      "Epoch 26/200\n",
      "848/848 [==============================] - 1s 1ms/step - loss: 0.1333 - accuracy: 0.9421\n",
      "Epoch 27/200\n",
      "848/848 [==============================] - 1s 1ms/step - loss: 0.1332 - accuracy: 0.9421\n",
      "Epoch 28/200\n",
      "848/848 [==============================] - 1s 1ms/step - loss: 0.1333 - accuracy: 0.9421\n",
      "Epoch 29/200\n",
      "848/848 [==============================] - 1s 1ms/step - loss: 0.1333 - accuracy: 0.9421\n",
      "Epoch 30/200\n",
      "848/848 [==============================] - 1s 1ms/step - loss: 0.1333 - accuracy: 0.9421\n",
      "Epoch 31/200\n",
      "848/848 [==============================] - 1s 1ms/step - loss: 0.1332 - accuracy: 0.9421\n",
      "Epoch 32/200\n",
      "848/848 [==============================] - 1s 1ms/step - loss: 0.1333 - accuracy: 0.9421\n",
      "Epoch 33/200\n",
      "848/848 [==============================] - 1s 1ms/step - loss: 0.1333 - accuracy: 0.9421\n",
      "Epoch 34/200\n",
      "848/848 [==============================] - 1s 1ms/step - loss: 0.1333 - accuracy: 0.9421\n",
      "Epoch 35/200\n",
      "848/848 [==============================] - 1s 1ms/step - loss: 0.1333 - accuracy: 0.9421\n",
      "Epoch 36/200\n",
      "848/848 [==============================] - 1s 1ms/step - loss: 0.1333 - accuracy: 0.9421\n",
      "Epoch 37/200\n",
      "848/848 [==============================] - 1s 1ms/step - loss: 0.1332 - accuracy: 0.9421\n",
      "Epoch 38/200\n",
      "848/848 [==============================] - 1s 1ms/step - loss: 0.1332 - accuracy: 0.9421\n",
      "Epoch 39/200\n",
      "848/848 [==============================] - 1s 1ms/step - loss: 0.1332 - accuracy: 0.9421\n",
      "Epoch 40/200\n",
      "848/848 [==============================] - 1s 1ms/step - loss: 0.1333 - accuracy: 0.9421\n",
      "Epoch 41/200\n",
      "848/848 [==============================] - 1s 1ms/step - loss: 0.1332 - accuracy: 0.9421\n",
      "Epoch 42/200\n",
      "848/848 [==============================] - 1s 1ms/step - loss: 0.1333 - accuracy: 0.9421\n",
      "Epoch 43/200\n",
      "848/848 [==============================] - 1s 1ms/step - loss: 0.1333 - accuracy: 0.9421\n",
      "Epoch 44/200\n",
      "848/848 [==============================] - 1s 1ms/step - loss: 0.1332 - accuracy: 0.9421\n",
      "Epoch 45/200\n",
      "848/848 [==============================] - 1s 1ms/step - loss: 0.1333 - accuracy: 0.9421\n",
      "Epoch 46/200\n",
      "848/848 [==============================] - 1s 1ms/step - loss: 0.1333 - accuracy: 0.9421\n",
      "Epoch 47/200\n",
      "848/848 [==============================] - 1s 1ms/step - loss: 0.1332 - accuracy: 0.9421\n",
      "Epoch 48/200\n",
      "848/848 [==============================] - 1s 1ms/step - loss: 0.1333 - accuracy: 0.9421\n",
      "Epoch 49/200\n",
      "848/848 [==============================] - 1s 1ms/step - loss: 0.1332 - accuracy: 0.9421\n",
      "Epoch 50/200\n",
      "848/848 [==============================] - 1s 1ms/step - loss: 0.1332 - accuracy: 0.9421\n",
      "Epoch 51/200\n",
      "848/848 [==============================] - 1s 1ms/step - loss: 0.1333 - accuracy: 0.9421\n",
      "Epoch 52/200\n",
      "848/848 [==============================] - 1s 1ms/step - loss: 0.1332 - accuracy: 0.9421\n",
      "Epoch 53/200\n",
      "848/848 [==============================] - 1s 1ms/step - loss: 0.1333 - accuracy: 0.9421\n",
      "Epoch 54/200\n",
      "848/848 [==============================] - 1s 1ms/step - loss: 0.1333 - accuracy: 0.9421\n",
      "Epoch 55/200\n",
      "848/848 [==============================] - 1s 1ms/step - loss: 0.1333 - accuracy: 0.9421\n",
      "Epoch 56/200\n",
      "848/848 [==============================] - 1s 1ms/step - loss: 0.1332 - accuracy: 0.9421\n",
      "Epoch 57/200\n",
      "848/848 [==============================] - 1s 1ms/step - loss: 0.1332 - accuracy: 0.9421\n",
      "Epoch 58/200\n",
      "848/848 [==============================] - 1s 1ms/step - loss: 0.1332 - accuracy: 0.9421\n",
      "Epoch 59/200\n",
      "848/848 [==============================] - ETA: 0s - loss: 0.1332 - accuracy: 0.94 - 1s 1ms/step - loss: 0.1332 - accuracy: 0.9421\n",
      "Epoch 60/200\n",
      "848/848 [==============================] - 1s 1ms/step - loss: 0.1332 - accuracy: 0.9421\n",
      "Epoch 61/200\n",
      "848/848 [==============================] - 1s 1ms/step - loss: 0.1333 - accuracy: 0.9421\n",
      "Epoch 62/200\n",
      "848/848 [==============================] - 1s 1ms/step - loss: 0.1332 - accuracy: 0.9421\n",
      "Epoch 63/200\n",
      "848/848 [==============================] - 1s 1ms/step - loss: 0.1333 - accuracy: 0.9421\n",
      "Epoch 64/200\n",
      "848/848 [==============================] - 1s 1ms/step - loss: 0.1333 - accuracy: 0.9421\n",
      "Epoch 65/200\n",
      "848/848 [==============================] - 1s 1ms/step - loss: 0.1332 - accuracy: 0.9421\n",
      "Epoch 66/200\n",
      "848/848 [==============================] - 1s 1ms/step - loss: 0.1333 - accuracy: 0.9421\n",
      "Epoch 67/200\n",
      "848/848 [==============================] - 1s 1ms/step - loss: 0.1333 - accuracy: 0.9421\n",
      "Epoch 68/200\n",
      "848/848 [==============================] - 1s 1ms/step - loss: 0.1332 - accuracy: 0.9421\n",
      "Epoch 69/200\n",
      "848/848 [==============================] - 1s 1ms/step - loss: 0.1333 - accuracy: 0.9421\n",
      "Epoch 70/200\n",
      "848/848 [==============================] - 1s 1ms/step - loss: 0.1333 - accuracy: 0.9421\n",
      "Epoch 71/200\n",
      "848/848 [==============================] - 1s 1ms/step - loss: 0.1332 - accuracy: 0.9421\n",
      "Epoch 72/200\n",
      "848/848 [==============================] - 1s 1ms/step - loss: 0.1333 - accuracy: 0.9421\n",
      "Epoch 73/200\n",
      "848/848 [==============================] - 1s 1ms/step - loss: 0.1333 - accuracy: 0.9421\n",
      "Epoch 74/200\n",
      "848/848 [==============================] - 1s 1ms/step - loss: 0.1332 - accuracy: 0.9421\n",
      "Epoch 75/200\n",
      "848/848 [==============================] - 1s 1ms/step - loss: 0.1333 - accuracy: 0.9421\n",
      "Epoch 76/200\n",
      "848/848 [==============================] - 1s 1ms/step - loss: 0.1333 - accuracy: 0.9421\n",
      "Epoch 77/200\n",
      "848/848 [==============================] - 1s 1ms/step - loss: 0.1332 - accuracy: 0.9421\n",
      "Epoch 78/200\n",
      "848/848 [==============================] - 1s 1ms/step - loss: 0.1333 - accuracy: 0.9421\n",
      "Epoch 79/200\n",
      "848/848 [==============================] - 1s 1ms/step - loss: 0.1332 - accuracy: 0.9421\n",
      "Epoch 80/200\n",
      "848/848 [==============================] - 1s 1ms/step - loss: 0.1333 - accuracy: 0.9421\n",
      "Epoch 81/200\n",
      "848/848 [==============================] - 1s 1ms/step - loss: 0.1333 - accuracy: 0.9421\n",
      "Epoch 82/200\n",
      "848/848 [==============================] - 1s 1ms/step - loss: 0.1332 - accuracy: 0.9421\n",
      "Epoch 83/200\n",
      "848/848 [==============================] - 1s 1ms/step - loss: 0.1333 - accuracy: 0.9421\n",
      "Epoch 84/200\n",
      "848/848 [==============================] - 1s 1ms/step - loss: 0.1332 - accuracy: 0.9421\n",
      "Epoch 85/200\n",
      "848/848 [==============================] - 1s 1ms/step - loss: 0.1333 - accuracy: 0.9421\n",
      "Epoch 86/200\n",
      "848/848 [==============================] - 1s 1ms/step - loss: 0.1332 - accuracy: 0.9421\n",
      "Epoch 87/200\n",
      "848/848 [==============================] - 1s 1ms/step - loss: 0.1332 - accuracy: 0.9421\n",
      "Epoch 88/200\n",
      "848/848 [==============================] - 1s 1ms/step - loss: 0.1333 - accuracy: 0.9421\n",
      "Epoch 89/200\n",
      "848/848 [==============================] - 1s 1ms/step - loss: 0.1332 - accuracy: 0.9421\n",
      "Epoch 90/200\n",
      "848/848 [==============================] - 1s 1ms/step - loss: 0.1332 - accuracy: 0.9421\n",
      "Epoch 91/200\n",
      "848/848 [==============================] - 1s 1ms/step - loss: 0.1333 - accuracy: 0.9421\n",
      "Epoch 92/200\n",
      "848/848 [==============================] - 1s 1ms/step - loss: 0.1332 - accuracy: 0.9421\n",
      "Epoch 93/200\n",
      "848/848 [==============================] - 1s 1ms/step - loss: 0.1332 - accuracy: 0.9421\n",
      "Epoch 94/200\n",
      "848/848 [==============================] - 1s 1ms/step - loss: 0.1332 - accuracy: 0.9421\n",
      "Epoch 95/200\n",
      "848/848 [==============================] - 1s 1ms/step - loss: 0.1333 - accuracy: 0.9421\n",
      "Epoch 96/200\n",
      "848/848 [==============================] - 1s 1ms/step - loss: 0.1332 - accuracy: 0.9421\n",
      "Epoch 97/200\n",
      "848/848 [==============================] - 1s 1ms/step - loss: 0.1333 - accuracy: 0.9421\n",
      "Epoch 98/200\n",
      "848/848 [==============================] - 1s 1ms/step - loss: 0.1332 - accuracy: 0.9421\n",
      "Epoch 99/200\n",
      "848/848 [==============================] - 1s 1ms/step - loss: 0.1332 - accuracy: 0.9421\n",
      "Epoch 100/200\n",
      "848/848 [==============================] - 1s 1ms/step - loss: 0.1333 - accuracy: 0.9421\n",
      "Epoch 101/200\n",
      "848/848 [==============================] - 1s 1ms/step - loss: 0.1332 - accuracy: 0.9421\n",
      "Epoch 102/200\n",
      "848/848 [==============================] - 1s 1ms/step - loss: 0.1332 - accuracy: 0.9421\n",
      "Epoch 103/200\n",
      "848/848 [==============================] - 1s 1ms/step - loss: 0.1332 - accuracy: 0.9421\n",
      "Epoch 104/200\n",
      "848/848 [==============================] - 1s 1ms/step - loss: 0.1333 - accuracy: 0.9421\n",
      "Epoch 105/200\n",
      "848/848 [==============================] - 1s 1ms/step - loss: 0.1332 - accuracy: 0.9421\n",
      "Epoch 106/200\n",
      "848/848 [==============================] - 1s 1ms/step - loss: 0.1332 - accuracy: 0.9421\n",
      "Epoch 107/200\n",
      "848/848 [==============================] - 1s 1ms/step - loss: 0.1333 - accuracy: 0.9421\n",
      "Epoch 108/200\n",
      "848/848 [==============================] - 1s 1ms/step - loss: 0.1332 - accuracy: 0.9421\n",
      "Epoch 109/200\n",
      "848/848 [==============================] - 1s 1ms/step - loss: 0.1333 - accuracy: 0.9421\n",
      "Epoch 110/200\n",
      "848/848 [==============================] - 1s 1ms/step - loss: 0.1333 - accuracy: 0.9421\n",
      "Epoch 111/200\n",
      "848/848 [==============================] - 1s 1ms/step - loss: 0.1332 - accuracy: 0.9421\n",
      "Epoch 112/200\n",
      "848/848 [==============================] - 1s 1ms/step - loss: 0.1333 - accuracy: 0.9421\n",
      "Epoch 113/200\n",
      "848/848 [==============================] - 1s 1ms/step - loss: 0.1333 - accuracy: 0.9421\n",
      "Epoch 114/200\n",
      "848/848 [==============================] - 1s 1ms/step - loss: 0.1333 - accuracy: 0.9421\n",
      "Epoch 115/200\n",
      "848/848 [==============================] - 1s 1ms/step - loss: 0.1332 - accuracy: 0.9421\n",
      "Epoch 116/200\n",
      "848/848 [==============================] - 1s 1ms/step - loss: 0.1333 - accuracy: 0.9421\n",
      "Epoch 117/200\n",
      "848/848 [==============================] - 1s 1ms/step - loss: 0.1333 - accuracy: 0.9421\n",
      "Epoch 118/200\n",
      "848/848 [==============================] - 1s 1ms/step - loss: 0.1332 - accuracy: 0.9421\n",
      "Epoch 119/200\n",
      "848/848 [==============================] - 1s 1ms/step - loss: 0.1332 - accuracy: 0.9421\n",
      "Epoch 120/200\n",
      "848/848 [==============================] - 1s 1ms/step - loss: 0.1333 - accuracy: 0.9421\n",
      "Epoch 121/200\n",
      "848/848 [==============================] - 1s 1ms/step - loss: 0.1333 - accuracy: 0.9421\n",
      "Epoch 122/200\n",
      "848/848 [==============================] - 1s 1ms/step - loss: 0.1332 - accuracy: 0.9421\n",
      "Epoch 123/200\n",
      "848/848 [==============================] - 1s 1ms/step - loss: 0.1332 - accuracy: 0.9421\n",
      "Epoch 124/200\n",
      "848/848 [==============================] - 1s 1ms/step - loss: 0.1333 - accuracy: 0.9421\n",
      "Epoch 125/200\n",
      "848/848 [==============================] - 1s 1ms/step - loss: 0.1332 - accuracy: 0.9421\n",
      "Epoch 126/200\n",
      "848/848 [==============================] - 1s 1ms/step - loss: 0.1333 - accuracy: 0.9421\n",
      "Epoch 127/200\n",
      "848/848 [==============================] - 1s 1ms/step - loss: 0.1333 - accuracy: 0.9421\n",
      "Epoch 128/200\n",
      "848/848 [==============================] - 1s 1ms/step - loss: 0.1333 - accuracy: 0.9421\n",
      "Epoch 129/200\n",
      "848/848 [==============================] - 1s 1ms/step - loss: 0.1332 - accuracy: 0.9421\n",
      "Epoch 130/200\n",
      "848/848 [==============================] - 1s 1ms/step - loss: 0.1332 - accuracy: 0.9421\n",
      "Epoch 131/200\n",
      "848/848 [==============================] - 1s 1ms/step - loss: 0.1333 - accuracy: 0.9421\n",
      "Epoch 132/200\n",
      "848/848 [==============================] - 1s 1ms/step - loss: 0.1333 - accuracy: 0.9421\n",
      "Epoch 133/200\n",
      "848/848 [==============================] - 1s 1ms/step - loss: 0.1333 - accuracy: 0.9421\n",
      "Epoch 134/200\n",
      "848/848 [==============================] - 1s 1ms/step - loss: 0.1332 - accuracy: 0.9421\n",
      "Epoch 135/200\n",
      "848/848 [==============================] - 1s 1ms/step - loss: 0.1333 - accuracy: 0.9421\n",
      "Epoch 136/200\n",
      "848/848 [==============================] - 1s 1ms/step - loss: 0.1333 - accuracy: 0.9421\n",
      "Epoch 137/200\n",
      "848/848 [==============================] - 1s 1ms/step - loss: 0.1333 - accuracy: 0.9421\n",
      "Epoch 138/200\n",
      "848/848 [==============================] - 1s 1ms/step - loss: 0.1333 - accuracy: 0.9421\n",
      "Epoch 139/200\n",
      "848/848 [==============================] - 1s 1ms/step - loss: 0.1333 - accuracy: 0.9421\n",
      "Epoch 140/200\n",
      "848/848 [==============================] - 1s 1ms/step - loss: 0.1332 - accuracy: 0.9421\n",
      "Epoch 141/200\n",
      "848/848 [==============================] - 1s 1ms/step - loss: 0.1332 - accuracy: 0.9421\n",
      "Epoch 142/200\n",
      "848/848 [==============================] - 1s 1ms/step - loss: 0.1332 - accuracy: 0.9421\n",
      "Epoch 143/200\n",
      "848/848 [==============================] - 1s 1ms/step - loss: 0.1332 - accuracy: 0.9421\n",
      "Epoch 144/200\n",
      "848/848 [==============================] - 1s 1ms/step - loss: 0.1332 - accuracy: 0.9421\n",
      "Epoch 145/200\n",
      "848/848 [==============================] - 1s 1ms/step - loss: 0.1332 - accuracy: 0.9421\n",
      "Epoch 146/200\n",
      "848/848 [==============================] - 1s 1ms/step - loss: 0.1332 - accuracy: 0.9421\n",
      "Epoch 147/200\n",
      "848/848 [==============================] - 1s 1ms/step - loss: 0.1332 - accuracy: 0.9421\n",
      "Epoch 148/200\n",
      "848/848 [==============================] - 1s 1ms/step - loss: 0.1333 - accuracy: 0.9421\n",
      "Epoch 149/200\n",
      "848/848 [==============================] - 1s 1ms/step - loss: 0.1332 - accuracy: 0.9421\n",
      "Epoch 150/200\n",
      "848/848 [==============================] - 1s 1ms/step - loss: 0.1332 - accuracy: 0.9421\n",
      "Epoch 151/200\n",
      "848/848 [==============================] - 1s 1ms/step - loss: 0.1333 - accuracy: 0.9421\n",
      "Epoch 152/200\n",
      "848/848 [==============================] - 1s 1ms/step - loss: 0.1332 - accuracy: 0.9421\n",
      "Epoch 153/200\n",
      "848/848 [==============================] - 1s 1ms/step - loss: 0.1332 - accuracy: 0.9421\n",
      "Epoch 154/200\n",
      "848/848 [==============================] - 1s 1ms/step - loss: 0.1332 - accuracy: 0.9421\n",
      "Epoch 155/200\n",
      "848/848 [==============================] - 1s 1ms/step - loss: 0.1332 - accuracy: 0.9421\n",
      "Epoch 156/200\n",
      "848/848 [==============================] - 1s 1ms/step - loss: 0.1332 - accuracy: 0.9421\n",
      "Epoch 157/200\n",
      "848/848 [==============================] - 1s 1ms/step - loss: 0.1332 - accuracy: 0.9421\n",
      "Epoch 158/200\n",
      "848/848 [==============================] - 1s 1ms/step - loss: 0.1332 - accuracy: 0.9421\n",
      "Epoch 159/200\n",
      "848/848 [==============================] - 1s 1ms/step - loss: 0.1333 - accuracy: 0.9421\n",
      "Epoch 160/200\n",
      "848/848 [==============================] - 1s 1ms/step - loss: 0.1332 - accuracy: 0.9421\n",
      "Epoch 161/200\n",
      "848/848 [==============================] - 1s 1ms/step - loss: 0.1332 - accuracy: 0.9421\n",
      "Epoch 162/200\n",
      "848/848 [==============================] - 1s 1ms/step - loss: 0.1332 - accuracy: 0.9421\n",
      "Epoch 163/200\n",
      "848/848 [==============================] - 1s 1ms/step - loss: 0.1333 - accuracy: 0.9421\n",
      "Epoch 164/200\n",
      "848/848 [==============================] - 1s 1ms/step - loss: 0.1333 - accuracy: 0.9421\n",
      "Epoch 165/200\n",
      "848/848 [==============================] - 1s 1ms/step - loss: 0.1332 - accuracy: 0.9421\n",
      "Epoch 166/200\n",
      "848/848 [==============================] - 1s 1ms/step - loss: 0.1333 - accuracy: 0.9421\n",
      "Epoch 167/200\n",
      "848/848 [==============================] - 1s 1ms/step - loss: 0.1332 - accuracy: 0.9421\n",
      "Epoch 168/200\n",
      "848/848 [==============================] - 1s 1ms/step - loss: 0.1332 - accuracy: 0.9421\n",
      "Epoch 169/200\n",
      "848/848 [==============================] - 1s 1ms/step - loss: 0.1332 - accuracy: 0.9421\n",
      "Epoch 170/200\n",
      "848/848 [==============================] - 1s 1ms/step - loss: 0.1332 - accuracy: 0.9421\n",
      "Epoch 171/200\n",
      "848/848 [==============================] - 1s 1ms/step - loss: 0.1332 - accuracy: 0.9421\n",
      "Epoch 172/200\n",
      "848/848 [==============================] - 1s 1ms/step - loss: 0.1332 - accuracy: 0.9421\n",
      "Epoch 173/200\n",
      "848/848 [==============================] - 1s 1ms/step - loss: 0.1332 - accuracy: 0.9421\n",
      "Epoch 174/200\n",
      "848/848 [==============================] - 1s 1ms/step - loss: 0.1332 - accuracy: 0.9421\n",
      "Epoch 175/200\n",
      "848/848 [==============================] - 1s 1ms/step - loss: 0.1332 - accuracy: 0.9421\n",
      "Epoch 176/200\n",
      "848/848 [==============================] - 1s 1ms/step - loss: 0.1333 - accuracy: 0.9421\n",
      "Epoch 177/200\n",
      "848/848 [==============================] - 1s 1ms/step - loss: 0.1332 - accuracy: 0.9421\n",
      "Epoch 178/200\n",
      "848/848 [==============================] - 1s 1ms/step - loss: 0.1332 - accuracy: 0.9421\n",
      "Epoch 179/200\n",
      "848/848 [==============================] - 1s 1ms/step - loss: 0.1332 - accuracy: 0.9421\n",
      "Epoch 180/200\n",
      "848/848 [==============================] - 1s 1ms/step - loss: 0.1332 - accuracy: 0.9421\n",
      "Epoch 181/200\n",
      "848/848 [==============================] - 1s 1ms/step - loss: 0.1332 - accuracy: 0.9421\n",
      "Epoch 182/200\n",
      "848/848 [==============================] - 1s 1ms/step - loss: 0.1333 - accuracy: 0.9421\n",
      "Epoch 183/200\n",
      "848/848 [==============================] - 1s 1ms/step - loss: 0.1332 - accuracy: 0.9421\n",
      "Epoch 184/200\n",
      "848/848 [==============================] - 1s 1ms/step - loss: 0.1332 - accuracy: 0.9421\n",
      "Epoch 185/200\n",
      "848/848 [==============================] - 1s 1ms/step - loss: 0.1332 - accuracy: 0.9421\n",
      "Epoch 186/200\n",
      "848/848 [==============================] - 1s 1ms/step - loss: 0.1333 - accuracy: 0.9421\n",
      "Epoch 187/200\n",
      "848/848 [==============================] - 1s 1ms/step - loss: 0.1332 - accuracy: 0.9421\n",
      "Epoch 188/200\n",
      "848/848 [==============================] - 1s 1ms/step - loss: 0.1333 - accuracy: 0.9421\n",
      "Epoch 189/200\n",
      "848/848 [==============================] - 1s 1ms/step - loss: 0.1332 - accuracy: 0.9421\n",
      "Epoch 190/200\n",
      "848/848 [==============================] - 1s 1ms/step - loss: 0.1332 - accuracy: 0.9421\n",
      "Epoch 191/200\n",
      "848/848 [==============================] - 1s 1ms/step - loss: 0.1332 - accuracy: 0.9421\n",
      "Epoch 192/200\n",
      "848/848 [==============================] - 1s 1ms/step - loss: 0.1332 - accuracy: 0.9421\n",
      "Epoch 193/200\n",
      "848/848 [==============================] - 1s 1ms/step - loss: 0.1332 - accuracy: 0.9421\n",
      "Epoch 194/200\n",
      "848/848 [==============================] - 1s 1ms/step - loss: 0.1332 - accuracy: 0.9421\n",
      "Epoch 195/200\n",
      "848/848 [==============================] - 1s 1ms/step - loss: 0.1332 - accuracy: 0.9421\n",
      "Epoch 196/200\n",
      "848/848 [==============================] - 1s 1ms/step - loss: 0.1332 - accuracy: 0.9421\n",
      "Epoch 197/200\n",
      "848/848 [==============================] - 1s 1ms/step - loss: 0.1332 - accuracy: 0.9421\n",
      "Epoch 198/200\n",
      "848/848 [==============================] - 1s 1ms/step - loss: 0.1332 - accuracy: 0.9421\n",
      "Epoch 199/200\n",
      "848/848 [==============================] - 1s 1ms/step - loss: 0.1332 - accuracy: 0.9421\n",
      "Epoch 200/200\n",
      "848/848 [==============================] - 1s 1ms/step - loss: 0.1333 - accuracy: 0.9421\n"
     ]
    }
   ],
   "source": [
    "# Train the model\n",
    "fit_model = nn.fit(X_train,y_train,epochs=200)"
   ]
  },
  {
   "cell_type": "code",
   "execution_count": 108,
   "metadata": {},
   "outputs": [
    {
     "name": "stdout",
     "output_type": "stream",
     "text": [
      "283/283 - 0s - loss: 0.1394 - accuracy: 0.9390\n",
      "Loss: 0.13941359519958496, Accuracy: 0.9389718174934387\n"
     ]
    }
   ],
   "source": [
    "# Evaluate the model using the test data\n",
    "model_loss, model_accuracy = nn.evaluate(X_test,y_test,verbose=2)\n",
    "print(f\"Loss: {model_loss}, Accuracy: {model_accuracy}\")"
   ]
  },
  {
   "cell_type": "markdown",
   "metadata": {},
   "source": [
    "After adding more epochs (200) and running it again; the deep learning model's performance metrics indicated that the model returned the same results as the first one"
   ]
  },
  {
   "cell_type": "markdown",
   "metadata": {},
   "source": [
    "### **Plot PHU Hotspots in Ontario Canada**"
   ]
  },
  {
   "cell_type": "code",
   "execution_count": 102,
   "metadata": {},
   "outputs": [
    {
     "data": {
      "application/vnd.plotly.v1+json": {
       "config": {
        "plotlyServerURL": "https://plot.ly"
       },
       "data": [
        {
         "hovertemplate": "<b>%{hovertext}</b><br><br>Onset w/in Date=current day<br>Cases=%{marker.size}<br>Reporting_PHU_Latitude=%{lat}<br>Reporting_PHU_Longitude=%{lon}<extra></extra>",
         "hovertext": [
          "Algoma Public Health Unit",
          "Brant County Health Unit",
          "Chatham-Kent Health Unit",
          "Durham Region Health Department",
          "Eastern Ontario Health Unit",
          "Grey Bruce Health Unit",
          "Haldimand-Norfolk Health Unit",
          "Haliburton, Kawartha, Pine Ridge District Health Unit",
          "Halton Region Health Department",
          "Hamilton Public Health Services",
          "Hastings and Prince Edward Counties Health Unit",
          "Huron Perth District Health Unit",
          "Kingston, Frontenac and Lennox & Addington Public Health",
          "Lambton Public Health",
          "Leeds, Grenville and Lanark District Health Unit",
          "Middlesex-London Health Unit",
          "Niagara Region Public Health Department",
          "North Bay Parry Sound District Health Unit",
          "Northwestern Health Unit",
          "Ottawa Public Health",
          "Peel Public Health",
          "Peterborough Public Health",
          "Porcupine Health Unit",
          "Region of Waterloo, Public Health",
          "Renfrew County and District Health Unit",
          "Simcoe Muskoka District Health Unit",
          "Southwestern Public Health",
          "Sudbury & District Health Unit",
          "Thunder Bay District Health Unit",
          "Timiskaming Health Unit",
          "Toronto Public Health",
          "Wellington-Dufferin-Guelph Public Health",
          "Windsor-Essex County Health Unit",
          "York Region Public Health Services"
         ],
         "lat": [
          46.5323728,
          43.151811,
          42.403861,
          43.898604999999996,
          45.02915233,
          44.57619612,
          42.84782526,
          43.96817279,
          43.41399692,
          43.2576311,
          44.18667362,
          43.3686615,
          44.2278735,
          42.98641646,
          44.61584261,
          42.98146842,
          43.1165366,
          46.31320706,
          49.76961482,
          45.3456651,
          43.6474713,
          44.30163229,
          48.47251,
          43.46287573,
          45.799406,
          44.41071258,
          42.77780366,
          46.46609195,
          48.4005716,
          47.5092835,
          43.65659125,
          43.5248813,
          42.3087965,
          44.048023
         ],
         "legendgroup": "current day",
         "lon": [
          -84.3148358,
          -80.27437415,
          -82.208561,
          -78.940341,
          -74.73629779,
          -80.94097993,
          -80.30381491,
          -78.28579239,
          -79.74479581,
          -79.87134089,
          -77.39144554,
          -81.00191283,
          -76.5252108,
          -82.40480836,
          -75.70283308,
          -81.25401572,
          -79.2412197,
          -79.46784050000001,
          -94.48825435,
          -75.7639122,
          -79.7088933,
          -78.32134748,
          -81.32875,
          -80.52091315,
          -77.118727,
          -79.68630597,
          -81.15115646,
          -80.99805884,
          -89.25885079999999,
          -79.681632,
          -79.37935801,
          -80.2337433,
          -83.0336705,
          -79.480239
         ],
         "marker": {
          "color": "red",
          "size": [
           24,
           133,
           162,
           1724,
           166,
           107,
           431,
           201,
           781,
           847,
           44,
           59,
           104,
           286,
           354,
           631,
           763,
           35,
           41,
           2123,
           6027,
           95,
           67,
           1313,
           29,
           607,
           85,
           67,
           93,
           18,
           13511,
           493,
           1675,
           3082
          ],
          "sizemode": "area",
          "sizeref": 17.23341836734694
         },
         "mode": "markers",
         "name": "current day",
         "showlegend": true,
         "subplot": "mapbox",
         "type": "scattermapbox"
        }
       ],
       "layout": {
        "height": 800,
        "legend": {
         "itemsizing": "constant",
         "title": {
          "text": "Onset w/in Date"
         },
         "tracegroupgap": 0
        },
        "mapbox": {
         "center": {
          "lat": 45,
          "lon": -79.4
         },
         "domain": {
          "x": [
           0,
           1
          ],
          "y": [
           0,
           1
          ]
         },
         "style": "open-street-map",
         "zoom": 5.4
        },
        "template": {
         "data": {
          "bar": [
           {
            "error_x": {
             "color": "#2a3f5f"
            },
            "error_y": {
             "color": "#2a3f5f"
            },
            "marker": {
             "line": {
              "color": "#E5ECF6",
              "width": 0.5
             }
            },
            "type": "bar"
           }
          ],
          "barpolar": [
           {
            "marker": {
             "line": {
              "color": "#E5ECF6",
              "width": 0.5
             }
            },
            "type": "barpolar"
           }
          ],
          "carpet": [
           {
            "aaxis": {
             "endlinecolor": "#2a3f5f",
             "gridcolor": "white",
             "linecolor": "white",
             "minorgridcolor": "white",
             "startlinecolor": "#2a3f5f"
            },
            "baxis": {
             "endlinecolor": "#2a3f5f",
             "gridcolor": "white",
             "linecolor": "white",
             "minorgridcolor": "white",
             "startlinecolor": "#2a3f5f"
            },
            "type": "carpet"
           }
          ],
          "choropleth": [
           {
            "colorbar": {
             "outlinewidth": 0,
             "ticks": ""
            },
            "type": "choropleth"
           }
          ],
          "contour": [
           {
            "colorbar": {
             "outlinewidth": 0,
             "ticks": ""
            },
            "colorscale": [
             [
              0,
              "#0d0887"
             ],
             [
              0.1111111111111111,
              "#46039f"
             ],
             [
              0.2222222222222222,
              "#7201a8"
             ],
             [
              0.3333333333333333,
              "#9c179e"
             ],
             [
              0.4444444444444444,
              "#bd3786"
             ],
             [
              0.5555555555555556,
              "#d8576b"
             ],
             [
              0.6666666666666666,
              "#ed7953"
             ],
             [
              0.7777777777777778,
              "#fb9f3a"
             ],
             [
              0.8888888888888888,
              "#fdca26"
             ],
             [
              1,
              "#f0f921"
             ]
            ],
            "type": "contour"
           }
          ],
          "contourcarpet": [
           {
            "colorbar": {
             "outlinewidth": 0,
             "ticks": ""
            },
            "type": "contourcarpet"
           }
          ],
          "heatmap": [
           {
            "colorbar": {
             "outlinewidth": 0,
             "ticks": ""
            },
            "colorscale": [
             [
              0,
              "#0d0887"
             ],
             [
              0.1111111111111111,
              "#46039f"
             ],
             [
              0.2222222222222222,
              "#7201a8"
             ],
             [
              0.3333333333333333,
              "#9c179e"
             ],
             [
              0.4444444444444444,
              "#bd3786"
             ],
             [
              0.5555555555555556,
              "#d8576b"
             ],
             [
              0.6666666666666666,
              "#ed7953"
             ],
             [
              0.7777777777777778,
              "#fb9f3a"
             ],
             [
              0.8888888888888888,
              "#fdca26"
             ],
             [
              1,
              "#f0f921"
             ]
            ],
            "type": "heatmap"
           }
          ],
          "heatmapgl": [
           {
            "colorbar": {
             "outlinewidth": 0,
             "ticks": ""
            },
            "colorscale": [
             [
              0,
              "#0d0887"
             ],
             [
              0.1111111111111111,
              "#46039f"
             ],
             [
              0.2222222222222222,
              "#7201a8"
             ],
             [
              0.3333333333333333,
              "#9c179e"
             ],
             [
              0.4444444444444444,
              "#bd3786"
             ],
             [
              0.5555555555555556,
              "#d8576b"
             ],
             [
              0.6666666666666666,
              "#ed7953"
             ],
             [
              0.7777777777777778,
              "#fb9f3a"
             ],
             [
              0.8888888888888888,
              "#fdca26"
             ],
             [
              1,
              "#f0f921"
             ]
            ],
            "type": "heatmapgl"
           }
          ],
          "histogram": [
           {
            "marker": {
             "colorbar": {
              "outlinewidth": 0,
              "ticks": ""
             }
            },
            "type": "histogram"
           }
          ],
          "histogram2d": [
           {
            "colorbar": {
             "outlinewidth": 0,
             "ticks": ""
            },
            "colorscale": [
             [
              0,
              "#0d0887"
             ],
             [
              0.1111111111111111,
              "#46039f"
             ],
             [
              0.2222222222222222,
              "#7201a8"
             ],
             [
              0.3333333333333333,
              "#9c179e"
             ],
             [
              0.4444444444444444,
              "#bd3786"
             ],
             [
              0.5555555555555556,
              "#d8576b"
             ],
             [
              0.6666666666666666,
              "#ed7953"
             ],
             [
              0.7777777777777778,
              "#fb9f3a"
             ],
             [
              0.8888888888888888,
              "#fdca26"
             ],
             [
              1,
              "#f0f921"
             ]
            ],
            "type": "histogram2d"
           }
          ],
          "histogram2dcontour": [
           {
            "colorbar": {
             "outlinewidth": 0,
             "ticks": ""
            },
            "colorscale": [
             [
              0,
              "#0d0887"
             ],
             [
              0.1111111111111111,
              "#46039f"
             ],
             [
              0.2222222222222222,
              "#7201a8"
             ],
             [
              0.3333333333333333,
              "#9c179e"
             ],
             [
              0.4444444444444444,
              "#bd3786"
             ],
             [
              0.5555555555555556,
              "#d8576b"
             ],
             [
              0.6666666666666666,
              "#ed7953"
             ],
             [
              0.7777777777777778,
              "#fb9f3a"
             ],
             [
              0.8888888888888888,
              "#fdca26"
             ],
             [
              1,
              "#f0f921"
             ]
            ],
            "type": "histogram2dcontour"
           }
          ],
          "mesh3d": [
           {
            "colorbar": {
             "outlinewidth": 0,
             "ticks": ""
            },
            "type": "mesh3d"
           }
          ],
          "parcoords": [
           {
            "line": {
             "colorbar": {
              "outlinewidth": 0,
              "ticks": ""
             }
            },
            "type": "parcoords"
           }
          ],
          "pie": [
           {
            "automargin": true,
            "type": "pie"
           }
          ],
          "scatter": [
           {
            "marker": {
             "colorbar": {
              "outlinewidth": 0,
              "ticks": ""
             }
            },
            "type": "scatter"
           }
          ],
          "scatter3d": [
           {
            "line": {
             "colorbar": {
              "outlinewidth": 0,
              "ticks": ""
             }
            },
            "marker": {
             "colorbar": {
              "outlinewidth": 0,
              "ticks": ""
             }
            },
            "type": "scatter3d"
           }
          ],
          "scattercarpet": [
           {
            "marker": {
             "colorbar": {
              "outlinewidth": 0,
              "ticks": ""
             }
            },
            "type": "scattercarpet"
           }
          ],
          "scattergeo": [
           {
            "marker": {
             "colorbar": {
              "outlinewidth": 0,
              "ticks": ""
             }
            },
            "type": "scattergeo"
           }
          ],
          "scattergl": [
           {
            "marker": {
             "colorbar": {
              "outlinewidth": 0,
              "ticks": ""
             }
            },
            "type": "scattergl"
           }
          ],
          "scattermapbox": [
           {
            "marker": {
             "colorbar": {
              "outlinewidth": 0,
              "ticks": ""
             }
            },
            "type": "scattermapbox"
           }
          ],
          "scatterpolar": [
           {
            "marker": {
             "colorbar": {
              "outlinewidth": 0,
              "ticks": ""
             }
            },
            "type": "scatterpolar"
           }
          ],
          "scatterpolargl": [
           {
            "marker": {
             "colorbar": {
              "outlinewidth": 0,
              "ticks": ""
             }
            },
            "type": "scatterpolargl"
           }
          ],
          "scatterternary": [
           {
            "marker": {
             "colorbar": {
              "outlinewidth": 0,
              "ticks": ""
             }
            },
            "type": "scatterternary"
           }
          ],
          "surface": [
           {
            "colorbar": {
             "outlinewidth": 0,
             "ticks": ""
            },
            "colorscale": [
             [
              0,
              "#0d0887"
             ],
             [
              0.1111111111111111,
              "#46039f"
             ],
             [
              0.2222222222222222,
              "#7201a8"
             ],
             [
              0.3333333333333333,
              "#9c179e"
             ],
             [
              0.4444444444444444,
              "#bd3786"
             ],
             [
              0.5555555555555556,
              "#d8576b"
             ],
             [
              0.6666666666666666,
              "#ed7953"
             ],
             [
              0.7777777777777778,
              "#fb9f3a"
             ],
             [
              0.8888888888888888,
              "#fdca26"
             ],
             [
              1,
              "#f0f921"
             ]
            ],
            "type": "surface"
           }
          ],
          "table": [
           {
            "cells": {
             "fill": {
              "color": "#EBF0F8"
             },
             "line": {
              "color": "white"
             }
            },
            "header": {
             "fill": {
              "color": "#C8D4E3"
             },
             "line": {
              "color": "white"
             }
            },
            "type": "table"
           }
          ]
         },
         "layout": {
          "annotationdefaults": {
           "arrowcolor": "#2a3f5f",
           "arrowhead": 0,
           "arrowwidth": 1
          },
          "coloraxis": {
           "colorbar": {
            "outlinewidth": 0,
            "ticks": ""
           }
          },
          "colorscale": {
           "diverging": [
            [
             0,
             "#8e0152"
            ],
            [
             0.1,
             "#c51b7d"
            ],
            [
             0.2,
             "#de77ae"
            ],
            [
             0.3,
             "#f1b6da"
            ],
            [
             0.4,
             "#fde0ef"
            ],
            [
             0.5,
             "#f7f7f7"
            ],
            [
             0.6,
             "#e6f5d0"
            ],
            [
             0.7,
             "#b8e186"
            ],
            [
             0.8,
             "#7fbc41"
            ],
            [
             0.9,
             "#4d9221"
            ],
            [
             1,
             "#276419"
            ]
           ],
           "sequential": [
            [
             0,
             "#0d0887"
            ],
            [
             0.1111111111111111,
             "#46039f"
            ],
            [
             0.2222222222222222,
             "#7201a8"
            ],
            [
             0.3333333333333333,
             "#9c179e"
            ],
            [
             0.4444444444444444,
             "#bd3786"
            ],
            [
             0.5555555555555556,
             "#d8576b"
            ],
            [
             0.6666666666666666,
             "#ed7953"
            ],
            [
             0.7777777777777778,
             "#fb9f3a"
            ],
            [
             0.8888888888888888,
             "#fdca26"
            ],
            [
             1,
             "#f0f921"
            ]
           ],
           "sequentialminus": [
            [
             0,
             "#0d0887"
            ],
            [
             0.1111111111111111,
             "#46039f"
            ],
            [
             0.2222222222222222,
             "#7201a8"
            ],
            [
             0.3333333333333333,
             "#9c179e"
            ],
            [
             0.4444444444444444,
             "#bd3786"
            ],
            [
             0.5555555555555556,
             "#d8576b"
            ],
            [
             0.6666666666666666,
             "#ed7953"
            ],
            [
             0.7777777777777778,
             "#fb9f3a"
            ],
            [
             0.8888888888888888,
             "#fdca26"
            ],
            [
             1,
             "#f0f921"
            ]
           ]
          },
          "colorway": [
           "#636efa",
           "#EF553B",
           "#00cc96",
           "#ab63fa",
           "#FFA15A",
           "#19d3f3",
           "#FF6692",
           "#B6E880",
           "#FF97FF",
           "#FECB52"
          ],
          "font": {
           "color": "#2a3f5f"
          },
          "geo": {
           "bgcolor": "white",
           "lakecolor": "white",
           "landcolor": "#E5ECF6",
           "showlakes": true,
           "showland": true,
           "subunitcolor": "white"
          },
          "hoverlabel": {
           "align": "left"
          },
          "hovermode": "closest",
          "mapbox": {
           "style": "light"
          },
          "paper_bgcolor": "white",
          "plot_bgcolor": "#E5ECF6",
          "polar": {
           "angularaxis": {
            "gridcolor": "white",
            "linecolor": "white",
            "ticks": ""
           },
           "bgcolor": "#E5ECF6",
           "radialaxis": {
            "gridcolor": "white",
            "linecolor": "white",
            "ticks": ""
           }
          },
          "scene": {
           "xaxis": {
            "backgroundcolor": "#E5ECF6",
            "gridcolor": "white",
            "gridwidth": 2,
            "linecolor": "white",
            "showbackground": true,
            "ticks": "",
            "zerolinecolor": "white"
           },
           "yaxis": {
            "backgroundcolor": "#E5ECF6",
            "gridcolor": "white",
            "gridwidth": 2,
            "linecolor": "white",
            "showbackground": true,
            "ticks": "",
            "zerolinecolor": "white"
           },
           "zaxis": {
            "backgroundcolor": "#E5ECF6",
            "gridcolor": "white",
            "gridwidth": 2,
            "linecolor": "white",
            "showbackground": true,
            "ticks": "",
            "zerolinecolor": "white"
           }
          },
          "shapedefaults": {
           "line": {
            "color": "#2a3f5f"
           }
          },
          "ternary": {
           "aaxis": {
            "gridcolor": "white",
            "linecolor": "white",
            "ticks": ""
           },
           "baxis": {
            "gridcolor": "white",
            "linecolor": "white",
            "ticks": ""
           },
           "bgcolor": "#E5ECF6",
           "caxis": {
            "gridcolor": "white",
            "linecolor": "white",
            "ticks": ""
           }
          },
          "title": {
           "x": 0.05
          },
          "xaxis": {
           "automargin": true,
           "gridcolor": "white",
           "linecolor": "white",
           "ticks": "",
           "title": {
            "standoff": 15
           },
           "zerolinecolor": "white",
           "zerolinewidth": 2
          },
          "yaxis": {
           "automargin": true,
           "gridcolor": "white",
           "linecolor": "white",
           "ticks": "",
           "title": {
            "standoff": 15
           },
           "zerolinecolor": "white",
           "zerolinewidth": 2
          }
         }
        },
        "title": {
         "text": " Confirmed Cases per Public Health Unit"
        }
       }
      },
      "text/html": [
       "<div>\n",
       "        \n",
       "        \n",
       "            <div id=\"f4155403-0ff2-41c8-b474-c17966be6fcf\" class=\"plotly-graph-div\" style=\"height:800px; width:100%;\"></div>\n",
       "            <script type=\"text/javascript\">\n",
       "                require([\"plotly\"], function(Plotly) {\n",
       "                    window.PLOTLYENV=window.PLOTLYENV || {};\n",
       "                    \n",
       "                if (document.getElementById(\"f4155403-0ff2-41c8-b474-c17966be6fcf\")) {\n",
       "                    Plotly.newPlot(\n",
       "                        'f4155403-0ff2-41c8-b474-c17966be6fcf',\n",
       "                        [{\"hovertemplate\": \"<b>%{hovertext}</b><br><br>Onset w/in Date=current day<br>Cases=%{marker.size}<br>Reporting_PHU_Latitude=%{lat}<br>Reporting_PHU_Longitude=%{lon}<extra></extra>\", \"hovertext\": [\"Algoma Public Health Unit\", \"Brant County Health Unit\", \"Chatham-Kent Health Unit\", \"Durham Region Health Department\", \"Eastern Ontario Health Unit\", \"Grey Bruce Health Unit\", \"Haldimand-Norfolk Health Unit\", \"Haliburton, Kawartha, Pine Ridge District Health Unit\", \"Halton Region Health Department\", \"Hamilton Public Health Services\", \"Hastings and Prince Edward Counties Health Unit\", \"Huron Perth District Health Unit\", \"Kingston, Frontenac and Lennox & Addington Public Health\", \"Lambton Public Health\", \"Leeds, Grenville and Lanark District Health Unit\", \"Middlesex-London Health Unit\", \"Niagara Region Public Health Department\", \"North Bay Parry Sound District Health Unit\", \"Northwestern Health Unit\", \"Ottawa Public Health\", \"Peel Public Health\", \"Peterborough Public Health\", \"Porcupine Health Unit\", \"Region of Waterloo, Public Health\", \"Renfrew County and District Health Unit\", \"Simcoe Muskoka District Health Unit\", \"Southwestern Public Health\", \"Sudbury & District Health Unit\", \"Thunder Bay District Health Unit\", \"Timiskaming Health Unit\", \"Toronto Public Health\", \"Wellington-Dufferin-Guelph Public Health\", \"Windsor-Essex County Health Unit\", \"York Region Public Health Services\"], \"lat\": [46.5323728, 43.151811, 42.403861, 43.898604999999996, 45.02915233, 44.57619612, 42.84782526, 43.96817279, 43.41399692, 43.2576311, 44.18667362, 43.3686615, 44.2278735, 42.98641646, 44.61584261, 42.98146842, 43.1165366, 46.31320706, 49.76961482, 45.3456651, 43.6474713, 44.30163229, 48.47251, 43.46287573, 45.799406, 44.41071258, 42.77780366, 46.46609195, 48.4005716, 47.5092835, 43.65659125, 43.5248813, 42.3087965, 44.048023], \"legendgroup\": \"current day\", \"lon\": [-84.3148358, -80.27437415, -82.208561, -78.940341, -74.73629779, -80.94097993, -80.30381491, -78.28579239, -79.74479581, -79.87134089, -77.39144554, -81.00191283, -76.5252108, -82.40480836, -75.70283308, -81.25401572, -79.2412197, -79.46784050000001, -94.48825435, -75.7639122, -79.7088933, -78.32134748, -81.32875, -80.52091315, -77.118727, -79.68630597, -81.15115646, -80.99805884, -89.25885079999999, -79.681632, -79.37935801, -80.2337433, -83.0336705, -79.480239], \"marker\": {\"color\": \"red\", \"size\": [24, 133, 162, 1724, 166, 107, 431, 201, 781, 847, 44, 59, 104, 286, 354, 631, 763, 35, 41, 2123, 6027, 95, 67, 1313, 29, 607, 85, 67, 93, 18, 13511, 493, 1675, 3082], \"sizemode\": \"area\", \"sizeref\": 17.23341836734694}, \"mode\": \"markers\", \"name\": \"current day\", \"showlegend\": true, \"subplot\": \"mapbox\", \"type\": \"scattermapbox\"}],\n",
       "                        {\"height\": 800, \"legend\": {\"itemsizing\": \"constant\", \"title\": {\"text\": \"Onset w/in Date\"}, \"tracegroupgap\": 0}, \"mapbox\": {\"center\": {\"lat\": 45, \"lon\": -79.4}, \"domain\": {\"x\": [0.0, 1.0], \"y\": [0.0, 1.0]}, \"style\": \"open-street-map\", \"zoom\": 5.4}, \"template\": {\"data\": {\"bar\": [{\"error_x\": {\"color\": \"#2a3f5f\"}, \"error_y\": {\"color\": \"#2a3f5f\"}, \"marker\": {\"line\": {\"color\": \"#E5ECF6\", \"width\": 0.5}}, \"type\": \"bar\"}], \"barpolar\": [{\"marker\": {\"line\": {\"color\": \"#E5ECF6\", \"width\": 0.5}}, \"type\": \"barpolar\"}], \"carpet\": [{\"aaxis\": {\"endlinecolor\": \"#2a3f5f\", \"gridcolor\": \"white\", \"linecolor\": \"white\", \"minorgridcolor\": \"white\", \"startlinecolor\": \"#2a3f5f\"}, \"baxis\": {\"endlinecolor\": \"#2a3f5f\", \"gridcolor\": \"white\", \"linecolor\": \"white\", \"minorgridcolor\": \"white\", \"startlinecolor\": \"#2a3f5f\"}, \"type\": \"carpet\"}], \"choropleth\": [{\"colorbar\": {\"outlinewidth\": 0, \"ticks\": \"\"}, \"type\": \"choropleth\"}], \"contour\": [{\"colorbar\": {\"outlinewidth\": 0, \"ticks\": \"\"}, \"colorscale\": [[0.0, \"#0d0887\"], [0.1111111111111111, \"#46039f\"], [0.2222222222222222, \"#7201a8\"], [0.3333333333333333, \"#9c179e\"], [0.4444444444444444, \"#bd3786\"], [0.5555555555555556, \"#d8576b\"], [0.6666666666666666, \"#ed7953\"], [0.7777777777777778, \"#fb9f3a\"], [0.8888888888888888, \"#fdca26\"], [1.0, \"#f0f921\"]], \"type\": \"contour\"}], \"contourcarpet\": [{\"colorbar\": {\"outlinewidth\": 0, \"ticks\": \"\"}, \"type\": \"contourcarpet\"}], \"heatmap\": [{\"colorbar\": {\"outlinewidth\": 0, \"ticks\": \"\"}, \"colorscale\": [[0.0, \"#0d0887\"], [0.1111111111111111, \"#46039f\"], [0.2222222222222222, \"#7201a8\"], [0.3333333333333333, \"#9c179e\"], [0.4444444444444444, \"#bd3786\"], [0.5555555555555556, \"#d8576b\"], [0.6666666666666666, \"#ed7953\"], [0.7777777777777778, \"#fb9f3a\"], [0.8888888888888888, \"#fdca26\"], [1.0, \"#f0f921\"]], \"type\": \"heatmap\"}], \"heatmapgl\": [{\"colorbar\": {\"outlinewidth\": 0, \"ticks\": \"\"}, \"colorscale\": [[0.0, \"#0d0887\"], [0.1111111111111111, \"#46039f\"], [0.2222222222222222, \"#7201a8\"], [0.3333333333333333, \"#9c179e\"], [0.4444444444444444, \"#bd3786\"], [0.5555555555555556, \"#d8576b\"], [0.6666666666666666, \"#ed7953\"], [0.7777777777777778, \"#fb9f3a\"], [0.8888888888888888, \"#fdca26\"], [1.0, \"#f0f921\"]], \"type\": \"heatmapgl\"}], \"histogram\": [{\"marker\": {\"colorbar\": {\"outlinewidth\": 0, \"ticks\": \"\"}}, \"type\": \"histogram\"}], \"histogram2d\": [{\"colorbar\": {\"outlinewidth\": 0, \"ticks\": \"\"}, \"colorscale\": [[0.0, \"#0d0887\"], [0.1111111111111111, \"#46039f\"], [0.2222222222222222, \"#7201a8\"], [0.3333333333333333, \"#9c179e\"], [0.4444444444444444, \"#bd3786\"], [0.5555555555555556, \"#d8576b\"], [0.6666666666666666, \"#ed7953\"], [0.7777777777777778, \"#fb9f3a\"], [0.8888888888888888, \"#fdca26\"], [1.0, \"#f0f921\"]], \"type\": \"histogram2d\"}], \"histogram2dcontour\": [{\"colorbar\": {\"outlinewidth\": 0, \"ticks\": \"\"}, \"colorscale\": [[0.0, \"#0d0887\"], [0.1111111111111111, \"#46039f\"], [0.2222222222222222, \"#7201a8\"], [0.3333333333333333, \"#9c179e\"], [0.4444444444444444, \"#bd3786\"], [0.5555555555555556, \"#d8576b\"], [0.6666666666666666, \"#ed7953\"], [0.7777777777777778, \"#fb9f3a\"], [0.8888888888888888, \"#fdca26\"], [1.0, \"#f0f921\"]], \"type\": \"histogram2dcontour\"}], \"mesh3d\": [{\"colorbar\": {\"outlinewidth\": 0, \"ticks\": \"\"}, \"type\": \"mesh3d\"}], \"parcoords\": [{\"line\": {\"colorbar\": {\"outlinewidth\": 0, \"ticks\": \"\"}}, \"type\": \"parcoords\"}], \"pie\": [{\"automargin\": true, \"type\": \"pie\"}], \"scatter\": [{\"marker\": {\"colorbar\": {\"outlinewidth\": 0, \"ticks\": \"\"}}, \"type\": \"scatter\"}], \"scatter3d\": [{\"line\": {\"colorbar\": {\"outlinewidth\": 0, \"ticks\": \"\"}}, \"marker\": {\"colorbar\": {\"outlinewidth\": 0, \"ticks\": \"\"}}, \"type\": \"scatter3d\"}], \"scattercarpet\": [{\"marker\": {\"colorbar\": {\"outlinewidth\": 0, \"ticks\": \"\"}}, \"type\": \"scattercarpet\"}], \"scattergeo\": [{\"marker\": {\"colorbar\": {\"outlinewidth\": 0, \"ticks\": \"\"}}, \"type\": \"scattergeo\"}], \"scattergl\": [{\"marker\": {\"colorbar\": {\"outlinewidth\": 0, \"ticks\": \"\"}}, \"type\": \"scattergl\"}], \"scattermapbox\": [{\"marker\": {\"colorbar\": {\"outlinewidth\": 0, \"ticks\": \"\"}}, \"type\": \"scattermapbox\"}], \"scatterpolar\": [{\"marker\": {\"colorbar\": {\"outlinewidth\": 0, \"ticks\": \"\"}}, \"type\": \"scatterpolar\"}], \"scatterpolargl\": [{\"marker\": {\"colorbar\": {\"outlinewidth\": 0, \"ticks\": \"\"}}, \"type\": \"scatterpolargl\"}], \"scatterternary\": [{\"marker\": {\"colorbar\": {\"outlinewidth\": 0, \"ticks\": \"\"}}, \"type\": \"scatterternary\"}], \"surface\": [{\"colorbar\": {\"outlinewidth\": 0, \"ticks\": \"\"}, \"colorscale\": [[0.0, \"#0d0887\"], [0.1111111111111111, \"#46039f\"], [0.2222222222222222, \"#7201a8\"], [0.3333333333333333, \"#9c179e\"], [0.4444444444444444, \"#bd3786\"], [0.5555555555555556, \"#d8576b\"], [0.6666666666666666, \"#ed7953\"], [0.7777777777777778, \"#fb9f3a\"], [0.8888888888888888, \"#fdca26\"], [1.0, \"#f0f921\"]], \"type\": \"surface\"}], \"table\": [{\"cells\": {\"fill\": {\"color\": \"#EBF0F8\"}, \"line\": {\"color\": \"white\"}}, \"header\": {\"fill\": {\"color\": \"#C8D4E3\"}, \"line\": {\"color\": \"white\"}}, \"type\": \"table\"}]}, \"layout\": {\"annotationdefaults\": {\"arrowcolor\": \"#2a3f5f\", \"arrowhead\": 0, \"arrowwidth\": 1}, \"coloraxis\": {\"colorbar\": {\"outlinewidth\": 0, \"ticks\": \"\"}}, \"colorscale\": {\"diverging\": [[0, \"#8e0152\"], [0.1, \"#c51b7d\"], [0.2, \"#de77ae\"], [0.3, \"#f1b6da\"], [0.4, \"#fde0ef\"], [0.5, \"#f7f7f7\"], [0.6, \"#e6f5d0\"], [0.7, \"#b8e186\"], [0.8, \"#7fbc41\"], [0.9, \"#4d9221\"], [1, \"#276419\"]], \"sequential\": [[0.0, \"#0d0887\"], [0.1111111111111111, \"#46039f\"], [0.2222222222222222, \"#7201a8\"], [0.3333333333333333, \"#9c179e\"], [0.4444444444444444, \"#bd3786\"], [0.5555555555555556, \"#d8576b\"], [0.6666666666666666, \"#ed7953\"], [0.7777777777777778, \"#fb9f3a\"], [0.8888888888888888, \"#fdca26\"], [1.0, \"#f0f921\"]], \"sequentialminus\": [[0.0, \"#0d0887\"], [0.1111111111111111, \"#46039f\"], [0.2222222222222222, \"#7201a8\"], [0.3333333333333333, \"#9c179e\"], [0.4444444444444444, \"#bd3786\"], [0.5555555555555556, \"#d8576b\"], [0.6666666666666666, \"#ed7953\"], [0.7777777777777778, \"#fb9f3a\"], [0.8888888888888888, \"#fdca26\"], [1.0, \"#f0f921\"]]}, \"colorway\": [\"#636efa\", \"#EF553B\", \"#00cc96\", \"#ab63fa\", \"#FFA15A\", \"#19d3f3\", \"#FF6692\", \"#B6E880\", \"#FF97FF\", \"#FECB52\"], \"font\": {\"color\": \"#2a3f5f\"}, \"geo\": {\"bgcolor\": \"white\", \"lakecolor\": \"white\", \"landcolor\": \"#E5ECF6\", \"showlakes\": true, \"showland\": true, \"subunitcolor\": \"white\"}, \"hoverlabel\": {\"align\": \"left\"}, \"hovermode\": \"closest\", \"mapbox\": {\"style\": \"light\"}, \"paper_bgcolor\": \"white\", \"plot_bgcolor\": \"#E5ECF6\", \"polar\": {\"angularaxis\": {\"gridcolor\": \"white\", \"linecolor\": \"white\", \"ticks\": \"\"}, \"bgcolor\": \"#E5ECF6\", \"radialaxis\": {\"gridcolor\": \"white\", \"linecolor\": \"white\", \"ticks\": \"\"}}, \"scene\": {\"xaxis\": {\"backgroundcolor\": \"#E5ECF6\", \"gridcolor\": \"white\", \"gridwidth\": 2, \"linecolor\": \"white\", \"showbackground\": true, \"ticks\": \"\", \"zerolinecolor\": \"white\"}, \"yaxis\": {\"backgroundcolor\": \"#E5ECF6\", \"gridcolor\": \"white\", \"gridwidth\": 2, \"linecolor\": \"white\", \"showbackground\": true, \"ticks\": \"\", \"zerolinecolor\": \"white\"}, \"zaxis\": {\"backgroundcolor\": \"#E5ECF6\", \"gridcolor\": \"white\", \"gridwidth\": 2, \"linecolor\": \"white\", \"showbackground\": true, \"ticks\": \"\", \"zerolinecolor\": \"white\"}}, \"shapedefaults\": {\"line\": {\"color\": \"#2a3f5f\"}}, \"ternary\": {\"aaxis\": {\"gridcolor\": \"white\", \"linecolor\": \"white\", \"ticks\": \"\"}, \"baxis\": {\"gridcolor\": \"white\", \"linecolor\": \"white\", \"ticks\": \"\"}, \"bgcolor\": \"#E5ECF6\", \"caxis\": {\"gridcolor\": \"white\", \"linecolor\": \"white\", \"ticks\": \"\"}}, \"title\": {\"x\": 0.05}, \"xaxis\": {\"automargin\": true, \"gridcolor\": \"white\", \"linecolor\": \"white\", \"ticks\": \"\", \"title\": {\"standoff\": 15}, \"zerolinecolor\": \"white\", \"zerolinewidth\": 2}, \"yaxis\": {\"automargin\": true, \"gridcolor\": \"white\", \"linecolor\": \"white\", \"ticks\": \"\", \"title\": {\"standoff\": 15}, \"zerolinecolor\": \"white\", \"zerolinewidth\": 2}}}, \"title\": {\"text\": \" Confirmed Cases per Public Health Unit\"}},\n",
       "                        {\"responsive\": true}\n",
       "                    ).then(function(){\n",
       "                            \n",
       "var gd = document.getElementById('f4155403-0ff2-41c8-b474-c17966be6fcf');\n",
       "var x = new MutationObserver(function (mutations, observer) {{\n",
       "        var display = window.getComputedStyle(gd).display;\n",
       "        if (!display || display === 'none') {{\n",
       "            console.log([gd, 'removed!']);\n",
       "            Plotly.purge(gd);\n",
       "            observer.disconnect();\n",
       "        }}\n",
       "}});\n",
       "\n",
       "// Listen for the removal of the full notebook cells\n",
       "var notebookContainer = gd.closest('#notebook-container');\n",
       "if (notebookContainer) {{\n",
       "    x.observe(notebookContainer, {childList: true});\n",
       "}}\n",
       "\n",
       "// Listen for the clearing of the current output cell\n",
       "var outputEl = gd.closest('.output');\n",
       "if (outputEl) {{\n",
       "    x.observe(outputEl, {childList: true});\n",
       "}}\n",
       "\n",
       "                        })\n",
       "                };\n",
       "                });\n",
       "            </script>\n",
       "        </div>"
      ]
     },
     "metadata": {},
     "output_type": "display_data"
    },
    {
     "data": {
      "text/plain": [
       "'temp-plot.html'"
      ]
     },
     "execution_count": 102,
     "metadata": {},
     "output_type": "execute_result"
    }
   ],
   "source": [
    "from plotly.offline import plot\n",
    "import plotly.graph_objs as go\n",
    "fig = px.scatter_mapbox(data_df, lat=\"Reporting_PHU_Latitude\", lon=\"Reporting_PHU_Longitude\",  \n",
    "            color=\"OnsetWithin\", \n",
    "            color_discrete_sequence=[\"red\", \"darkblue\", \"yellow\", \"white\"], \n",
    "            size=\"Cases\", hover_name=\"Reporting_PHU\", \n",
    "            size_max=28, zoom=5.4, \n",
    "            center=dict(lat=45,lon=-79.4), \n",
    "            height=800, \n",
    "            labels={\"OnsetWithin\" : \"Onset w/in Date\"},\n",
    "            title=\" Confirmed Cases per Public Health Unit\" )\n",
    "fig.update_layout(mapbox_style=\"open-street-map\")\n",
    "fig.show()\n",
    "plot(fig, auto_open=True)"
   ]
  },
  {
   "cell_type": "code",
   "execution_count": null,
   "metadata": {},
   "outputs": [],
   "source": []
  }
 ],
 "metadata": {
  "kernelspec": {
   "display_name": "Python 3",
   "language": "python",
   "name": "python3"
  },
  "language_info": {
   "codemirror_mode": {
    "name": "ipython",
    "version": 3
   },
   "file_extension": ".py",
   "mimetype": "text/x-python",
   "name": "python",
   "nbconvert_exporter": "python",
   "pygments_lexer": "ipython3",
   "version": "3.7.6"
  }
 },
 "nbformat": 4,
 "nbformat_minor": 4
}
