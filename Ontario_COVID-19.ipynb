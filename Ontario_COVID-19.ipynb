{
 "cells": [
  {
   "cell_type": "markdown",
   "metadata": {},
   "source": [
    "# **COVID-19 Public Health Authority (PHU) cases Analysis**"
   ]
  },
  {
   "cell_type": "code",
   "execution_count": 2,
   "metadata": {},
   "outputs": [],
   "source": [
    "# Import our dependencies\n",
    "from sklearn.model_selection import train_test_split\n",
    "from sklearn.preprocessing import StandardScaler,OneHotEncoder\n",
    "import pandas as pd\n",
    "import tensorflow as tf\n",
    "import matplotlib.pyplot as plt\n",
    "%matplotlib inline\n",
    "#import plotly.graph_objects as go\n",
    "#import plotly.express as px"
   ]
  },
  {
   "cell_type": "markdown",
   "metadata": {},
   "source": [
    "#### **Import, analyze, clean, and preprocess a “real-world” classification dataset.**"
   ]
  },
  {
   "cell_type": "code",
   "execution_count": 3,
   "metadata": {},
   "outputs": [
    {
     "data": {
      "text/html": [
       "<div>\n",
       "<style scoped>\n",
       "    .dataframe tbody tr th:only-of-type {\n",
       "        vertical-align: middle;\n",
       "    }\n",
       "\n",
       "    .dataframe tbody tr th {\n",
       "        vertical-align: top;\n",
       "    }\n",
       "\n",
       "    .dataframe thead th {\n",
       "        text-align: right;\n",
       "    }\n",
       "</style>\n",
       "<table border=\"1\" class=\"dataframe\">\n",
       "  <thead>\n",
       "    <tr style=\"text-align: right;\">\n",
       "      <th></th>\n",
       "      <th>Row_ID</th>\n",
       "      <th>Accurate_Episode_Date</th>\n",
       "      <th>Case_Reported_Date</th>\n",
       "      <th>Test_Reported_Date</th>\n",
       "      <th>Specimen_Date</th>\n",
       "      <th>Age_Group</th>\n",
       "      <th>Client_Gender</th>\n",
       "      <th>Case_AcquisitionInfo</th>\n",
       "      <th>Outcome1</th>\n",
       "      <th>Outbreak_Related</th>\n",
       "      <th>Reporting_PHU</th>\n",
       "      <th>Reporting_PHU_Address</th>\n",
       "      <th>Reporting_PHU_City</th>\n",
       "      <th>Reporting_PHU_Postal_Code</th>\n",
       "      <th>Reporting_PHU_Website</th>\n",
       "      <th>Reporting_PHU_Latitude</th>\n",
       "      <th>Reporting_PHU_Longitude</th>\n",
       "    </tr>\n",
       "  </thead>\n",
       "  <tbody>\n",
       "    <tr>\n",
       "      <th>0</th>\n",
       "      <td>1</td>\n",
       "      <td>2020-03-07</td>\n",
       "      <td>2020-03-09</td>\n",
       "      <td>2020-03-11</td>\n",
       "      <td>2020-03-09</td>\n",
       "      <td>50s</td>\n",
       "      <td>MALE</td>\n",
       "      <td>Travel</td>\n",
       "      <td>Resolved</td>\n",
       "      <td>NaN</td>\n",
       "      <td>York Region Public Health Services</td>\n",
       "      <td>17250 Yonge Street</td>\n",
       "      <td>Newmarket</td>\n",
       "      <td>L3Y 6Z1</td>\n",
       "      <td>www.york.ca/wps/portal/yorkhome/health/</td>\n",
       "      <td>44.048023</td>\n",
       "      <td>-79.480239</td>\n",
       "    </tr>\n",
       "    <tr>\n",
       "      <th>1</th>\n",
       "      <td>2</td>\n",
       "      <td>2020-03-02</td>\n",
       "      <td>2020-03-09</td>\n",
       "      <td>2020-03-09</td>\n",
       "      <td>2020-03-09</td>\n",
       "      <td>40s</td>\n",
       "      <td>MALE</td>\n",
       "      <td>Travel</td>\n",
       "      <td>Resolved</td>\n",
       "      <td>NaN</td>\n",
       "      <td>Toronto Public Health</td>\n",
       "      <td>277 Victoria Street, 5th Floor</td>\n",
       "      <td>Toronto</td>\n",
       "      <td>M5B 1W2</td>\n",
       "      <td>www.toronto.ca/community-people/health-wellnes...</td>\n",
       "      <td>43.656591</td>\n",
       "      <td>-79.379358</td>\n",
       "    </tr>\n",
       "    <tr>\n",
       "      <th>2</th>\n",
       "      <td>3</td>\n",
       "      <td>2020-03-06</td>\n",
       "      <td>2020-03-10</td>\n",
       "      <td>2020-03-10</td>\n",
       "      <td>2020-03-09</td>\n",
       "      <td>30s</td>\n",
       "      <td>FEMALE</td>\n",
       "      <td>Travel</td>\n",
       "      <td>Resolved</td>\n",
       "      <td>NaN</td>\n",
       "      <td>York Region Public Health Services</td>\n",
       "      <td>17250 Yonge Street</td>\n",
       "      <td>Newmarket</td>\n",
       "      <td>L3Y 6Z1</td>\n",
       "      <td>www.york.ca/wps/portal/yorkhome/health/</td>\n",
       "      <td>44.048023</td>\n",
       "      <td>-79.480239</td>\n",
       "    </tr>\n",
       "    <tr>\n",
       "      <th>3</th>\n",
       "      <td>4</td>\n",
       "      <td>2020-03-02</td>\n",
       "      <td>2020-03-09</td>\n",
       "      <td>2020-03-12</td>\n",
       "      <td>2020-03-07</td>\n",
       "      <td>40s</td>\n",
       "      <td>MALE</td>\n",
       "      <td>Travel</td>\n",
       "      <td>Resolved</td>\n",
       "      <td>NaN</td>\n",
       "      <td>Ottawa Public Health</td>\n",
       "      <td>100 Constellation Drive</td>\n",
       "      <td>Ottawa</td>\n",
       "      <td>K2G 6J8</td>\n",
       "      <td>www.ottawapublichealth.ca</td>\n",
       "      <td>45.345665</td>\n",
       "      <td>-75.763912</td>\n",
       "    </tr>\n",
       "    <tr>\n",
       "      <th>4</th>\n",
       "      <td>5</td>\n",
       "      <td>2020-03-03</td>\n",
       "      <td>2020-03-10</td>\n",
       "      <td>2020-03-11</td>\n",
       "      <td>2020-03-09</td>\n",
       "      <td>30s</td>\n",
       "      <td>MALE</td>\n",
       "      <td>Travel</td>\n",
       "      <td>Resolved</td>\n",
       "      <td>NaN</td>\n",
       "      <td>Toronto Public Health</td>\n",
       "      <td>277 Victoria Street, 5th Floor</td>\n",
       "      <td>Toronto</td>\n",
       "      <td>M5B 1W2</td>\n",
       "      <td>www.toronto.ca/community-people/health-wellnes...</td>\n",
       "      <td>43.656591</td>\n",
       "      <td>-79.379358</td>\n",
       "    </tr>\n",
       "  </tbody>\n",
       "</table>\n",
       "</div>"
      ],
      "text/plain": [
       "   Row_ID Accurate_Episode_Date Case_Reported_Date Test_Reported_Date  \\\n",
       "0       1            2020-03-07         2020-03-09         2020-03-11   \n",
       "1       2            2020-03-02         2020-03-09         2020-03-09   \n",
       "2       3            2020-03-06         2020-03-10         2020-03-10   \n",
       "3       4            2020-03-02         2020-03-09         2020-03-12   \n",
       "4       5            2020-03-03         2020-03-10         2020-03-11   \n",
       "\n",
       "  Specimen_Date Age_Group Client_Gender Case_AcquisitionInfo  Outcome1  \\\n",
       "0    2020-03-09       50s          MALE               Travel  Resolved   \n",
       "1    2020-03-09       40s          MALE               Travel  Resolved   \n",
       "2    2020-03-09       30s        FEMALE               Travel  Resolved   \n",
       "3    2020-03-07       40s          MALE               Travel  Resolved   \n",
       "4    2020-03-09       30s          MALE               Travel  Resolved   \n",
       "\n",
       "  Outbreak_Related                       Reporting_PHU  \\\n",
       "0              NaN  York Region Public Health Services   \n",
       "1              NaN               Toronto Public Health   \n",
       "2              NaN  York Region Public Health Services   \n",
       "3              NaN                Ottawa Public Health   \n",
       "4              NaN               Toronto Public Health   \n",
       "\n",
       "            Reporting_PHU_Address Reporting_PHU_City  \\\n",
       "0              17250 Yonge Street          Newmarket   \n",
       "1  277 Victoria Street, 5th Floor            Toronto   \n",
       "2              17250 Yonge Street          Newmarket   \n",
       "3         100 Constellation Drive             Ottawa   \n",
       "4  277 Victoria Street, 5th Floor            Toronto   \n",
       "\n",
       "  Reporting_PHU_Postal_Code  \\\n",
       "0                   L3Y 6Z1   \n",
       "1                   M5B 1W2   \n",
       "2                   L3Y 6Z1   \n",
       "3                   K2G 6J8   \n",
       "4                   M5B 1W2   \n",
       "\n",
       "                               Reporting_PHU_Website  Reporting_PHU_Latitude  \\\n",
       "0            www.york.ca/wps/portal/yorkhome/health/               44.048023   \n",
       "1  www.toronto.ca/community-people/health-wellnes...               43.656591   \n",
       "2            www.york.ca/wps/portal/yorkhome/health/               44.048023   \n",
       "3                          www.ottawapublichealth.ca               45.345665   \n",
       "4  www.toronto.ca/community-people/health-wellnes...               43.656591   \n",
       "\n",
       "   Reporting_PHU_Longitude  \n",
       "0               -79.480239  \n",
       "1               -79.379358  \n",
       "2               -79.480239  \n",
       "3               -75.763912  \n",
       "4               -79.379358  "
      ]
     },
     "execution_count": 3,
     "metadata": {},
     "output_type": "execute_result"
    }
   ],
   "source": [
    "# Import our input dataset\n",
    "df = pd.read_csv('./Resources/Ontario.csv')\n",
    "df.head()"
   ]
  },
  {
   "cell_type": "markdown",
   "metadata": {},
   "source": [
    "#### **Inspect Data**"
   ]
  },
  {
   "cell_type": "code",
   "execution_count": 4,
   "metadata": {},
   "outputs": [
    {
     "data": {
      "text/plain": [
       "(36178, 17)"
      ]
     },
     "execution_count": 4,
     "metadata": {},
     "output_type": "execute_result"
    }
   ],
   "source": [
    "# show number of columns and rows\n",
    "df.shape"
   ]
  },
  {
   "cell_type": "code",
   "execution_count": 5,
   "metadata": {},
   "outputs": [
    {
     "data": {
      "text/plain": [
       "Index(['Row_ID', 'Accurate_Episode_Date', 'Case_Reported_Date',\n",
       "       'Test_Reported_Date', 'Specimen_Date', 'Age_Group', 'Client_Gender',\n",
       "       'Case_AcquisitionInfo', 'Outcome1', 'Outbreak_Related', 'Reporting_PHU',\n",
       "       'Reporting_PHU_Address', 'Reporting_PHU_City',\n",
       "       'Reporting_PHU_Postal_Code', 'Reporting_PHU_Website',\n",
       "       'Reporting_PHU_Latitude', 'Reporting_PHU_Longitude'],\n",
       "      dtype='object')"
      ]
     },
     "execution_count": 5,
     "metadata": {},
     "output_type": "execute_result"
    }
   ],
   "source": [
    "# show DF Columns\n",
    "df.columns"
   ]
  },
  {
   "cell_type": "code",
   "execution_count": 6,
   "metadata": {},
   "outputs": [
    {
     "data": {
      "text/plain": [
       "Row_ID                         int64\n",
       "Accurate_Episode_Date         object\n",
       "Case_Reported_Date            object\n",
       "Test_Reported_Date            object\n",
       "Specimen_Date                 object\n",
       "Age_Group                     object\n",
       "Client_Gender                 object\n",
       "Case_AcquisitionInfo          object\n",
       "Outcome1                      object\n",
       "Outbreak_Related              object\n",
       "Reporting_PHU                 object\n",
       "Reporting_PHU_Address         object\n",
       "Reporting_PHU_City            object\n",
       "Reporting_PHU_Postal_Code     object\n",
       "Reporting_PHU_Website         object\n",
       "Reporting_PHU_Latitude       float64\n",
       "Reporting_PHU_Longitude      float64\n",
       "dtype: object"
      ]
     },
     "execution_count": 6,
     "metadata": {},
     "output_type": "execute_result"
    }
   ],
   "source": [
    "# Return data types\n",
    "df.dtypes"
   ]
  },
  {
   "cell_type": "markdown",
   "metadata": {},
   "source": [
    "#### **Clean Data**"
   ]
  },
  {
   "cell_type": "code",
   "execution_count": 8,
   "metadata": {},
   "outputs": [
    {
     "data": {
      "text/html": [
       "<div>\n",
       "<style scoped>\n",
       "    .dataframe tbody tr th:only-of-type {\n",
       "        vertical-align: middle;\n",
       "    }\n",
       "\n",
       "    .dataframe tbody tr th {\n",
       "        vertical-align: top;\n",
       "    }\n",
       "\n",
       "    .dataframe thead th {\n",
       "        text-align: right;\n",
       "    }\n",
       "</style>\n",
       "<table border=\"1\" class=\"dataframe\">\n",
       "  <thead>\n",
       "    <tr style=\"text-align: right;\">\n",
       "      <th></th>\n",
       "      <th>Outcome1</th>\n",
       "      <th>Age_Group</th>\n",
       "      <th>Client_Gender</th>\n",
       "      <th>Reporting_PHU</th>\n",
       "    </tr>\n",
       "  </thead>\n",
       "  <tbody>\n",
       "    <tr>\n",
       "      <th>0</th>\n",
       "      <td>Resolved</td>\n",
       "      <td>50s</td>\n",
       "      <td>MALE</td>\n",
       "      <td>York Region Public Health Services</td>\n",
       "    </tr>\n",
       "    <tr>\n",
       "      <th>1</th>\n",
       "      <td>Resolved</td>\n",
       "      <td>40s</td>\n",
       "      <td>MALE</td>\n",
       "      <td>Toronto Public Health</td>\n",
       "    </tr>\n",
       "    <tr>\n",
       "      <th>2</th>\n",
       "      <td>Resolved</td>\n",
       "      <td>30s</td>\n",
       "      <td>FEMALE</td>\n",
       "      <td>York Region Public Health Services</td>\n",
       "    </tr>\n",
       "    <tr>\n",
       "      <th>3</th>\n",
       "      <td>Resolved</td>\n",
       "      <td>40s</td>\n",
       "      <td>MALE</td>\n",
       "      <td>Ottawa Public Health</td>\n",
       "    </tr>\n",
       "    <tr>\n",
       "      <th>4</th>\n",
       "      <td>Resolved</td>\n",
       "      <td>30s</td>\n",
       "      <td>MALE</td>\n",
       "      <td>Toronto Public Health</td>\n",
       "    </tr>\n",
       "  </tbody>\n",
       "</table>\n",
       "</div>"
      ],
      "text/plain": [
       "   Outcome1 Age_Group Client_Gender                       Reporting_PHU\n",
       "0  Resolved       50s          MALE  York Region Public Health Services\n",
       "1  Resolved       40s          MALE               Toronto Public Health\n",
       "2  Resolved       30s        FEMALE  York Region Public Health Services\n",
       "3  Resolved       40s          MALE                Ottawa Public Health\n",
       "4  Resolved       30s          MALE               Toronto Public Health"
      ]
     },
     "execution_count": 8,
     "metadata": {},
     "output_type": "execute_result"
    }
   ],
   "source": [
    "df2 = df[['Outcome1','Age_Group','Client_Gender','Reporting_PHU']]\n",
    "df2.head()"
   ]
  },
  {
   "cell_type": "code",
   "execution_count": 9,
   "metadata": {},
   "outputs": [
    {
     "name": "stdout",
     "output_type": "stream",
     "text": [
      "Column Outcome1 has 0 null values\n",
      "Column Age_Group has 0 null values\n",
      "Column Client_Gender has 0 null values\n",
      "Column Reporting_PHU has 0 null values\n"
     ]
    }
   ],
   "source": [
    "# Return columns with Null values \n",
    "for column in df2.columns:\n",
    "    print(f\"Column {column} has {df2[column].isnull().sum()} null values\")"
   ]
  },
  {
   "cell_type": "code",
   "execution_count": 10,
   "metadata": {},
   "outputs": [
    {
     "name": "stdout",
     "output_type": "stream",
     "text": [
      "Duplicate entries: 35132\n"
     ]
    }
   ],
   "source": [
    "# Retrun df duplicates\n",
    "print(f\"Duplicate entries: {df2.duplicated().sum()}\")"
   ]
  },
  {
   "cell_type": "markdown",
   "metadata": {},
   "source": [
    "### **Aggregate data by Accurate_Episode_date**"
   ]
  },
  {
   "cell_type": "code",
   "execution_count": null,
   "metadata": {},
   "outputs": [],
   "source": [
    "df \\\n",
    ".groupby([\"Accurate_Episode_Date\"]) \\\n",
    ".count()"
   ]
  },
  {
   "cell_type": "markdown",
   "metadata": {},
   "source": [
    "### **Filter data by Public Health Units (PHU)**"
   ]
  },
  {
   "cell_type": "code",
   "execution_count": null,
   "metadata": {},
   "outputs": [],
   "source": [
    "data_df = df \\\n",
    ".groupby([\"Reporting_PHU\", \"Reporting_PHU_Latitude\", \"Reporting_PHU_Longitude\"]) \\\n",
    ".count()[\"Row_ID\"] \\\n",
    ".reset_index() \\\n",
    ".rename(columns={\"Row_ID\" : \"Cases\"})\n",
    "\n",
    "data_df[\"OnsetWithin\"] = \"current day\"\n",
    "\n",
    "data_df"
   ]
  },
  {
   "cell_type": "markdown",
   "metadata": {},
   "source": [
    "#### **Gather Dateframe information**\n",
    "- Display dataframe\n",
    "- Display Categorical Variable list ('float64')\n",
    "- Display Column unique values "
   ]
  },
  {
   "cell_type": "code",
   "execution_count": 11,
   "metadata": {},
   "outputs": [
    {
     "data": {
      "text/html": [
       "<div>\n",
       "<style scoped>\n",
       "    .dataframe tbody tr th:only-of-type {\n",
       "        vertical-align: middle;\n",
       "    }\n",
       "\n",
       "    .dataframe tbody tr th {\n",
       "        vertical-align: top;\n",
       "    }\n",
       "\n",
       "    .dataframe thead th {\n",
       "        text-align: right;\n",
       "    }\n",
       "</style>\n",
       "<table border=\"1\" class=\"dataframe\">\n",
       "  <thead>\n",
       "    <tr style=\"text-align: right;\">\n",
       "      <th></th>\n",
       "      <th>Outcome1</th>\n",
       "      <th>Age_Group</th>\n",
       "      <th>Client_Gender</th>\n",
       "      <th>Reporting_PHU</th>\n",
       "    </tr>\n",
       "  </thead>\n",
       "  <tbody>\n",
       "    <tr>\n",
       "      <th>0</th>\n",
       "      <td>Resolved</td>\n",
       "      <td>50s</td>\n",
       "      <td>MALE</td>\n",
       "      <td>York Region Public Health Services</td>\n",
       "    </tr>\n",
       "    <tr>\n",
       "      <th>1</th>\n",
       "      <td>Resolved</td>\n",
       "      <td>40s</td>\n",
       "      <td>MALE</td>\n",
       "      <td>Toronto Public Health</td>\n",
       "    </tr>\n",
       "    <tr>\n",
       "      <th>2</th>\n",
       "      <td>Resolved</td>\n",
       "      <td>30s</td>\n",
       "      <td>FEMALE</td>\n",
       "      <td>York Region Public Health Services</td>\n",
       "    </tr>\n",
       "    <tr>\n",
       "      <th>3</th>\n",
       "      <td>Resolved</td>\n",
       "      <td>40s</td>\n",
       "      <td>MALE</td>\n",
       "      <td>Ottawa Public Health</td>\n",
       "    </tr>\n",
       "    <tr>\n",
       "      <th>4</th>\n",
       "      <td>Resolved</td>\n",
       "      <td>30s</td>\n",
       "      <td>MALE</td>\n",
       "      <td>Toronto Public Health</td>\n",
       "    </tr>\n",
       "  </tbody>\n",
       "</table>\n",
       "</div>"
      ],
      "text/plain": [
       "   Outcome1 Age_Group Client_Gender                       Reporting_PHU\n",
       "0  Resolved       50s          MALE  York Region Public Health Services\n",
       "1  Resolved       40s          MALE               Toronto Public Health\n",
       "2  Resolved       30s        FEMALE  York Region Public Health Services\n",
       "3  Resolved       40s          MALE                Ottawa Public Health\n",
       "4  Resolved       30s          MALE               Toronto Public Health"
      ]
     },
     "execution_count": 11,
     "metadata": {},
     "output_type": "execute_result"
    }
   ],
   "source": [
    "# Display Dataframe\n",
    "df2.head()"
   ]
  },
  {
   "cell_type": "markdown",
   "metadata": {},
   "source": [
    "#### **Display Variable List**"
   ]
  },
  {
   "cell_type": "code",
   "execution_count": 12,
   "metadata": {},
   "outputs": [
    {
     "data": {
      "text/plain": [
       "[]"
      ]
     },
     "execution_count": 12,
     "metadata": {},
     "output_type": "execute_result"
    }
   ],
   "source": [
    "# Categorical variable list\n",
    "df2_cat = df2.dtypes[df.dtypes == \"float64\"].index.tolist()\n",
    "df2_cat"
   ]
  },
  {
   "cell_type": "code",
   "execution_count": 13,
   "metadata": {},
   "outputs": [
    {
     "data": {
      "text/plain": [
       "Series([], dtype: float64)"
      ]
     },
     "execution_count": 13,
     "metadata": {},
     "output_type": "execute_result"
    }
   ],
   "source": [
    "# Unique numbers\n",
    "df2[df2_cat].nunique()"
   ]
  },
  {
   "cell_type": "markdown",
   "metadata": {},
   "source": [
    "### **Categorical Variables using one-hot encoding** \n",
    "- One-hot encoding identifies all unique column values and splits the single categorical column into a series of columns, each containing information about a single unique categorical value\n",
    "- Although one-hot encoding is a very robust solution, it can be very memory-intensive. Therefore, categorical variables with a large number of unique values might become difficult to navigate or filter once encoded."
   ]
  },
  {
   "cell_type": "markdown",
   "metadata": {},
   "source": [
    "### **Bucketing or binning**\n",
    "**The process of reducing the number of unique categorical values in a dataset is known as bucketing or binning**\n",
    "- Bucketing data typically follows one of two approaches:\n",
    "- 1) Collapse all of the infrequent and rare categorical values into a single “other” category.\n",
    "- 2) Create generalized categorical values and reassign all data points to the new corresponding values"
   ]
  },
  {
   "cell_type": "code",
   "execution_count": 14,
   "metadata": {},
   "outputs": [
    {
     "data": {
      "text/plain": [
       "Toronto Public Health                                       13511\n",
       "Peel Public Health                                           6027\n",
       "York Region Public Health Services                           3082\n",
       "Ottawa Public Health                                         2123\n",
       "Durham Region Health Department                              1724\n",
       "Windsor-Essex County Health Unit                             1675\n",
       "Region of Waterloo, Public Health                            1313\n",
       "Hamilton Public Health Services                               847\n",
       "Halton Region Health Department                               781\n",
       "Niagara Region Public Health Department                       763\n",
       "Middlesex-London Health Unit                                  631\n",
       "Simcoe Muskoka District Health Unit                           607\n",
       "Wellington-Dufferin-Guelph Public Health                      493\n",
       "Haldimand-Norfolk Health Unit                                 431\n",
       "Leeds, Grenville and Lanark District Health Unit              354\n",
       "Lambton Public Health                                         286\n",
       "Haliburton, Kawartha, Pine Ridge District Health Unit         201\n",
       "Eastern Ontario Health Unit                                   166\n",
       "Chatham-Kent Health Unit                                      162\n",
       "Brant County Health Unit                                      133\n",
       "Grey Bruce Health Unit                                        107\n",
       "Kingston, Frontenac and Lennox & Addington Public Health      104\n",
       "Peterborough Public Health                                     95\n",
       "Thunder Bay District Health Unit                               93\n",
       "Southwestern Public Health                                     85\n",
       "Porcupine Health Unit                                          67\n",
       "Sudbury & District Health Unit                                 67\n",
       "Huron Perth District Health Unit                               59\n",
       "Hastings and Prince Edward Counties Health Unit                44\n",
       "Northwestern Health Unit                                       41\n",
       "North Bay Parry Sound District Health Unit                     35\n",
       "Renfrew County and District Health Unit                        29\n",
       "Algoma Public Health Unit                                      24\n",
       "Timiskaming Health Unit                                        18\n",
       "Name: Reporting_PHU, dtype: int64"
      ]
     },
     "execution_count": 14,
     "metadata": {},
     "output_type": "execute_result"
    }
   ],
   "source": [
    "# Application type counts\n",
    "Reporting_PHU_counts = df2.Reporting_PHU.value_counts()\n",
    "Reporting_PHU_counts"
   ]
  },
  {
   "cell_type": "code",
   "execution_count": null,
   "metadata": {},
   "outputs": [],
   "source": [
    "# Visualize the value counts\n",
    "Reporting_PHU_counts.plot.density()"
   ]
  },
  {
   "cell_type": "markdown",
   "metadata": {},
   "source": [
    "The **Reporting_PHU** columns variables appear a lot in of dataset, they are a feature of our model"
   ]
  },
  {
   "cell_type": "markdown",
   "metadata": {},
   "source": [
    "#### **Tasks**\n",
    "According to the density plot, the most common unique values have more than 1000 instances within the dataset. Therefore, we can bucket any occurence that appears fewer than 1000 times in the dataset as “other.” To do this, we’ll use a Python for loop and Pandas’ replace method. \n",
    "- Determine which values to replace\n",
    "- Replace in DataFrame\n",
    "- Check to make sure binning was successful"
   ]
  },
  {
   "cell_type": "code",
   "execution_count": 20,
   "metadata": {},
   "outputs": [],
   "source": [
    "df2_cat = df2.dtypes[df2.dtypes == \"object\"].index.tolist()"
   ]
  },
  {
   "cell_type": "code",
   "execution_count": 15,
   "metadata": {},
   "outputs": [
    {
     "name": "stderr",
     "output_type": "stream",
     "text": [
      "C:\\Users\\rp008\\anaconda3\\envs\\PythonData\\lib\\site-packages\\pandas\\core\\generic.py:5303: SettingWithCopyWarning: \n",
      "A value is trying to be set on a copy of a slice from a DataFrame.\n",
      "Try using .loc[row_indexer,col_indexer] = value instead\n",
      "\n",
      "See the caveats in the documentation: https://pandas.pydata.org/pandas-docs/stable/user_guide/indexing.html#returning-a-view-versus-a-copy\n",
      "  self[name] = value\n"
     ]
    },
    {
     "data": {
      "text/plain": [
       "Toronto Public Health                 13511\n",
       "Other                                  6723\n",
       "Peel Public Health                     6027\n",
       "York Region Public Health Services     3082\n",
       "Ottawa Public Health                   2123\n",
       "Durham Region Health Department        1724\n",
       "Windsor-Essex County Health Unit       1675\n",
       "Region of Waterloo, Public Health      1313\n",
       "Name: Reporting_PHU, dtype: int64"
      ]
     },
     "execution_count": 15,
     "metadata": {},
     "output_type": "execute_result"
    }
   ],
   "source": [
    "# replace values (1000 could be bit too large. could try something like 200 to 500)\n",
    "replace_Reporting_PHU = list(Reporting_PHU_counts[Reporting_PHU_counts < 1000].index)\n",
    "\n",
    "# use for loop to replace values\n",
    "for i in replace_Reporting_PHU:\n",
    "    df2.Reporting_PHU  = df2.Reporting_PHU.replace(i,\"Other\")\n",
    "\n",
    "# Bucketing sucess\n",
    "df2.Reporting_PHU .value_counts()"
   ]
  },
  {
   "cell_type": "markdown",
   "metadata": {},
   "source": [
    "#### **Tasks**\n",
    "Now that we have reduced the number of unique values in the country variable, we’re ready to transpose the variable using one-hot encoding. The easiest way to perform **one-hot encoding** in Python is to use Scikit-learn’s **OneHotEncoder** module on the country variable. To build the encoded columns, we must **create an instance** of OneHotEncoder and **“fit”** the encoder with our values."
   ]
  },
  {
   "cell_type": "code",
   "execution_count": 21,
   "metadata": {},
   "outputs": [
    {
     "data": {
      "text/html": [
       "<div>\n",
       "<style scoped>\n",
       "    .dataframe tbody tr th:only-of-type {\n",
       "        vertical-align: middle;\n",
       "    }\n",
       "\n",
       "    .dataframe tbody tr th {\n",
       "        vertical-align: top;\n",
       "    }\n",
       "\n",
       "    .dataframe thead th {\n",
       "        text-align: right;\n",
       "    }\n",
       "</style>\n",
       "<table border=\"1\" class=\"dataframe\">\n",
       "  <thead>\n",
       "    <tr style=\"text-align: right;\">\n",
       "      <th></th>\n",
       "      <th>Outcome1_Fatal</th>\n",
       "      <th>Outcome1_Not Resolved</th>\n",
       "      <th>Outcome1_Resolved</th>\n",
       "      <th>Age_Group_20s</th>\n",
       "      <th>Age_Group_30s</th>\n",
       "      <th>Age_Group_40s</th>\n",
       "      <th>Age_Group_50s</th>\n",
       "      <th>Age_Group_60s</th>\n",
       "      <th>Age_Group_70s</th>\n",
       "      <th>Age_Group_80s</th>\n",
       "      <th>...</th>\n",
       "      <th>Client_Gender_TRANSGENDER</th>\n",
       "      <th>Client_Gender_UNKNOWN</th>\n",
       "      <th>Reporting_PHU_Durham Region Health Department</th>\n",
       "      <th>Reporting_PHU_Other</th>\n",
       "      <th>Reporting_PHU_Ottawa Public Health</th>\n",
       "      <th>Reporting_PHU_Peel Public Health</th>\n",
       "      <th>Reporting_PHU_Region of Waterloo, Public Health</th>\n",
       "      <th>Reporting_PHU_Toronto Public Health</th>\n",
       "      <th>Reporting_PHU_Windsor-Essex County Health Unit</th>\n",
       "      <th>Reporting_PHU_York Region Public Health Services</th>\n",
       "    </tr>\n",
       "  </thead>\n",
       "  <tbody>\n",
       "    <tr>\n",
       "      <th>0</th>\n",
       "      <td>0.0</td>\n",
       "      <td>0.0</td>\n",
       "      <td>1.0</td>\n",
       "      <td>0.0</td>\n",
       "      <td>0.0</td>\n",
       "      <td>0.0</td>\n",
       "      <td>1.0</td>\n",
       "      <td>0.0</td>\n",
       "      <td>0.0</td>\n",
       "      <td>0.0</td>\n",
       "      <td>...</td>\n",
       "      <td>0.0</td>\n",
       "      <td>0.0</td>\n",
       "      <td>0.0</td>\n",
       "      <td>0.0</td>\n",
       "      <td>0.0</td>\n",
       "      <td>0.0</td>\n",
       "      <td>0.0</td>\n",
       "      <td>0.0</td>\n",
       "      <td>0.0</td>\n",
       "      <td>1.0</td>\n",
       "    </tr>\n",
       "    <tr>\n",
       "      <th>1</th>\n",
       "      <td>0.0</td>\n",
       "      <td>0.0</td>\n",
       "      <td>1.0</td>\n",
       "      <td>0.0</td>\n",
       "      <td>0.0</td>\n",
       "      <td>1.0</td>\n",
       "      <td>0.0</td>\n",
       "      <td>0.0</td>\n",
       "      <td>0.0</td>\n",
       "      <td>0.0</td>\n",
       "      <td>...</td>\n",
       "      <td>0.0</td>\n",
       "      <td>0.0</td>\n",
       "      <td>0.0</td>\n",
       "      <td>0.0</td>\n",
       "      <td>0.0</td>\n",
       "      <td>0.0</td>\n",
       "      <td>0.0</td>\n",
       "      <td>1.0</td>\n",
       "      <td>0.0</td>\n",
       "      <td>0.0</td>\n",
       "    </tr>\n",
       "    <tr>\n",
       "      <th>2</th>\n",
       "      <td>0.0</td>\n",
       "      <td>0.0</td>\n",
       "      <td>1.0</td>\n",
       "      <td>0.0</td>\n",
       "      <td>1.0</td>\n",
       "      <td>0.0</td>\n",
       "      <td>0.0</td>\n",
       "      <td>0.0</td>\n",
       "      <td>0.0</td>\n",
       "      <td>0.0</td>\n",
       "      <td>...</td>\n",
       "      <td>0.0</td>\n",
       "      <td>0.0</td>\n",
       "      <td>0.0</td>\n",
       "      <td>0.0</td>\n",
       "      <td>0.0</td>\n",
       "      <td>0.0</td>\n",
       "      <td>0.0</td>\n",
       "      <td>0.0</td>\n",
       "      <td>0.0</td>\n",
       "      <td>1.0</td>\n",
       "    </tr>\n",
       "    <tr>\n",
       "      <th>3</th>\n",
       "      <td>0.0</td>\n",
       "      <td>0.0</td>\n",
       "      <td>1.0</td>\n",
       "      <td>0.0</td>\n",
       "      <td>0.0</td>\n",
       "      <td>1.0</td>\n",
       "      <td>0.0</td>\n",
       "      <td>0.0</td>\n",
       "      <td>0.0</td>\n",
       "      <td>0.0</td>\n",
       "      <td>...</td>\n",
       "      <td>0.0</td>\n",
       "      <td>0.0</td>\n",
       "      <td>0.0</td>\n",
       "      <td>0.0</td>\n",
       "      <td>1.0</td>\n",
       "      <td>0.0</td>\n",
       "      <td>0.0</td>\n",
       "      <td>0.0</td>\n",
       "      <td>0.0</td>\n",
       "      <td>0.0</td>\n",
       "    </tr>\n",
       "    <tr>\n",
       "      <th>4</th>\n",
       "      <td>0.0</td>\n",
       "      <td>0.0</td>\n",
       "      <td>1.0</td>\n",
       "      <td>0.0</td>\n",
       "      <td>1.0</td>\n",
       "      <td>0.0</td>\n",
       "      <td>0.0</td>\n",
       "      <td>0.0</td>\n",
       "      <td>0.0</td>\n",
       "      <td>0.0</td>\n",
       "      <td>...</td>\n",
       "      <td>0.0</td>\n",
       "      <td>0.0</td>\n",
       "      <td>0.0</td>\n",
       "      <td>0.0</td>\n",
       "      <td>0.0</td>\n",
       "      <td>0.0</td>\n",
       "      <td>0.0</td>\n",
       "      <td>1.0</td>\n",
       "      <td>0.0</td>\n",
       "      <td>0.0</td>\n",
       "    </tr>\n",
       "  </tbody>\n",
       "</table>\n",
       "<p>5 rows × 26 columns</p>\n",
       "</div>"
      ],
      "text/plain": [
       "   Outcome1_Fatal  Outcome1_Not Resolved  Outcome1_Resolved  Age_Group_20s  \\\n",
       "0             0.0                    0.0                1.0            0.0   \n",
       "1             0.0                    0.0                1.0            0.0   \n",
       "2             0.0                    0.0                1.0            0.0   \n",
       "3             0.0                    0.0                1.0            0.0   \n",
       "4             0.0                    0.0                1.0            0.0   \n",
       "\n",
       "   Age_Group_30s  Age_Group_40s  Age_Group_50s  Age_Group_60s  Age_Group_70s  \\\n",
       "0            0.0            0.0            1.0            0.0            0.0   \n",
       "1            0.0            1.0            0.0            0.0            0.0   \n",
       "2            1.0            0.0            0.0            0.0            0.0   \n",
       "3            0.0            1.0            0.0            0.0            0.0   \n",
       "4            1.0            0.0            0.0            0.0            0.0   \n",
       "\n",
       "   Age_Group_80s  ...  Client_Gender_TRANSGENDER  Client_Gender_UNKNOWN  \\\n",
       "0            0.0  ...                        0.0                    0.0   \n",
       "1            0.0  ...                        0.0                    0.0   \n",
       "2            0.0  ...                        0.0                    0.0   \n",
       "3            0.0  ...                        0.0                    0.0   \n",
       "4            0.0  ...                        0.0                    0.0   \n",
       "\n",
       "   Reporting_PHU_Durham Region Health Department  Reporting_PHU_Other  \\\n",
       "0                                            0.0                  0.0   \n",
       "1                                            0.0                  0.0   \n",
       "2                                            0.0                  0.0   \n",
       "3                                            0.0                  0.0   \n",
       "4                                            0.0                  0.0   \n",
       "\n",
       "   Reporting_PHU_Ottawa Public Health  Reporting_PHU_Peel Public Health  \\\n",
       "0                                 0.0                               0.0   \n",
       "1                                 0.0                               0.0   \n",
       "2                                 0.0                               0.0   \n",
       "3                                 1.0                               0.0   \n",
       "4                                 0.0                               0.0   \n",
       "\n",
       "   Reporting_PHU_Region of Waterloo, Public Health  \\\n",
       "0                                              0.0   \n",
       "1                                              0.0   \n",
       "2                                              0.0   \n",
       "3                                              0.0   \n",
       "4                                              0.0   \n",
       "\n",
       "   Reporting_PHU_Toronto Public Health  \\\n",
       "0                                  0.0   \n",
       "1                                  1.0   \n",
       "2                                  0.0   \n",
       "3                                  0.0   \n",
       "4                                  1.0   \n",
       "\n",
       "   Reporting_PHU_Windsor-Essex County Health Unit  \\\n",
       "0                                             0.0   \n",
       "1                                             0.0   \n",
       "2                                             0.0   \n",
       "3                                             0.0   \n",
       "4                                             0.0   \n",
       "\n",
       "   Reporting_PHU_York Region Public Health Services  \n",
       "0                                               1.0  \n",
       "1                                               0.0  \n",
       "2                                               1.0  \n",
       "3                                               0.0  \n",
       "4                                               0.0  \n",
       "\n",
       "[5 rows x 26 columns]"
      ]
     },
     "execution_count": 21,
     "metadata": {},
     "output_type": "execute_result"
    }
   ],
   "source": [
    "# Create the OneHotEncoder instance\n",
    "enc = OneHotEncoder(sparse=False)\n",
    "\n",
    "# Fit the encoder and produce encoded DataFrame\n",
    "encoded_df2 = pd.DataFrame(enc.fit_transform(df2))\n",
    "\n",
    "# Rename encoded columns\n",
    "encoded_df2.columns = enc.get_feature_names(df2_cat)\n",
    "encoded_df2.head()"
   ]
  },
  {
   "cell_type": "code",
   "execution_count": 24,
   "metadata": {},
   "outputs": [],
   "source": [
    "encoded_df2 = encoded_df2[encoded_df2['Outcome1_Not Resolved'] != 1]"
   ]
  },
  {
   "cell_type": "code",
   "execution_count": 26,
   "metadata": {},
   "outputs": [],
   "source": [
    "encoded_df2 = encoded_df2.drop(columns=['Outcome1_Not Resolved','Outcome1_Fatal'],axis=1)\n",
    "\n",
    "# We can probably drop \"Client_Gender_UNKNOWN\" as well."
   ]
  },
  {
   "cell_type": "code",
   "execution_count": 27,
   "metadata": {},
   "outputs": [
    {
     "data": {
      "text/html": [
       "<div>\n",
       "<style scoped>\n",
       "    .dataframe tbody tr th:only-of-type {\n",
       "        vertical-align: middle;\n",
       "    }\n",
       "\n",
       "    .dataframe tbody tr th {\n",
       "        vertical-align: top;\n",
       "    }\n",
       "\n",
       "    .dataframe thead th {\n",
       "        text-align: right;\n",
       "    }\n",
       "</style>\n",
       "<table border=\"1\" class=\"dataframe\">\n",
       "  <thead>\n",
       "    <tr style=\"text-align: right;\">\n",
       "      <th></th>\n",
       "      <th>Outcome1_Resolved</th>\n",
       "      <th>Age_Group_20s</th>\n",
       "      <th>Age_Group_30s</th>\n",
       "      <th>Age_Group_40s</th>\n",
       "      <th>Age_Group_50s</th>\n",
       "      <th>Age_Group_60s</th>\n",
       "      <th>Age_Group_70s</th>\n",
       "      <th>Age_Group_80s</th>\n",
       "      <th>Age_Group_90s</th>\n",
       "      <th>Age_Group_&lt;20</th>\n",
       "      <th>...</th>\n",
       "      <th>Client_Gender_TRANSGENDER</th>\n",
       "      <th>Client_Gender_UNKNOWN</th>\n",
       "      <th>Reporting_PHU_Durham Region Health Department</th>\n",
       "      <th>Reporting_PHU_Other</th>\n",
       "      <th>Reporting_PHU_Ottawa Public Health</th>\n",
       "      <th>Reporting_PHU_Peel Public Health</th>\n",
       "      <th>Reporting_PHU_Region of Waterloo, Public Health</th>\n",
       "      <th>Reporting_PHU_Toronto Public Health</th>\n",
       "      <th>Reporting_PHU_Windsor-Essex County Health Unit</th>\n",
       "      <th>Reporting_PHU_York Region Public Health Services</th>\n",
       "    </tr>\n",
       "  </thead>\n",
       "  <tbody>\n",
       "    <tr>\n",
       "      <th>0</th>\n",
       "      <td>1.0</td>\n",
       "      <td>0.0</td>\n",
       "      <td>0.0</td>\n",
       "      <td>0.0</td>\n",
       "      <td>1.0</td>\n",
       "      <td>0.0</td>\n",
       "      <td>0.0</td>\n",
       "      <td>0.0</td>\n",
       "      <td>0.0</td>\n",
       "      <td>0.0</td>\n",
       "      <td>...</td>\n",
       "      <td>0.0</td>\n",
       "      <td>0.0</td>\n",
       "      <td>0.0</td>\n",
       "      <td>0.0</td>\n",
       "      <td>0.0</td>\n",
       "      <td>0.0</td>\n",
       "      <td>0.0</td>\n",
       "      <td>0.0</td>\n",
       "      <td>0.0</td>\n",
       "      <td>1.0</td>\n",
       "    </tr>\n",
       "    <tr>\n",
       "      <th>1</th>\n",
       "      <td>1.0</td>\n",
       "      <td>0.0</td>\n",
       "      <td>0.0</td>\n",
       "      <td>1.0</td>\n",
       "      <td>0.0</td>\n",
       "      <td>0.0</td>\n",
       "      <td>0.0</td>\n",
       "      <td>0.0</td>\n",
       "      <td>0.0</td>\n",
       "      <td>0.0</td>\n",
       "      <td>...</td>\n",
       "      <td>0.0</td>\n",
       "      <td>0.0</td>\n",
       "      <td>0.0</td>\n",
       "      <td>0.0</td>\n",
       "      <td>0.0</td>\n",
       "      <td>0.0</td>\n",
       "      <td>0.0</td>\n",
       "      <td>1.0</td>\n",
       "      <td>0.0</td>\n",
       "      <td>0.0</td>\n",
       "    </tr>\n",
       "    <tr>\n",
       "      <th>2</th>\n",
       "      <td>1.0</td>\n",
       "      <td>0.0</td>\n",
       "      <td>1.0</td>\n",
       "      <td>0.0</td>\n",
       "      <td>0.0</td>\n",
       "      <td>0.0</td>\n",
       "      <td>0.0</td>\n",
       "      <td>0.0</td>\n",
       "      <td>0.0</td>\n",
       "      <td>0.0</td>\n",
       "      <td>...</td>\n",
       "      <td>0.0</td>\n",
       "      <td>0.0</td>\n",
       "      <td>0.0</td>\n",
       "      <td>0.0</td>\n",
       "      <td>0.0</td>\n",
       "      <td>0.0</td>\n",
       "      <td>0.0</td>\n",
       "      <td>0.0</td>\n",
       "      <td>0.0</td>\n",
       "      <td>1.0</td>\n",
       "    </tr>\n",
       "    <tr>\n",
       "      <th>3</th>\n",
       "      <td>1.0</td>\n",
       "      <td>0.0</td>\n",
       "      <td>0.0</td>\n",
       "      <td>1.0</td>\n",
       "      <td>0.0</td>\n",
       "      <td>0.0</td>\n",
       "      <td>0.0</td>\n",
       "      <td>0.0</td>\n",
       "      <td>0.0</td>\n",
       "      <td>0.0</td>\n",
       "      <td>...</td>\n",
       "      <td>0.0</td>\n",
       "      <td>0.0</td>\n",
       "      <td>0.0</td>\n",
       "      <td>0.0</td>\n",
       "      <td>1.0</td>\n",
       "      <td>0.0</td>\n",
       "      <td>0.0</td>\n",
       "      <td>0.0</td>\n",
       "      <td>0.0</td>\n",
       "      <td>0.0</td>\n",
       "    </tr>\n",
       "    <tr>\n",
       "      <th>4</th>\n",
       "      <td>1.0</td>\n",
       "      <td>0.0</td>\n",
       "      <td>1.0</td>\n",
       "      <td>0.0</td>\n",
       "      <td>0.0</td>\n",
       "      <td>0.0</td>\n",
       "      <td>0.0</td>\n",
       "      <td>0.0</td>\n",
       "      <td>0.0</td>\n",
       "      <td>0.0</td>\n",
       "      <td>...</td>\n",
       "      <td>0.0</td>\n",
       "      <td>0.0</td>\n",
       "      <td>0.0</td>\n",
       "      <td>0.0</td>\n",
       "      <td>0.0</td>\n",
       "      <td>0.0</td>\n",
       "      <td>0.0</td>\n",
       "      <td>1.0</td>\n",
       "      <td>0.0</td>\n",
       "      <td>0.0</td>\n",
       "    </tr>\n",
       "  </tbody>\n",
       "</table>\n",
       "<p>5 rows × 24 columns</p>\n",
       "</div>"
      ],
      "text/plain": [
       "   Outcome1_Resolved  Age_Group_20s  Age_Group_30s  Age_Group_40s  \\\n",
       "0                1.0            0.0            0.0            0.0   \n",
       "1                1.0            0.0            0.0            1.0   \n",
       "2                1.0            0.0            1.0            0.0   \n",
       "3                1.0            0.0            0.0            1.0   \n",
       "4                1.0            0.0            1.0            0.0   \n",
       "\n",
       "   Age_Group_50s  Age_Group_60s  Age_Group_70s  Age_Group_80s  Age_Group_90s  \\\n",
       "0            1.0            0.0            0.0            0.0            0.0   \n",
       "1            0.0            0.0            0.0            0.0            0.0   \n",
       "2            0.0            0.0            0.0            0.0            0.0   \n",
       "3            0.0            0.0            0.0            0.0            0.0   \n",
       "4            0.0            0.0            0.0            0.0            0.0   \n",
       "\n",
       "   Age_Group_<20  ...  Client_Gender_TRANSGENDER  Client_Gender_UNKNOWN  \\\n",
       "0            0.0  ...                        0.0                    0.0   \n",
       "1            0.0  ...                        0.0                    0.0   \n",
       "2            0.0  ...                        0.0                    0.0   \n",
       "3            0.0  ...                        0.0                    0.0   \n",
       "4            0.0  ...                        0.0                    0.0   \n",
       "\n",
       "   Reporting_PHU_Durham Region Health Department  Reporting_PHU_Other  \\\n",
       "0                                            0.0                  0.0   \n",
       "1                                            0.0                  0.0   \n",
       "2                                            0.0                  0.0   \n",
       "3                                            0.0                  0.0   \n",
       "4                                            0.0                  0.0   \n",
       "\n",
       "   Reporting_PHU_Ottawa Public Health  Reporting_PHU_Peel Public Health  \\\n",
       "0                                 0.0                               0.0   \n",
       "1                                 0.0                               0.0   \n",
       "2                                 0.0                               0.0   \n",
       "3                                 1.0                               0.0   \n",
       "4                                 0.0                               0.0   \n",
       "\n",
       "   Reporting_PHU_Region of Waterloo, Public Health  \\\n",
       "0                                              0.0   \n",
       "1                                              0.0   \n",
       "2                                              0.0   \n",
       "3                                              0.0   \n",
       "4                                              0.0   \n",
       "\n",
       "   Reporting_PHU_Toronto Public Health  \\\n",
       "0                                  0.0   \n",
       "1                                  1.0   \n",
       "2                                  0.0   \n",
       "3                                  0.0   \n",
       "4                                  1.0   \n",
       "\n",
       "   Reporting_PHU_Windsor-Essex County Health Unit  \\\n",
       "0                                             0.0   \n",
       "1                                             0.0   \n",
       "2                                             0.0   \n",
       "3                                             0.0   \n",
       "4                                             0.0   \n",
       "\n",
       "   Reporting_PHU_York Region Public Health Services  \n",
       "0                                               1.0  \n",
       "1                                               0.0  \n",
       "2                                               1.0  \n",
       "3                                               0.0  \n",
       "4                                               0.0  \n",
       "\n",
       "[5 rows x 24 columns]"
      ]
     },
     "execution_count": 27,
     "metadata": {},
     "output_type": "execute_result"
    }
   ],
   "source": [
    "encoded_df2.head()"
   ]
  },
  {
   "cell_type": "markdown",
   "metadata": {},
   "source": [
    "#### **Dataframe information**\n",
    "- dataframe data type\n",
    "- variable list\n",
    "- column unique values"
   ]
  },
  {
   "cell_type": "markdown",
   "metadata": {},
   "source": [
    "#### **Split our training and testing data**\n",
    "- We need to split our training and testing data before fitting our **StandardScaler instance**. This prevents testing data from influencing the standardization function.\n",
    "- To build our training and testing datasets, we need to separate two values:\n",
    "- input values (which are our independent variables commonly referred to as model features or “X” in TensorFlow documentation (Links to an external site.))\n",
    "- target output (our dependent variable commonly referred to as target or “y” in TensorFlow documentation)"
   ]
  },
  {
   "cell_type": "markdown",
   "metadata": {},
   "source": [
    "- **Use Sklearn train_test_split method to split data into training and test**\n",
    "    - X_train, X_test, y_train, y_test \n",
    "- **Prepare dataset for neural network model**\n",
    "    - Normalize or standardize our numerical variables"
   ]
  },
  {
   "cell_type": "code",
   "execution_count": 28,
   "metadata": {},
   "outputs": [],
   "source": [
    "# Split our preprocessed data into our features and target arrays\n",
    "y = encoded_df2[\"Outcome1_Resolved\"].values\n",
    "X = encoded_df2.drop([\"Outcome1_Resolved\"],1).values\n",
    "\n",
    "# Split the preprocessed data into a training and testing dataset\n",
    "X_train, X_test, y_train, y_test = train_test_split(X, y, random_state=78)"
   ]
  },
  {
   "cell_type": "markdown",
   "metadata": {},
   "source": [
    "#### **Tasks**\n",
    "At last, our data is preprocessed and separated and ready for modelling. For our purposes, we will use the same framework we used for our basic neural network:\n",
    "- For our input layer, we must add the number of input features equal to the number of variables in our feature DataFrame.\n",
    "- In our hidden layers, our deep learning model structure will be slightly different—we’ll add two hidden layers with only a few neurons in each layer. To create the second hidden layer, we’ll add another Keras Dense class while defining our model. All of our hidden layers will use the relu activation function to identify nonlinear characteristics from the input values.\n",
    "- In the output layer, we’ll use the same parameters from our basic neural network including the sigmoid activation function. The sigmoid activation function will help us predict the probability that an employee is at risk for attrition."
   ]
  },
  {
   "cell_type": "markdown",
   "metadata": {},
   "source": [
    "#### **Define Model**\n",
    "- Deep neural net\n",
    "- First hidden layer\n",
    "- Second hidden layer\n",
    "- Output layer\n",
    "- Check the structure of the model"
   ]
  },
  {
   "cell_type": "code",
   "execution_count": 30,
   "metadata": {},
   "outputs": [
    {
     "name": "stdout",
     "output_type": "stream",
     "text": [
      "WARNING:tensorflow:From C:\\Users\\rp008\\anaconda3\\envs\\PythonData\\lib\\site-packages\\tensorflow\\python\\ops\\init_ops.py:1251: calling VarianceScaling.__init__ (from tensorflow.python.ops.init_ops) with dtype is deprecated and will be removed in a future version.\n",
      "Instructions for updating:\n",
      "Call initializer instance with the dtype argument instead of passing it to the constructor\n",
      "Model: \"sequential\"\n",
      "_________________________________________________________________\n",
      "Layer (type)                 Output Shape              Param #   \n",
      "=================================================================\n",
      "dense (Dense)                (None, 8)                 192       \n",
      "_________________________________________________________________\n",
      "dense_1 (Dense)              (None, 5)                 45        \n",
      "_________________________________________________________________\n",
      "dense_2 (Dense)              (None, 1)                 6         \n",
      "=================================================================\n",
      "Total params: 243\n",
      "Trainable params: 243\n",
      "Non-trainable params: 0\n",
      "_________________________________________________________________\n"
     ]
    }
   ],
   "source": [
    "# Define the model - deep neural net\n",
    "number_input_features = len(X_train[0])\n",
    "hidden_nodes_layer1 =  8\n",
    "hidden_nodes_layer2 = 5\n",
    "\n",
    "nn = tf.keras.models.Sequential()\n",
    "\n",
    "# First hidden layer\n",
    "nn.add(\n",
    "    tf.keras.layers.Dense(units=hidden_nodes_layer1, input_dim=number_input_features, activation=\"relu\")\n",
    ")\n",
    "\n",
    "# Second hidden layer\n",
    "nn.add(tf.keras.layers.Dense(units=hidden_nodes_layer2, activation=\"relu\"))\n",
    "\n",
    "# Output layer\n",
    "nn.add(tf.keras.layers.Dense(units=1, activation=\"sigmoid\"))\n",
    "\n",
    "# Check the structure of the model\n",
    "nn.summary()"
   ]
  },
  {
   "cell_type": "markdown",
   "metadata": {},
   "source": [
    "Now it is time to compile our model and define the loss and accuracy metrics. Since we want to use our model as a binary classifier, we’ll use the **binary_crossentropy loss function**, **adam optimizer**, and **accuracy metrics**, which are the same parameters we used for our basic neural network. To compile the model, add and run the following code:"
   ]
  },
  {
   "cell_type": "markdown",
   "metadata": {},
   "source": [
    "#### **Compile neural network**\n",
    "- Use **adam optimizer**, which uses a gradient descent approach to ensure that the algorithm will not get stuck on weaker classifying variables and feature\n",
    "- The **loss metric** is used by machine learning algorithms to score the performance of the model through each iteration and **epoch** by evaluating the inaccuracy of a single input.\n",
    "- Use **binary_crossentropy**, which is specifically designed to evaluate a binary classification mode"
   ]
  },
  {
   "cell_type": "code",
   "execution_count": 31,
   "metadata": {},
   "outputs": [
    {
     "name": "stdout",
     "output_type": "stream",
     "text": [
      "WARNING:tensorflow:From C:\\Users\\rp008\\anaconda3\\envs\\PythonData\\lib\\site-packages\\tensorflow\\python\\ops\\nn_impl.py:180: add_dispatch_support.<locals>.wrapper (from tensorflow.python.ops.array_ops) is deprecated and will be removed in a future version.\n",
      "Instructions for updating:\n",
      "Use tf.where in 2.0, which has the same broadcast rule as np.where\n"
     ]
    }
   ],
   "source": [
    "# Compile the model\n",
    "nn.compile(loss=\"binary_crossentropy\", optimizer=\"adam\", metrics=[\"accuracy\"])"
   ]
  },
  {
   "cell_type": "markdown",
   "metadata": {},
   "source": [
    "#### **Train Model**\n",
    "Training and evaluating the deep learning model is no different from a basic neural network. Depending on the complexity of the dataset, we may opt to increase the number of epochs to allow for the deep learning model more opportunities to optimize the weight coefficients. To train our model, we must add and run the following code:"
   ]
  },
  {
   "cell_type": "code",
   "execution_count": 33,
   "metadata": {},
   "outputs": [
    {
     "name": "stdout",
     "output_type": "stream",
     "text": [
      "Epoch 1/10\n",
      "25878/25878 [==============================] - 3s 104us/sample - loss: 0.1835 - acc: 0.9224\n",
      "Epoch 2/10\n",
      "25878/25878 [==============================] - 3s 126us/sample - loss: 0.1835 - acc: 0.9221\n",
      "Epoch 3/10\n",
      "25878/25878 [==============================] - 3s 112us/sample - loss: 0.1835 - acc: 0.9222\n",
      "Epoch 4/10\n",
      "25878/25878 [==============================] - 3s 125us/sample - loss: 0.1835 - acc: 0.9223s - \n",
      "Epoch 5/10\n",
      "25878/25878 [==============================] - 3s 130us/sample - loss: 0.1834 - acc: 0.9222\n",
      "Epoch 6/10\n",
      "25878/25878 [==============================] - 3s 112us/sample - loss: 0.1835 - acc: 0.9223\n",
      "Epoch 7/10\n",
      "25878/25878 [==============================] - 3s 97us/sample - loss: 0.1834 - acc: 0.9221\n",
      "Epoch 8/10\n",
      "25878/25878 [==============================] - 4s 135us/sample - loss: 0.1834 - acc: 0.9223\n",
      "Epoch 9/10\n",
      "25878/25878 [==============================] - 3s 125us/sample - loss: 0.1834 - acc: 0.9222\n",
      "Epoch 10/10\n",
      "25878/25878 [==============================] - 3s 101us/sample - loss: 0.1834 - acc: 0.9223\n"
     ]
    }
   ],
   "source": [
    "# Train the model\n",
    "fit_model = nn.fit(X_train,y_train,epochs=10) #epochs (run through the data)"
   ]
  },
  {
   "cell_type": "code",
   "execution_count": 34,
   "metadata": {},
   "outputs": [
    {
     "name": "stdout",
     "output_type": "stream",
     "text": [
      "8627/8627 - 0s - loss: 0.1868 - acc: 0.9233\n",
      "Loss: 0.1868220557805988, Accuracy: 0.9232641458511353\n"
     ]
    }
   ],
   "source": [
    "# Evaluate the model using the test data\n",
    "model_loss, model_accuracy = nn.evaluate(X_test,y_test,verbose=2)\n",
    "print(f\"Loss: {model_loss}, Accuracy: {model_accuracy}\")"
   ]
  },
  {
   "cell_type": "markdown",
   "metadata": {},
   "source": [
    "#### **Summary**"
   ]
  },
  {
   "cell_type": "markdown",
   "metadata": {},
   "source": [
    "Looking at the performance metrics from the model, the neural network was able to correctly classify each of the points in the test data. In other words, the model was able to correctly classify data it was not trained on **92%** of the time. Although perfect model performance is ideal, more complex datasets and models may not be able to achieve 100% accuracy. Therefore, it is important to establish model performance thresholds before designing any machine learning mode. As seen from the results of the **Deep Learning** model metrics, the observation made was that the model correctly identified **Ontario Public Health Autority** data to be **92%** accurate"
   ]
  },
  {
   "cell_type": "markdown",
   "metadata": {},
   "source": [
    "### **Plot PHU Hotspots in Ontario Canada**"
   ]
  },
  {
   "cell_type": "code",
   "execution_count": null,
   "metadata": {},
   "outputs": [],
   "source": [
    "from plotly.offline import plot\n",
    "import plotly.graph_objs as go\n",
    "fig = px.scatter_mapbox(data_df, lat=\"Reporting_PHU_Latitude\", lon=\"Reporting_PHU_Longitude\",  \n",
    "            color=\"OnsetWithin\", \n",
    "            color_discrete_sequence=[\"red\", \"darkblue\", \"yellow\", \"white\"], \n",
    "            size=\"Cases\", hover_name=\"Reporting_PHU\", \n",
    "            size_max=28, zoom=5.4, \n",
    "            center=dict(lat=45,lon=-79.4), \n",
    "            height=800, \n",
    "            labels={\"OnsetWithin\" : \"Onset w/in Date\"},\n",
    "            title=\" Confirmed Cases per Public Health Unit\" )\n",
    "fig.update_layout(mapbox_style=\"open-street-map\")\n",
    "fig.show()\n",
    "plot(fig, auto_open=True)"
   ]
  },
  {
   "cell_type": "code",
   "execution_count": null,
   "metadata": {},
   "outputs": [],
   "source": []
  }
 ],
 "metadata": {
  "kernelspec": {
   "display_name": "Python 3",
   "language": "python",
   "name": "python3"
  },
  "language_info": {
   "codemirror_mode": {
    "name": "ipython",
    "version": 3
   },
   "file_extension": ".py",
   "mimetype": "text/x-python",
   "name": "python",
   "nbconvert_exporter": "python",
   "pygments_lexer": "ipython3",
   "version": "3.7.6"
  }
 },
 "nbformat": 4,
 "nbformat_minor": 4
}
